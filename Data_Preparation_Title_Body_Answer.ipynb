{
 "cells": [
  {
   "cell_type": "code",
   "execution_count": 1,
   "metadata": {
    "collapsed": true
   },
   "outputs": [],
   "source": [
    "import pandas as pd\n",
    "df1=pd.read_csv(r'C:\\Users\\Abhishek\\Desktop\\CaseStudy1\\stack4\\movie_posts.csv',encoding='latin1')\n",
    "# df1=pd.read_csv(r'C:\\Users\\Abhishek\\Desktop\\CaseStudy1\\stack4\\fitess_posts.csv',encoding='latin1')"
   ]
  },
  {
   "cell_type": "code",
   "execution_count": null,
   "metadata": {
    "collapsed": true
   },
   "outputs": [],
   "source": []
  },
  {
   "cell_type": "code",
   "execution_count": 2,
   "metadata": {},
   "outputs": [
    {
     "data": {
      "text/plain": [
       "Index(['_Id', '_PostTypeId', '_AcceptedAnswerId', '_CreationDate', '_Score',\n",
       "       '_ViewCount', '_Body', '_OwnerUserId', '_LastEditorUserId',\n",
       "       '_LastEditDate', '_LastActivityDate', '_Title', '_Tags', '_AnswerCount',\n",
       "       '_CommentCount', '_ParentId', '_FavoriteCount',\n",
       "       '_LastEditorDisplayName', '_ClosedDate', '_OwnerDisplayName',\n",
       "       '_CommunityOwnedDate'],\n",
       "      dtype='object')"
      ]
     },
     "execution_count": 2,
     "metadata": {},
     "output_type": "execute_result"
    }
   ],
   "source": [
    "df1.columns"
   ]
  },
  {
   "cell_type": "code",
   "execution_count": 3,
   "metadata": {},
   "outputs": [
    {
     "data": {
      "text/plain": [
       "54318"
      ]
     },
     "execution_count": 3,
     "metadata": {},
     "output_type": "execute_result"
    }
   ],
   "source": [
    "len(df1)"
   ]
  },
  {
   "cell_type": "code",
   "execution_count": 4,
   "metadata": {},
   "outputs": [
    {
     "name": "stdout",
     "output_type": "stream",
     "text": [
      "<class 'pandas.core.frame.DataFrame'>\n",
      "RangeIndex: 54318 entries, 0 to 54317\n",
      "Data columns (total 21 columns):\n",
      "_Id                       54318 non-null int64\n",
      "_PostTypeId               54318 non-null int64\n",
      "_AcceptedAnswerId         11633 non-null float64\n",
      "_CreationDate             54318 non-null object\n",
      "_Score                    54318 non-null int64\n",
      "_ViewCount                18905 non-null float64\n",
      "_Body                     53249 non-null object\n",
      "_OwnerUserId              52842 non-null float64\n",
      "_LastEditorUserId         33090 non-null float64\n",
      "_LastEditDate             33726 non-null object\n",
      "_LastActivityDate         54318 non-null object\n",
      "_Title                    18905 non-null object\n",
      "_Tags                     18905 non-null object\n",
      "_AnswerCount              18905 non-null float64\n",
      "_CommentCount             54318 non-null int64\n",
      "_ParentId                 31309 non-null float64\n",
      "_FavoriteCount            10849 non-null float64\n",
      "_LastEditorDisplayName    809 non-null object\n",
      "_ClosedDate               1911 non-null object\n",
      "_OwnerDisplayName         1632 non-null object\n",
      "_CommunityOwnedDate       59 non-null object\n",
      "dtypes: float64(7), int64(4), object(10)\n",
      "memory usage: 8.7+ MB\n"
     ]
    }
   ],
   "source": [
    "df1.info()"
   ]
  },
  {
   "cell_type": "code",
   "execution_count": 5,
   "metadata": {
    "collapsed": true
   },
   "outputs": [],
   "source": [
    "df2 = df1[pd.notnull(df1['_Id'])]"
   ]
  },
  {
   "cell_type": "code",
   "execution_count": 6,
   "metadata": {},
   "outputs": [
    {
     "name": "stdout",
     "output_type": "stream",
     "text": [
      "<class 'pandas.core.frame.DataFrame'>\n",
      "Int64Index: 54318 entries, 0 to 54317\n",
      "Data columns (total 21 columns):\n",
      "_Id                       54318 non-null int64\n",
      "_PostTypeId               54318 non-null int64\n",
      "_AcceptedAnswerId         11633 non-null float64\n",
      "_CreationDate             54318 non-null object\n",
      "_Score                    54318 non-null int64\n",
      "_ViewCount                18905 non-null float64\n",
      "_Body                     53249 non-null object\n",
      "_OwnerUserId              52842 non-null float64\n",
      "_LastEditorUserId         33090 non-null float64\n",
      "_LastEditDate             33726 non-null object\n",
      "_LastActivityDate         54318 non-null object\n",
      "_Title                    18905 non-null object\n",
      "_Tags                     18905 non-null object\n",
      "_AnswerCount              18905 non-null float64\n",
      "_CommentCount             54318 non-null int64\n",
      "_ParentId                 31309 non-null float64\n",
      "_FavoriteCount            10849 non-null float64\n",
      "_LastEditorDisplayName    809 non-null object\n",
      "_ClosedDate               1911 non-null object\n",
      "_OwnerDisplayName         1632 non-null object\n",
      "_CommunityOwnedDate       59 non-null object\n",
      "dtypes: float64(7), int64(4), object(10)\n",
      "memory usage: 9.1+ MB\n"
     ]
    }
   ],
   "source": [
    "df2.info()"
   ]
  },
  {
   "cell_type": "code",
   "execution_count": 7,
   "metadata": {
    "collapsed": true
   },
   "outputs": [],
   "source": [
    "# df2[pd.notnull(df2['_Id'])].shape"
   ]
  },
  {
   "cell_type": "code",
   "execution_count": 8,
   "metadata": {},
   "outputs": [
    {
     "data": {
      "text/plain": [
       "54318"
      ]
     },
     "execution_count": 8,
     "metadata": {},
     "output_type": "execute_result"
    }
   ],
   "source": [
    "len(df2)"
   ]
  },
  {
   "cell_type": "code",
   "execution_count": 9,
   "metadata": {
    "collapsed": true
   },
   "outputs": [],
   "source": [
    "df2=df2[['_Id','_PostTypeId','_AcceptedAnswerId','_ParentId','_Score','_ViewCount','_Body','_Title','_Tags','_AnswerCount']]"
   ]
  },
  {
   "cell_type": "code",
   "execution_count": 10,
   "metadata": {
    "collapsed": true
   },
   "outputs": [],
   "source": [
    "# df1=pd.read_csv(r'C:\\Users\\Abhishek\\Desktop\\CaseStudy1\\stack4\\Hinduism_posts.csv',encoding='latin1')\n",
    "# df2=pd.read_csv(r'C:\\Users\\Abhishek\\Desktop\\CaseStudy1\\stack4\\fitess_posts.csv')\n",
    "# df=df1.append(df2)\n",
    "\n",
    "# print(df1.shape)\n",
    "# print(df2.shape)\n",
    "# print(df.shape)"
   ]
  },
  {
   "cell_type": "code",
   "execution_count": 11,
   "metadata": {
    "collapsed": true
   },
   "outputs": [],
   "source": [
    "# df=df[pd.notnull(df['_Id'])]"
   ]
  },
  {
   "cell_type": "code",
   "execution_count": 12,
   "metadata": {
    "collapsed": true
   },
   "outputs": [],
   "source": [
    "# df2=df[['_Id','_PostTypeId','_AcceptedAnswerId','_ParentId','_Score','_ViewCount','_Body','_Title','_Tags','_AnswerCount']]"
   ]
  },
  {
   "cell_type": "code",
   "execution_count": 13,
   "metadata": {
    "collapsed": true
   },
   "outputs": [],
   "source": [
    "# df2.head(5)"
   ]
  },
  {
   "cell_type": "code",
   "execution_count": 14,
   "metadata": {},
   "outputs": [
    {
     "data": {
      "text/plain": [
       "(18905, 10)"
      ]
     },
     "execution_count": 14,
     "metadata": {},
     "output_type": "execute_result"
    }
   ],
   "source": [
    "df2[df2['_PostTypeId']==1].shape"
   ]
  },
  {
   "cell_type": "code",
   "execution_count": 15,
   "metadata": {
    "collapsed": true
   },
   "outputs": [],
   "source": [
    "Questions=df2[df2['_PostTypeId']==1]\n",
    "Answers=df2[df2['_PostTypeId']==2]"
   ]
  },
  {
   "cell_type": "code",
   "execution_count": 16,
   "metadata": {},
   "outputs": [
    {
     "name": "stdout",
     "output_type": "stream",
     "text": [
      "(54318, 10)\n",
      "18905\n",
      "31309\n"
     ]
    }
   ],
   "source": [
    "print(df2.shape)\n",
    "print(len(Questions))\n",
    "print(len(Answers))"
   ]
  },
  {
   "cell_type": "code",
   "execution_count": 17,
   "metadata": {
    "collapsed": true
   },
   "outputs": [],
   "source": [
    "# Questions=Questions.drop(['index','_ParentId'], axis = 1)\n",
    "# Questions.reset_index(inplace=True)"
   ]
  },
  {
   "cell_type": "code",
   "execution_count": 18,
   "metadata": {},
   "outputs": [
    {
     "name": "stdout",
     "output_type": "stream",
     "text": [
      "<class 'pandas.core.frame.DataFrame'>\n",
      "Int64Index: 18905 entries, 0 to 54311\n",
      "Data columns (total 10 columns):\n",
      "_Id                  18905 non-null int64\n",
      "_PostTypeId          18905 non-null int64\n",
      "_AcceptedAnswerId    11633 non-null float64\n",
      "_ParentId            0 non-null float64\n",
      "_Score               18905 non-null int64\n",
      "_ViewCount           18905 non-null float64\n",
      "_Body                18905 non-null object\n",
      "_Title               18905 non-null object\n",
      "_Tags                18905 non-null object\n",
      "_AnswerCount         18905 non-null float64\n",
      "dtypes: float64(4), int64(3), object(3)\n",
      "memory usage: 1.6+ MB\n"
     ]
    }
   ],
   "source": [
    "Questions.info()"
   ]
  },
  {
   "cell_type": "code",
   "execution_count": 19,
   "metadata": {
    "collapsed": true
   },
   "outputs": [],
   "source": [
    "Questions=Questions.drop(['_ParentId'], axis = 1)\n",
    "# Questions.reset_index(inplace=True)"
   ]
  },
  {
   "cell_type": "code",
   "execution_count": 20,
   "metadata": {
    "collapsed": true
   },
   "outputs": [],
   "source": [
    "Questions.reset_index(inplace=True)"
   ]
  },
  {
   "cell_type": "code",
   "execution_count": 21,
   "metadata": {},
   "outputs": [
    {
     "data": {
      "text/plain": [
       "18905"
      ]
     },
     "execution_count": 21,
     "metadata": {},
     "output_type": "execute_result"
    }
   ],
   "source": [
    "len(Questions)"
   ]
  },
  {
   "cell_type": "code",
   "execution_count": 22,
   "metadata": {
    "scrolled": true
   },
   "outputs": [
    {
     "name": "stdout",
     "output_type": "stream",
     "text": [
      "<class 'pandas.core.frame.DataFrame'>\n",
      "RangeIndex: 18905 entries, 0 to 18904\n",
      "Data columns (total 10 columns):\n",
      "index                18905 non-null int64\n",
      "_Id                  18905 non-null int64\n",
      "_PostTypeId          18905 non-null int64\n",
      "_AcceptedAnswerId    11633 non-null float64\n",
      "_Score               18905 non-null int64\n",
      "_ViewCount           18905 non-null float64\n",
      "_Body                18905 non-null object\n",
      "_Title               18905 non-null object\n",
      "_Tags                18905 non-null object\n",
      "_AnswerCount         18905 non-null float64\n",
      "dtypes: float64(3), int64(4), object(3)\n",
      "memory usage: 1.4+ MB\n"
     ]
    }
   ],
   "source": [
    "Questions.info()"
   ]
  },
  {
   "cell_type": "code",
   "execution_count": 23,
   "metadata": {
    "collapsed": true
   },
   "outputs": [],
   "source": [
    "Answers=Answers.drop(['_AcceptedAnswerId','_ViewCount','_Title','_Tags','_AnswerCount'], axis = 1)\n",
    "# Answers.reset_index(inplace=True)"
   ]
  },
  {
   "cell_type": "code",
   "execution_count": 24,
   "metadata": {},
   "outputs": [
    {
     "data": {
      "text/html": [
       "<div>\n",
       "<style>\n",
       "    .dataframe thead tr:only-child th {\n",
       "        text-align: right;\n",
       "    }\n",
       "\n",
       "    .dataframe thead th {\n",
       "        text-align: left;\n",
       "    }\n",
       "\n",
       "    .dataframe tbody tr th {\n",
       "        vertical-align: top;\n",
       "    }\n",
       "</style>\n",
       "<table border=\"1\" class=\"dataframe\">\n",
       "  <thead>\n",
       "    <tr style=\"text-align: right;\">\n",
       "      <th></th>\n",
       "      <th>index</th>\n",
       "      <th>_Id</th>\n",
       "      <th>_PostTypeId</th>\n",
       "      <th>_AcceptedAnswerId</th>\n",
       "      <th>_Score</th>\n",
       "      <th>_ViewCount</th>\n",
       "      <th>_Body</th>\n",
       "      <th>_Title</th>\n",
       "      <th>_Tags</th>\n",
       "      <th>_AnswerCount</th>\n",
       "    </tr>\n",
       "  </thead>\n",
       "  <tbody>\n",
       "    <tr>\n",
       "      <th>0</th>\n",
       "      <td>0</td>\n",
       "      <td>1</td>\n",
       "      <td>1</td>\n",
       "      <td>2776.0</td>\n",
       "      <td>29</td>\n",
       "      <td>6093.0</td>\n",
       "      <td>&lt;p&gt;Some comedian/actors are given creative fre...</td>\n",
       "      <td>To what extent were the actors in Wedding Cras...</td>\n",
       "      <td>&lt;wedding-crashers&gt;</td>\n",
       "      <td>2.0</td>\n",
       "    </tr>\n",
       "    <tr>\n",
       "      <th>1</th>\n",
       "      <td>2</td>\n",
       "      <td>3</td>\n",
       "      <td>1</td>\n",
       "      <td>814.0</td>\n",
       "      <td>29</td>\n",
       "      <td>1714.0</td>\n",
       "      <td>&lt;p&gt;In his Star Wars Episode 1 &lt;a href=\"https:/...</td>\n",
       "      <td>Evaluating characters by means of description</td>\n",
       "      <td>&lt;analysis&gt;&lt;star-wars&gt;</td>\n",
       "      <td>2.0</td>\n",
       "    </tr>\n",
       "    <tr>\n",
       "      <th>2</th>\n",
       "      <td>3</td>\n",
       "      <td>4</td>\n",
       "      <td>1</td>\n",
       "      <td>120.0</td>\n",
       "      <td>56</td>\n",
       "      <td>2844.0</td>\n",
       "      <td>&lt;p&gt;I'm a big fan of the Pink Panther movies (t...</td>\n",
       "      <td>Was the original \"Pink Panther\" movie intended...</td>\n",
       "      <td>&lt;comedy&gt;&lt;the-pink-panther&gt;</td>\n",
       "      <td>5.0</td>\n",
       "    </tr>\n",
       "    <tr>\n",
       "      <th>3</th>\n",
       "      <td>4</td>\n",
       "      <td>6</td>\n",
       "      <td>1</td>\n",
       "      <td>21.0</td>\n",
       "      <td>16</td>\n",
       "      <td>5299.0</td>\n",
       "      <td>&lt;p&gt;At the end of the movie, adult Jack (Sean P...</td>\n",
       "      <td>What does the ending of The Tree of Life mean?</td>\n",
       "      <td>&lt;plot-explanation&gt;&lt;analysis&gt;&lt;ending&gt;&lt;the-tree-...</td>\n",
       "      <td>2.0</td>\n",
       "    </tr>\n",
       "    <tr>\n",
       "      <th>4</th>\n",
       "      <td>6</td>\n",
       "      <td>10</td>\n",
       "      <td>1</td>\n",
       "      <td>NaN</td>\n",
       "      <td>21</td>\n",
       "      <td>28514.0</td>\n",
       "      <td>&lt;p&gt;Frank Costello the mob boss, one of the mai...</td>\n",
       "      <td>Did the FBI know about the mole in the police ...</td>\n",
       "      <td>&lt;plot-explanation&gt;&lt;the-departed&gt;</td>\n",
       "      <td>1.0</td>\n",
       "    </tr>\n",
       "  </tbody>\n",
       "</table>\n",
       "</div>"
      ],
      "text/plain": [
       "   index  _Id  _PostTypeId  _AcceptedAnswerId  _Score  _ViewCount  \\\n",
       "0      0    1            1             2776.0      29      6093.0   \n",
       "1      2    3            1              814.0      29      1714.0   \n",
       "2      3    4            1              120.0      56      2844.0   \n",
       "3      4    6            1               21.0      16      5299.0   \n",
       "4      6   10            1                NaN      21     28514.0   \n",
       "\n",
       "                                               _Body  \\\n",
       "0  <p>Some comedian/actors are given creative fre...   \n",
       "1  <p>In his Star Wars Episode 1 <a href=\"https:/...   \n",
       "2  <p>I'm a big fan of the Pink Panther movies (t...   \n",
       "3  <p>At the end of the movie, adult Jack (Sean P...   \n",
       "4  <p>Frank Costello the mob boss, one of the mai...   \n",
       "\n",
       "                                              _Title  \\\n",
       "0  To what extent were the actors in Wedding Cras...   \n",
       "1      Evaluating characters by means of description   \n",
       "2  Was the original \"Pink Panther\" movie intended...   \n",
       "3     What does the ending of The Tree of Life mean?   \n",
       "4  Did the FBI know about the mole in the police ...   \n",
       "\n",
       "                                               _Tags  _AnswerCount  \n",
       "0                                 <wedding-crashers>           2.0  \n",
       "1                              <analysis><star-wars>           2.0  \n",
       "2                         <comedy><the-pink-panther>           5.0  \n",
       "3  <plot-explanation><analysis><ending><the-tree-...           2.0  \n",
       "4                   <plot-explanation><the-departed>           1.0  "
      ]
     },
     "execution_count": 24,
     "metadata": {},
     "output_type": "execute_result"
    }
   ],
   "source": [
    "Questions.head()"
   ]
  },
  {
   "cell_type": "code",
   "execution_count": 25,
   "metadata": {
    "collapsed": true
   },
   "outputs": [],
   "source": [
    "# Questions"
   ]
  },
  {
   "cell_type": "code",
   "execution_count": 26,
   "metadata": {},
   "outputs": [
    {
     "data": {
      "text/plain": [
       "'<p>Some comedian/actors are given creative freedom and improvise at times when producing a new film. Is there any evidence that Vince Vaughn or Owen Wilson improvised in any scenes, diverging from the script, in the film Wedding Crashers?</p>\\r\\n'"
      ]
     },
     "execution_count": 26,
     "metadata": {},
     "output_type": "execute_result"
    }
   ],
   "source": [
    "Questions[\"_Body\"][0]"
   ]
  },
  {
   "cell_type": "code",
   "execution_count": 27,
   "metadata": {},
   "outputs": [
    {
     "data": {
      "text/html": [
       "<div>\n",
       "<style>\n",
       "    .dataframe thead tr:only-child th {\n",
       "        text-align: right;\n",
       "    }\n",
       "\n",
       "    .dataframe thead th {\n",
       "        text-align: left;\n",
       "    }\n",
       "\n",
       "    .dataframe tbody tr th {\n",
       "        vertical-align: top;\n",
       "    }\n",
       "</style>\n",
       "<table border=\"1\" class=\"dataframe\">\n",
       "  <thead>\n",
       "    <tr style=\"text-align: right;\">\n",
       "      <th></th>\n",
       "      <th>_Id</th>\n",
       "      <th>_PostTypeId</th>\n",
       "      <th>_ParentId</th>\n",
       "      <th>_Score</th>\n",
       "      <th>_Body</th>\n",
       "    </tr>\n",
       "  </thead>\n",
       "  <tbody>\n",
       "    <tr>\n",
       "      <th>1</th>\n",
       "      <td>2</td>\n",
       "      <td>2</td>\n",
       "      <td>1.0</td>\n",
       "      <td>14</td>\n",
       "      <td>&lt;p&gt;According to the &lt;a href=\"http://www.imdb.c...</td>\n",
       "    </tr>\n",
       "    <tr>\n",
       "      <th>5</th>\n",
       "      <td>8</td>\n",
       "      <td>2</td>\n",
       "      <td>4.0</td>\n",
       "      <td>8</td>\n",
       "      <td>&lt;p&gt;Yes, I saw documentaries with &lt;strong&gt;Blake...</td>\n",
       "    </tr>\n",
       "    <tr>\n",
       "      <th>13</th>\n",
       "      <td>17</td>\n",
       "      <td>2</td>\n",
       "      <td>12.0</td>\n",
       "      <td>14</td>\n",
       "      <td>&lt;p&gt;I don't know who chose him, probably a comb...</td>\n",
       "    </tr>\n",
       "    <tr>\n",
       "      <th>16</th>\n",
       "      <td>21</td>\n",
       "      <td>2</td>\n",
       "      <td>6.0</td>\n",
       "      <td>13</td>\n",
       "      <td>&lt;p&gt;The meaning, as far as I can tell, is that ...</td>\n",
       "    </tr>\n",
       "    <tr>\n",
       "      <th>18</th>\n",
       "      <td>24</td>\n",
       "      <td>2</td>\n",
       "      <td>20.0</td>\n",
       "      <td>9</td>\n",
       "      <td>&lt;p&gt;In similar fashion, we have no explanation ...</td>\n",
       "    </tr>\n",
       "  </tbody>\n",
       "</table>\n",
       "</div>"
      ],
      "text/plain": [
       "    _Id  _PostTypeId  _ParentId  _Score  \\\n",
       "1     2            2        1.0      14   \n",
       "5     8            2        4.0       8   \n",
       "13   17            2       12.0      14   \n",
       "16   21            2        6.0      13   \n",
       "18   24            2       20.0       9   \n",
       "\n",
       "                                                _Body  \n",
       "1   <p>According to the <a href=\"http://www.imdb.c...  \n",
       "5   <p>Yes, I saw documentaries with <strong>Blake...  \n",
       "13  <p>I don't know who chose him, probably a comb...  \n",
       "16  <p>The meaning, as far as I can tell, is that ...  \n",
       "18  <p>In similar fashion, we have no explanation ...  "
      ]
     },
     "execution_count": 27,
     "metadata": {},
     "output_type": "execute_result"
    }
   ],
   "source": [
    "Answers.head()"
   ]
  },
  {
   "cell_type": "code",
   "execution_count": 28,
   "metadata": {
    "collapsed": true
   },
   "outputs": [],
   "source": [
    "# Answers['_Body'][4]"
   ]
  },
  {
   "cell_type": "code",
   "execution_count": 29,
   "metadata": {},
   "outputs": [
    {
     "name": "stdout",
     "output_type": "stream",
     "text": [
      "Check  2\n"
     ]
    }
   ],
   "source": [
    "l=[]\n",
    "for i in range(len(Questions)):\n",
    "    a=Answers['_Body'][Answers['_ParentId']==Questions[\"_Id\"][i]]\n",
    "    if Questions[\"_Id\"][i]==3:\n",
    "        print('Check ',len(a))\n",
    "    l.append(' '.join(map(str, list(a))))"
   ]
  },
  {
   "cell_type": "code",
   "execution_count": 30,
   "metadata": {
    "collapsed": true
   },
   "outputs": [],
   "source": [
    "# l[2]"
   ]
  },
  {
   "cell_type": "code",
   "execution_count": 32,
   "metadata": {},
   "outputs": [
    {
     "data": {
      "text/plain": [
       "18905"
      ]
     },
     "execution_count": 32,
     "metadata": {},
     "output_type": "execute_result"
    }
   ],
   "source": [
    "len(l)"
   ]
  },
  {
   "cell_type": "code",
   "execution_count": 33,
   "metadata": {
    "collapsed": true
   },
   "outputs": [],
   "source": [
    "Questions['Ans']=l"
   ]
  },
  {
   "cell_type": "code",
   "execution_count": 34,
   "metadata": {},
   "outputs": [
    {
     "data": {
      "text/html": [
       "<div>\n",
       "<style>\n",
       "    .dataframe thead tr:only-child th {\n",
       "        text-align: right;\n",
       "    }\n",
       "\n",
       "    .dataframe thead th {\n",
       "        text-align: left;\n",
       "    }\n",
       "\n",
       "    .dataframe tbody tr th {\n",
       "        vertical-align: top;\n",
       "    }\n",
       "</style>\n",
       "<table border=\"1\" class=\"dataframe\">\n",
       "  <thead>\n",
       "    <tr style=\"text-align: right;\">\n",
       "      <th></th>\n",
       "      <th>index</th>\n",
       "      <th>_Id</th>\n",
       "      <th>_PostTypeId</th>\n",
       "      <th>_AcceptedAnswerId</th>\n",
       "      <th>_Score</th>\n",
       "      <th>_ViewCount</th>\n",
       "      <th>_Body</th>\n",
       "      <th>_Title</th>\n",
       "      <th>_Tags</th>\n",
       "      <th>_AnswerCount</th>\n",
       "      <th>Ans</th>\n",
       "    </tr>\n",
       "  </thead>\n",
       "  <tbody>\n",
       "    <tr>\n",
       "      <th>0</th>\n",
       "      <td>0</td>\n",
       "      <td>1</td>\n",
       "      <td>1</td>\n",
       "      <td>2776.0</td>\n",
       "      <td>29</td>\n",
       "      <td>6093.0</td>\n",
       "      <td>&lt;p&gt;Some comedian/actors are given creative fre...</td>\n",
       "      <td>To what extent were the actors in Wedding Cras...</td>\n",
       "      <td>&lt;wedding-crashers&gt;</td>\n",
       "      <td>2.0</td>\n",
       "      <td>&lt;p&gt;According to the &lt;a href=\"http://www.imdb.c...</td>\n",
       "    </tr>\n",
       "    <tr>\n",
       "      <th>1</th>\n",
       "      <td>2</td>\n",
       "      <td>3</td>\n",
       "      <td>1</td>\n",
       "      <td>814.0</td>\n",
       "      <td>29</td>\n",
       "      <td>1714.0</td>\n",
       "      <td>&lt;p&gt;In his Star Wars Episode 1 &lt;a href=\"https:/...</td>\n",
       "      <td>Evaluating characters by means of description</td>\n",
       "      <td>&lt;analysis&gt;&lt;star-wars&gt;</td>\n",
       "      <td>2.0</td>\n",
       "      <td>&lt;p&gt;I don't think this way of analyzing a chara...</td>\n",
       "    </tr>\n",
       "    <tr>\n",
       "      <th>2</th>\n",
       "      <td>3</td>\n",
       "      <td>4</td>\n",
       "      <td>1</td>\n",
       "      <td>120.0</td>\n",
       "      <td>56</td>\n",
       "      <td>2844.0</td>\n",
       "      <td>&lt;p&gt;I'm a big fan of the Pink Panther movies (t...</td>\n",
       "      <td>Was the original \"Pink Panther\" movie intended...</td>\n",
       "      <td>&lt;comedy&gt;&lt;the-pink-panther&gt;</td>\n",
       "      <td>5.0</td>\n",
       "      <td>&lt;p&gt;Yes, I saw documentaries with &lt;strong&gt;Blake...</td>\n",
       "    </tr>\n",
       "    <tr>\n",
       "      <th>3</th>\n",
       "      <td>4</td>\n",
       "      <td>6</td>\n",
       "      <td>1</td>\n",
       "      <td>21.0</td>\n",
       "      <td>16</td>\n",
       "      <td>5299.0</td>\n",
       "      <td>&lt;p&gt;At the end of the movie, adult Jack (Sean P...</td>\n",
       "      <td>What does the ending of The Tree of Life mean?</td>\n",
       "      <td>&lt;plot-explanation&gt;&lt;analysis&gt;&lt;ending&gt;&lt;the-tree-...</td>\n",
       "      <td>2.0</td>\n",
       "      <td>&lt;p&gt;The meaning, as far as I can tell, is that ...</td>\n",
       "    </tr>\n",
       "    <tr>\n",
       "      <th>4</th>\n",
       "      <td>6</td>\n",
       "      <td>10</td>\n",
       "      <td>1</td>\n",
       "      <td>NaN</td>\n",
       "      <td>21</td>\n",
       "      <td>28514.0</td>\n",
       "      <td>&lt;p&gt;Frank Costello the mob boss, one of the mai...</td>\n",
       "      <td>Did the FBI know about the mole in the police ...</td>\n",
       "      <td>&lt;plot-explanation&gt;&lt;the-departed&gt;</td>\n",
       "      <td>1.0</td>\n",
       "      <td>&lt;p&gt;Yes, which would make sense why Costello se...</td>\n",
       "    </tr>\n",
       "  </tbody>\n",
       "</table>\n",
       "</div>"
      ],
      "text/plain": [
       "   index  _Id  _PostTypeId  _AcceptedAnswerId  _Score  _ViewCount  \\\n",
       "0      0    1            1             2776.0      29      6093.0   \n",
       "1      2    3            1              814.0      29      1714.0   \n",
       "2      3    4            1              120.0      56      2844.0   \n",
       "3      4    6            1               21.0      16      5299.0   \n",
       "4      6   10            1                NaN      21     28514.0   \n",
       "\n",
       "                                               _Body  \\\n",
       "0  <p>Some comedian/actors are given creative fre...   \n",
       "1  <p>In his Star Wars Episode 1 <a href=\"https:/...   \n",
       "2  <p>I'm a big fan of the Pink Panther movies (t...   \n",
       "3  <p>At the end of the movie, adult Jack (Sean P...   \n",
       "4  <p>Frank Costello the mob boss, one of the mai...   \n",
       "\n",
       "                                              _Title  \\\n",
       "0  To what extent were the actors in Wedding Cras...   \n",
       "1      Evaluating characters by means of description   \n",
       "2  Was the original \"Pink Panther\" movie intended...   \n",
       "3     What does the ending of The Tree of Life mean?   \n",
       "4  Did the FBI know about the mole in the police ...   \n",
       "\n",
       "                                               _Tags  _AnswerCount  \\\n",
       "0                                 <wedding-crashers>           2.0   \n",
       "1                              <analysis><star-wars>           2.0   \n",
       "2                         <comedy><the-pink-panther>           5.0   \n",
       "3  <plot-explanation><analysis><ending><the-tree-...           2.0   \n",
       "4                   <plot-explanation><the-departed>           1.0   \n",
       "\n",
       "                                                 Ans  \n",
       "0  <p>According to the <a href=\"http://www.imdb.c...  \n",
       "1  <p>I don't think this way of analyzing a chara...  \n",
       "2  <p>Yes, I saw documentaries with <strong>Blake...  \n",
       "3  <p>The meaning, as far as I can tell, is that ...  \n",
       "4  <p>Yes, which would make sense why Costello se...  "
      ]
     },
     "execution_count": 34,
     "metadata": {},
     "output_type": "execute_result"
    }
   ],
   "source": [
    "Questions.head()"
   ]
  },
  {
   "cell_type": "code",
   "execution_count": 35,
   "metadata": {
    "collapsed": true
   },
   "outputs": [],
   "source": [
    "Questions['Title+Body+Ans']=Questions['_Title']+\" \"+Questions['_Body']+\" \"+Questions[\"Ans\"]"
   ]
  },
  {
   "cell_type": "code",
   "execution_count": 36,
   "metadata": {},
   "outputs": [
    {
     "data": {
      "text/html": [
       "<div>\n",
       "<style>\n",
       "    .dataframe thead tr:only-child th {\n",
       "        text-align: right;\n",
       "    }\n",
       "\n",
       "    .dataframe thead th {\n",
       "        text-align: left;\n",
       "    }\n",
       "\n",
       "    .dataframe tbody tr th {\n",
       "        vertical-align: top;\n",
       "    }\n",
       "</style>\n",
       "<table border=\"1\" class=\"dataframe\">\n",
       "  <thead>\n",
       "    <tr style=\"text-align: right;\">\n",
       "      <th></th>\n",
       "      <th>index</th>\n",
       "      <th>_Id</th>\n",
       "      <th>_PostTypeId</th>\n",
       "      <th>_AcceptedAnswerId</th>\n",
       "      <th>_Score</th>\n",
       "      <th>_ViewCount</th>\n",
       "      <th>_Body</th>\n",
       "      <th>_Title</th>\n",
       "      <th>_Tags</th>\n",
       "      <th>_AnswerCount</th>\n",
       "      <th>Ans</th>\n",
       "      <th>Title+Body+Ans</th>\n",
       "    </tr>\n",
       "  </thead>\n",
       "  <tbody>\n",
       "    <tr>\n",
       "      <th>0</th>\n",
       "      <td>0</td>\n",
       "      <td>1</td>\n",
       "      <td>1</td>\n",
       "      <td>2776.0</td>\n",
       "      <td>29</td>\n",
       "      <td>6093.0</td>\n",
       "      <td>&lt;p&gt;Some comedian/actors are given creative fre...</td>\n",
       "      <td>To what extent were the actors in Wedding Cras...</td>\n",
       "      <td>&lt;wedding-crashers&gt;</td>\n",
       "      <td>2.0</td>\n",
       "      <td>&lt;p&gt;According to the &lt;a href=\"http://www.imdb.c...</td>\n",
       "      <td>To what extent were the actors in Wedding Cras...</td>\n",
       "    </tr>\n",
       "    <tr>\n",
       "      <th>1</th>\n",
       "      <td>2</td>\n",
       "      <td>3</td>\n",
       "      <td>1</td>\n",
       "      <td>814.0</td>\n",
       "      <td>29</td>\n",
       "      <td>1714.0</td>\n",
       "      <td>&lt;p&gt;In his Star Wars Episode 1 &lt;a href=\"https:/...</td>\n",
       "      <td>Evaluating characters by means of description</td>\n",
       "      <td>&lt;analysis&gt;&lt;star-wars&gt;</td>\n",
       "      <td>2.0</td>\n",
       "      <td>&lt;p&gt;I don't think this way of analyzing a chara...</td>\n",
       "      <td>Evaluating characters by means of description ...</td>\n",
       "    </tr>\n",
       "    <tr>\n",
       "      <th>2</th>\n",
       "      <td>3</td>\n",
       "      <td>4</td>\n",
       "      <td>1</td>\n",
       "      <td>120.0</td>\n",
       "      <td>56</td>\n",
       "      <td>2844.0</td>\n",
       "      <td>&lt;p&gt;I'm a big fan of the Pink Panther movies (t...</td>\n",
       "      <td>Was the original \"Pink Panther\" movie intended...</td>\n",
       "      <td>&lt;comedy&gt;&lt;the-pink-panther&gt;</td>\n",
       "      <td>5.0</td>\n",
       "      <td>&lt;p&gt;Yes, I saw documentaries with &lt;strong&gt;Blake...</td>\n",
       "      <td>Was the original \"Pink Panther\" movie intended...</td>\n",
       "    </tr>\n",
       "    <tr>\n",
       "      <th>3</th>\n",
       "      <td>4</td>\n",
       "      <td>6</td>\n",
       "      <td>1</td>\n",
       "      <td>21.0</td>\n",
       "      <td>16</td>\n",
       "      <td>5299.0</td>\n",
       "      <td>&lt;p&gt;At the end of the movie, adult Jack (Sean P...</td>\n",
       "      <td>What does the ending of The Tree of Life mean?</td>\n",
       "      <td>&lt;plot-explanation&gt;&lt;analysis&gt;&lt;ending&gt;&lt;the-tree-...</td>\n",
       "      <td>2.0</td>\n",
       "      <td>&lt;p&gt;The meaning, as far as I can tell, is that ...</td>\n",
       "      <td>What does the ending of The Tree of Life mean?...</td>\n",
       "    </tr>\n",
       "    <tr>\n",
       "      <th>4</th>\n",
       "      <td>6</td>\n",
       "      <td>10</td>\n",
       "      <td>1</td>\n",
       "      <td>NaN</td>\n",
       "      <td>21</td>\n",
       "      <td>28514.0</td>\n",
       "      <td>&lt;p&gt;Frank Costello the mob boss, one of the mai...</td>\n",
       "      <td>Did the FBI know about the mole in the police ...</td>\n",
       "      <td>&lt;plot-explanation&gt;&lt;the-departed&gt;</td>\n",
       "      <td>1.0</td>\n",
       "      <td>&lt;p&gt;Yes, which would make sense why Costello se...</td>\n",
       "      <td>Did the FBI know about the mole in the police ...</td>\n",
       "    </tr>\n",
       "  </tbody>\n",
       "</table>\n",
       "</div>"
      ],
      "text/plain": [
       "   index  _Id  _PostTypeId  _AcceptedAnswerId  _Score  _ViewCount  \\\n",
       "0      0    1            1             2776.0      29      6093.0   \n",
       "1      2    3            1              814.0      29      1714.0   \n",
       "2      3    4            1              120.0      56      2844.0   \n",
       "3      4    6            1               21.0      16      5299.0   \n",
       "4      6   10            1                NaN      21     28514.0   \n",
       "\n",
       "                                               _Body  \\\n",
       "0  <p>Some comedian/actors are given creative fre...   \n",
       "1  <p>In his Star Wars Episode 1 <a href=\"https:/...   \n",
       "2  <p>I'm a big fan of the Pink Panther movies (t...   \n",
       "3  <p>At the end of the movie, adult Jack (Sean P...   \n",
       "4  <p>Frank Costello the mob boss, one of the mai...   \n",
       "\n",
       "                                              _Title  \\\n",
       "0  To what extent were the actors in Wedding Cras...   \n",
       "1      Evaluating characters by means of description   \n",
       "2  Was the original \"Pink Panther\" movie intended...   \n",
       "3     What does the ending of The Tree of Life mean?   \n",
       "4  Did the FBI know about the mole in the police ...   \n",
       "\n",
       "                                               _Tags  _AnswerCount  \\\n",
       "0                                 <wedding-crashers>           2.0   \n",
       "1                              <analysis><star-wars>           2.0   \n",
       "2                         <comedy><the-pink-panther>           5.0   \n",
       "3  <plot-explanation><analysis><ending><the-tree-...           2.0   \n",
       "4                   <plot-explanation><the-departed>           1.0   \n",
       "\n",
       "                                                 Ans  \\\n",
       "0  <p>According to the <a href=\"http://www.imdb.c...   \n",
       "1  <p>I don't think this way of analyzing a chara...   \n",
       "2  <p>Yes, I saw documentaries with <strong>Blake...   \n",
       "3  <p>The meaning, as far as I can tell, is that ...   \n",
       "4  <p>Yes, which would make sense why Costello se...   \n",
       "\n",
       "                                      Title+Body+Ans  \n",
       "0  To what extent were the actors in Wedding Cras...  \n",
       "1  Evaluating characters by means of description ...  \n",
       "2  Was the original \"Pink Panther\" movie intended...  \n",
       "3  What does the ending of The Tree of Life mean?...  \n",
       "4  Did the FBI know about the mole in the police ...  "
      ]
     },
     "execution_count": 36,
     "metadata": {},
     "output_type": "execute_result"
    }
   ],
   "source": [
    "Questions.head()"
   ]
  },
  {
   "cell_type": "code",
   "execution_count": 37,
   "metadata": {
    "collapsed": true
   },
   "outputs": [],
   "source": [
    "# Questions['Title+Body+Ans'][0]"
   ]
  },
  {
   "cell_type": "code",
   "execution_count": 38,
   "metadata": {},
   "outputs": [
    {
     "data": {
      "text/plain": [
       "18905"
      ]
     },
     "execution_count": 38,
     "metadata": {},
     "output_type": "execute_result"
    }
   ],
   "source": [
    "len(Questions)"
   ]
  },
  {
   "cell_type": "code",
   "execution_count": 39,
   "metadata": {
    "collapsed": true
   },
   "outputs": [],
   "source": [
    "Questions.to_csv(\"movie_Question_with_Ans.csv\")"
   ]
  },
  {
   "cell_type": "code",
   "execution_count": 4,
   "metadata": {},
   "outputs": [
    {
     "data": {
      "text/html": [
       "<div>\n",
       "<style scoped>\n",
       "    .dataframe tbody tr th:only-of-type {\n",
       "        vertical-align: middle;\n",
       "    }\n",
       "\n",
       "    .dataframe tbody tr th {\n",
       "        vertical-align: top;\n",
       "    }\n",
       "\n",
       "    .dataframe thead th {\n",
       "        text-align: right;\n",
       "    }\n",
       "</style>\n",
       "<table border=\"1\" class=\"dataframe\">\n",
       "  <thead>\n",
       "    <tr style=\"text-align: right;\">\n",
       "      <th></th>\n",
       "      <th>Unnamed: 0</th>\n",
       "      <th>index</th>\n",
       "      <th>_Id</th>\n",
       "      <th>_PostTypeId</th>\n",
       "      <th>_AcceptedAnswerId</th>\n",
       "      <th>_Score</th>\n",
       "      <th>_ViewCount</th>\n",
       "      <th>_Body</th>\n",
       "      <th>_Title</th>\n",
       "      <th>_Tags</th>\n",
       "      <th>_AnswerCount</th>\n",
       "      <th>Ans</th>\n",
       "      <th>Title+Body+Ans</th>\n",
       "    </tr>\n",
       "  </thead>\n",
       "  <tbody>\n",
       "    <tr>\n",
       "      <th>0</th>\n",
       "      <td>0</td>\n",
       "      <td>0</td>\n",
       "      <td>1</td>\n",
       "      <td>1</td>\n",
       "      <td>NaN</td>\n",
       "      <td>17</td>\n",
       "      <td>207.0</td>\n",
       "      <td>&lt;p&gt;We have had a lot of sites throughout the h...</td>\n",
       "      <td>Dealing with \"recommendation\" questions</td>\n",
       "      <td>&lt;discussion&gt;&lt;scope&gt;</td>\n",
       "      <td>5.0</td>\n",
       "      <td>&lt;p&gt;Some references:&lt;/p&gt;\\r\\n\\r\\n&lt;p&gt;On Literatur...</td>\n",
       "      <td>Dealing with \"recommendation\" questions &lt;p&gt;We ...</td>\n",
       "    </tr>\n",
       "    <tr>\n",
       "      <th>1</th>\n",
       "      <td>1</td>\n",
       "      <td>1</td>\n",
       "      <td>2</td>\n",
       "      <td>1</td>\n",
       "      <td>404.0</td>\n",
       "      <td>24</td>\n",
       "      <td>510.0</td>\n",
       "      <td>&lt;p&gt;We already have two questions with an obvio...</td>\n",
       "      <td>SciFi/Movies overlap</td>\n",
       "      <td>&lt;discussion&gt;&lt;scope&gt;</td>\n",
       "      <td>8.0</td>\n",
       "      <td>&lt;p&gt;It's going to happen...  They are still val...</td>\n",
       "      <td>SciFi/Movies overlap &lt;p&gt;We already have two qu...</td>\n",
       "    </tr>\n",
       "    <tr>\n",
       "      <th>2</th>\n",
       "      <td>2</td>\n",
       "      <td>4</td>\n",
       "      <td>5</td>\n",
       "      <td>1</td>\n",
       "      <td>NaN</td>\n",
       "      <td>5</td>\n",
       "      <td>54.0</td>\n",
       "      <td>&lt;p&gt;There are already three of them:&lt;br&gt;\\r\\n&lt;a ...</td>\n",
       "      <td>Are questions about specific plot details on t...</td>\n",
       "      <td>&lt;discussion&gt;&lt;scope&gt;</td>\n",
       "      <td>3.0</td>\n",
       "      <td>&lt;p&gt;According to the &lt;a href=\"http://area51.sta...</td>\n",
       "      <td>Are questions about specific plot details on t...</td>\n",
       "    </tr>\n",
       "    <tr>\n",
       "      <th>3</th>\n",
       "      <td>3</td>\n",
       "      <td>8</td>\n",
       "      <td>9</td>\n",
       "      <td>1</td>\n",
       "      <td>13.0</td>\n",
       "      <td>14</td>\n",
       "      <td>125.0</td>\n",
       "      <td>&lt;p&gt;Already I am seeing tags used for individua...</td>\n",
       "      <td>Should tags for individual movies be encouraged</td>\n",
       "      <td>&lt;discussion&gt;&lt;tags&gt;</td>\n",
       "      <td>3.0</td>\n",
       "      <td>&lt;p&gt;I think that you take it on a case by case ...</td>\n",
       "      <td>Should tags for individual movies be encourage...</td>\n",
       "    </tr>\n",
       "    <tr>\n",
       "      <th>4</th>\n",
       "      <td>4</td>\n",
       "      <td>14</td>\n",
       "      <td>15</td>\n",
       "      <td>1</td>\n",
       "      <td>NaN</td>\n",
       "      <td>22</td>\n",
       "      <td>403.0</td>\n",
       "      <td>&lt;blockquote&gt;\\r\\n  &lt;p&gt;&lt;strong&gt;Possible Duplicat...</td>\n",
       "      <td>Should we cover TV Series here?</td>\n",
       "      <td>&lt;discussion&gt;</td>\n",
       "      <td>0.0</td>\n",
       "      <td>NaN</td>\n",
       "      <td>Should we cover TV Series here? &lt;blockquote&gt;\\r...</td>\n",
       "    </tr>\n",
       "    <tr>\n",
       "      <th>...</th>\n",
       "      <td>...</td>\n",
       "      <td>...</td>\n",
       "      <td>...</td>\n",
       "      <td>...</td>\n",
       "      <td>...</td>\n",
       "      <td>...</td>\n",
       "      <td>...</td>\n",
       "      <td>...</td>\n",
       "      <td>...</td>\n",
       "      <td>...</td>\n",
       "      <td>...</td>\n",
       "      <td>...</td>\n",
       "      <td>...</td>\n",
       "    </tr>\n",
       "    <tr>\n",
       "      <th>1173</th>\n",
       "      <td>1173</td>\n",
       "      <td>3165</td>\n",
       "      <td>4581</td>\n",
       "      <td>1</td>\n",
       "      <td>NaN</td>\n",
       "      <td>2</td>\n",
       "      <td>54.0</td>\n",
       "      <td>&lt;p&gt;In the tag, it is spelled \"normally\", with ...</td>\n",
       "      <td>Witch VVitch is which?</td>\n",
       "      <td>&lt;discussion&gt;&lt;tags&gt;</td>\n",
       "      <td>1.0</td>\n",
       "      <td>&lt;p&gt;I don't think this has to be a strict eithe...</td>\n",
       "      <td>Witch VVitch is which? &lt;p&gt;In the tag, it is sp...</td>\n",
       "    </tr>\n",
       "    <tr>\n",
       "      <th>1174</th>\n",
       "      <td>1174</td>\n",
       "      <td>3167</td>\n",
       "      <td>4583</td>\n",
       "      <td>1</td>\n",
       "      <td>NaN</td>\n",
       "      <td>1</td>\n",
       "      <td>43.0</td>\n",
       "      <td>&lt;p&gt;I've just created an account on this websit...</td>\n",
       "      <td>Is there a website to ask technical questions ...</td>\n",
       "      <td>&lt;support&gt;</td>\n",
       "      <td>1.0</td>\n",
       "      <td>&lt;p&gt;&lt;strong&gt;In a short answer, No.&lt;/strong&gt;&lt;/p&gt;...</td>\n",
       "      <td>Is there a website to ask technical questions ...</td>\n",
       "    </tr>\n",
       "    <tr>\n",
       "      <th>1175</th>\n",
       "      <td>1175</td>\n",
       "      <td>3169</td>\n",
       "      <td>4585</td>\n",
       "      <td>1</td>\n",
       "      <td>NaN</td>\n",
       "      <td>3</td>\n",
       "      <td>49.0</td>\n",
       "      <td>&lt;p&gt;I've just posted &lt;a href=\"https://movies.st...</td>\n",
       "      <td>Are questions about how the number and types o...</td>\n",
       "      <td>&lt;discussion&gt;&lt;scope&gt;</td>\n",
       "      <td>1.0</td>\n",
       "      <td>&lt;h2&gt;My inclination is that this &lt;strong&gt;IS&lt;/st...</td>\n",
       "      <td>Are questions about how the number and types o...</td>\n",
       "    </tr>\n",
       "    <tr>\n",
       "      <th>1176</th>\n",
       "      <td>1176</td>\n",
       "      <td>3171</td>\n",
       "      <td>4587</td>\n",
       "      <td>1</td>\n",
       "      <td>NaN</td>\n",
       "      <td>2</td>\n",
       "      <td>41.0</td>\n",
       "      <td>&lt;p&gt;A few times I've been frustrated by the tag...</td>\n",
       "      <td>Distinguishing tags that are film titles from ...</td>\n",
       "      <td>&lt;feature-request&gt;&lt;tags&gt;</td>\n",
       "      <td>0.0</td>\n",
       "      <td>NaN</td>\n",
       "      <td>Distinguishing tags that are film titles from ...</td>\n",
       "    </tr>\n",
       "    <tr>\n",
       "      <th>1177</th>\n",
       "      <td>1177</td>\n",
       "      <td>3172</td>\n",
       "      <td>4588</td>\n",
       "      <td>1</td>\n",
       "      <td>4589.0</td>\n",
       "      <td>1</td>\n",
       "      <td>54.0</td>\n",
       "      <td>&lt;p&gt;I just got an email from StackOverFlow &lt;a h...</td>\n",
       "      <td>Are Question going to be worth 10 rep?</td>\n",
       "      <td>&lt;discussion&gt;</td>\n",
       "      <td>1.0</td>\n",
       "      <td>&lt;p&gt;As you've read in the blog post you link to...</td>\n",
       "      <td>Are Question going to be worth 10 rep? &lt;p&gt;I ju...</td>\n",
       "    </tr>\n",
       "  </tbody>\n",
       "</table>\n",
       "<p>1178 rows × 13 columns</p>\n",
       "</div>"
      ],
      "text/plain": [
       "      Unnamed: 0  index   _Id  _PostTypeId  _AcceptedAnswerId  _Score  \\\n",
       "0              0      0     1            1                NaN      17   \n",
       "1              1      1     2            1              404.0      24   \n",
       "2              2      4     5            1                NaN       5   \n",
       "3              3      8     9            1               13.0      14   \n",
       "4              4     14    15            1                NaN      22   \n",
       "...          ...    ...   ...          ...                ...     ...   \n",
       "1173        1173   3165  4581            1                NaN       2   \n",
       "1174        1174   3167  4583            1                NaN       1   \n",
       "1175        1175   3169  4585            1                NaN       3   \n",
       "1176        1176   3171  4587            1                NaN       2   \n",
       "1177        1177   3172  4588            1             4589.0       1   \n",
       "\n",
       "      _ViewCount                                              _Body  \\\n",
       "0          207.0  <p>We have had a lot of sites throughout the h...   \n",
       "1          510.0  <p>We already have two questions with an obvio...   \n",
       "2           54.0  <p>There are already three of them:<br>\\r\\n<a ...   \n",
       "3          125.0  <p>Already I am seeing tags used for individua...   \n",
       "4          403.0  <blockquote>\\r\\n  <p><strong>Possible Duplicat...   \n",
       "...          ...                                                ...   \n",
       "1173        54.0  <p>In the tag, it is spelled \"normally\", with ...   \n",
       "1174        43.0  <p>I've just created an account on this websit...   \n",
       "1175        49.0  <p>I've just posted <a href=\"https://movies.st...   \n",
       "1176        41.0  <p>A few times I've been frustrated by the tag...   \n",
       "1177        54.0  <p>I just got an email from StackOverFlow <a h...   \n",
       "\n",
       "                                                 _Title  \\\n",
       "0               Dealing with \"recommendation\" questions   \n",
       "1                                  SciFi/Movies overlap   \n",
       "2     Are questions about specific plot details on t...   \n",
       "3       Should tags for individual movies be encouraged   \n",
       "4                       Should we cover TV Series here?   \n",
       "...                                                 ...   \n",
       "1173                             Witch VVitch is which?   \n",
       "1174  Is there a website to ask technical questions ...   \n",
       "1175  Are questions about how the number and types o...   \n",
       "1176  Distinguishing tags that are film titles from ...   \n",
       "1177             Are Question going to be worth 10 rep?   \n",
       "\n",
       "                        _Tags  _AnswerCount  \\\n",
       "0         <discussion><scope>           5.0   \n",
       "1         <discussion><scope>           8.0   \n",
       "2         <discussion><scope>           3.0   \n",
       "3          <discussion><tags>           3.0   \n",
       "4                <discussion>           0.0   \n",
       "...                       ...           ...   \n",
       "1173       <discussion><tags>           1.0   \n",
       "1174                <support>           1.0   \n",
       "1175      <discussion><scope>           1.0   \n",
       "1176  <feature-request><tags>           0.0   \n",
       "1177             <discussion>           1.0   \n",
       "\n",
       "                                                    Ans  \\\n",
       "0     <p>Some references:</p>\\r\\n\\r\\n<p>On Literatur...   \n",
       "1     <p>It's going to happen...  They are still val...   \n",
       "2     <p>According to the <a href=\"http://area51.sta...   \n",
       "3     <p>I think that you take it on a case by case ...   \n",
       "4                                                   NaN   \n",
       "...                                                 ...   \n",
       "1173  <p>I don't think this has to be a strict eithe...   \n",
       "1174  <p><strong>In a short answer, No.</strong></p>...   \n",
       "1175  <h2>My inclination is that this <strong>IS</st...   \n",
       "1176                                                NaN   \n",
       "1177  <p>As you've read in the blog post you link to...   \n",
       "\n",
       "                                         Title+Body+Ans  \n",
       "0     Dealing with \"recommendation\" questions <p>We ...  \n",
       "1     SciFi/Movies overlap <p>We already have two qu...  \n",
       "2     Are questions about specific plot details on t...  \n",
       "3     Should tags for individual movies be encourage...  \n",
       "4     Should we cover TV Series here? <blockquote>\\r...  \n",
       "...                                                 ...  \n",
       "1173  Witch VVitch is which? <p>In the tag, it is sp...  \n",
       "1174  Is there a website to ask technical questions ...  \n",
       "1175  Are questions about how the number and types o...  \n",
       "1176  Distinguishing tags that are film titles from ...  \n",
       "1177  Are Question going to be worth 10 rep? <p>I ju...  \n",
       "\n",
       "[1178 rows x 13 columns]"
      ]
     },
     "execution_count": 4,
     "metadata": {},
     "output_type": "execute_result"
    }
   ],
   "source": [
    "# pd.read_csv(\"movie_Question_with_Ans1.csv\")"
   ]
  },
  {
   "cell_type": "code",
   "execution_count": null,
   "metadata": {
    "collapsed": true
   },
   "outputs": [],
   "source": []
  },
  {
   "cell_type": "markdown",
   "metadata": {},
   "source": [
    "### Data Preprocessing\n"
   ]
  },
  {
   "cell_type": "code",
   "execution_count": null,
   "metadata": {
    "collapsed": true
   },
   "outputs": [],
   "source": []
  },
  {
   "cell_type": "code",
   "execution_count": 99,
   "metadata": {
    "collapsed": true
   },
   "outputs": [],
   "source": [
    "# https://stackoverflow.com/questions/9662346/python-code-to-remove-html-tags-from-a-string\n",
    "import re\n",
    "def cleanhtml(raw_html):\n",
    "        cleanr = re.compile('<.*?>')\n",
    "        cleantext = re.sub(cleanr, '', raw_html)\n",
    "        cleanr = re.compile('<.*?>|&([a-z0-9]+|#[0-9]{1,6}|#x[0-9a-f]{1,6});')\n",
    "        cleantext = re.sub(cleanr, '', cleantext)\n",
    "        return cleantext.lower()"
   ]
  },
  {
   "cell_type": "code",
   "execution_count": 100,
   "metadata": {
    "collapsed": true
   },
   "outputs": [],
   "source": [
    "# \n",
    "# for i in range(0,20000,1000):\n",
    "#     print(df['Q_Body'][i])\n",
    "#     print(cleanhtml(df['Q_Body'][i]))\n",
    "#     print('------------------------------------------------------------------------------------------------------------')\n",
    "    "
   ]
  },
  {
   "cell_type": "code",
   "execution_count": 38,
   "metadata": {
    "collapsed": true
   },
   "outputs": [],
   "source": [
    "Questions['Title+Body']=Questions['Title+Body'].apply(lambda x: cleanhtml(x))"
   ]
  },
  {
   "cell_type": "code",
   "execution_count": 39,
   "metadata": {},
   "outputs": [
    {
     "name": "stdout",
     "output_type": "stream",
     "text": [
      "['is', 'there', 'solid', 'proof', 'of', 'hindu', 'scripture?', 'is', 'there', 'solid', 'proof', 'of', 'hindu', 'scripture--namely,', 'the', 'sruti', '(à¤¶à¥\\x8dà¤°à¥\\x81à¤¤à¤¿)', 'scriptures', 'like', 'the', 'vedas', '(à¤µà¥\\x87à¤¦à¤¾à¤\\x83)', 'and', 'the', 'upanishads', '(à¤\\x89à¤ªà¤¨à¤¿à¤·à¤¦à¤\\x83)?', 'how', 'do', 'we', 'know', 'what', 'they', 'say', 'is', 'correct?', 'some', 'of', 'you', 'might', 'say--\"hindu', 'scripture', 'agrees', 'perfectly', 'with', 'science', 'and', 'has', 'references', 'to', 'several', 'modern', 'scientific', 'discoveries.\"', 'this', 'may', 'be', 'true,', 'but', 'this', 'does', 'not', 'prove', 'the', 'theological', 'validity', 'of', 'hindu', 'scripture.', 'so', 'is', 'there', 'any', 'proof', 'of', 'such', 'a', 'kind?']\n"
     ]
    }
   ],
   "source": [
    "print(Questions['Title+Body'][1000].split())"
   ]
  },
  {
   "cell_type": "code",
   "execution_count": 40,
   "metadata": {},
   "outputs": [
    {
     "name": "stdout",
     "output_type": "stream",
     "text": [
      "is there an orthodox hinduism? orthodoxy in christianity is the holding to the oldest beliefs.  it is of course impossible for the religion not to evolve at all as new questions and there answer have to addressed. the \"orthodox\" version is often considered to be the least evolved sect of a religion.  does the concept of orthodox apply in hinduism? \r\n",
      "\n",
      "-----------------------------------------------------------------\n",
      "is there solid proof of hindu scripture? is there solid proof of hindu scripture--namely, the sruti (à¤¶à¥à¤°à¥à¤¤à¤¿) scriptures like the vedas (à¤µà¥à¤¦à¤¾à¤) and the upanishads (à¤à¤ªà¤¨à¤¿à¤·à¤¦à¤)?\r\n",
      "\r\n",
      "how do we know what they say is correct?\r\n",
      "\r\n",
      "some of you might say--\"hindu scripture agrees perfectly with science and has references to several modern scientific discoveries.\" \r\n",
      "\r\n",
      "this may be true, but this does not prove the theological validity of hindu scripture. so is there any proof of such a kind?\r\n",
      "\n",
      "-----------------------------------------------------------------\n",
      "different brahmalokas? the earth is situated in the middle of the 'fourteen planes of existence', of which 'brahmaloka' is the highest plane. \r\n",
      "\r\n",
      "but on the earth, atop the mountain meru, there is a city of brahma, called 'shatakaumbhi', which resembles a mountain of gold. surrounding it are the citadels of the various 'lokapalas', namely, indra, agni, yama, nirruti, varuna, vayu, kubera and ishana. this solves the problem of how can there be lokapalas for the universe, because these 'lokapalas' are now confined to 'bhuloka'. surrounding these cities are the various residences of devas and asuras.\r\n",
      "\r\n",
      "the question is, are all these different cities from the actual 'lokas' of the devas?\r\n",
      "\r\n",
      "like do we have two brahmas, two indras, agnis and so on, including double the number of devas and asuras per city? \r\n",
      "\r\n",
      "or are all these portals to the various other planes of existence?\r\n",
      "\n",
      "-----------------------------------------------------------------\n",
      "why is the poison that came out of samudra manthana called halahalam and kaalakootam? this question discusses how poison was the first thing that came out of samudra manthana. shiva drank that poison to save everyone and is known as neelakantha. the poison itself is called à¤¹à¤²à¤¾à¤¹à¤²à¤ (halahalam) or à¤à¤¾à¤²à¤à¥à¤à¤ (kaalakootam).\r\n",
      "\r\n",
      "i heard that the word à¤¹à¤²à¤¾à¤¹à¤²à¤ is mentioned in different forms in different texts.\r\n",
      "\r\n",
      "also, this wiki article describes (maybe not correctly) two of the meanings of kaalakootam as 'black mass' or 'time puzzle'.\r\n",
      "\r\n",
      "why is the poison given these two names - à¤¹à¤²à¤¾à¤¹à¤²à¤ and à¤à¤¾à¤²à¤à¥à¤à¤ ? is there any hidden symbolism behind it?\r\n",
      "\n",
      "-----------------------------------------------------------------\n",
      "what is duration of tithi according to hindu panchang? what is duration of tithi according to hindu panchang?\r\n",
      "\n",
      "-----------------------------------------------------------------\n",
      "which shloka explains this statement related to shiva if a person falls in dangerous situations such as in front of dangerous animals, then if such person says \"shiva\", then the total situation comes under control and the animals don't harm that person.\r\n",
      "\r\n",
      "which hindu scripture contains this?\r\n",
      "\n",
      "-----------------------------------------------------------------\n",
      "whose avatar was sri vedanta desikan? one of the accomplished vedanta philosopher and acharya desikan is famous in southern india.\r\n",
      "\r\n",
      "whose avatara is he believed to be?\r\n",
      "\n",
      "-----------------------------------------------------------------\n",
      "what is the story of revelation of shiva sutras to sage sri vasugupta? shiva sutras are core text of kashmir shaiva agamas.\r\n",
      "\r\n",
      "what is the story behind lord vasugupta getting the revelation of shiva sutras?\r\n",
      "\n",
      "-----------------------------------------------------------------\n",
      "what happens to deities at the end of their life cycle? what happens to different deities we worship at the end of their life cycle. will they merge back into parabrahma?\r\n",
      "\n",
      "-----------------------------------------------------------------\n",
      "what is the present time in hinduism? in kaala, manvantara ,mahayug, etc. \r\n",
      "calculating these things are proving to be difficult for me. \r\n",
      "\n",
      "-----------------------------------------------------------------\n",
      "is rama a naishtika brahmachari? it is known that krishna, narada etc., are married naishtika brahmacharis.\r\n",
      "\r\n",
      "is rama a naishtika brahmachari?â \r\n",
      "\n",
      "-----------------------------------------------------------------\n",
      "what is a \"runners high\"? there have been a few times in my life, where i believe i have experienced the phenomenon called \"runners high\", or the euphoric state during a run where you feel like you can keep running for forever.  \r\n",
      "\r\n",
      "my question is two fold:  \r\n",
      "\r\n",
      "\r\n",
      "what exactly is this sensation?  \r\n",
      "are there ways to 'train' your body to get into this state quicker?\r\n",
      "\r\n",
      "\n",
      "-----------------------------------------------------------------\n",
      "can one prevent bleeding knuckles while boxing? i'm not generally a fit person, but i started riding a bike to work two years ago when a colleague of mine sold me an slightly used one really cheap. now in winter i can't (safely) do that so i bought myself a boxing bag to at least have a way of training inside (and because i thought it would be a good way to \"externalize daily frustration\").\r\n",
      "\r\n",
      "now my problem is (winter approaching) that even while wearing padded boxing gloves, i get bleeding knuckles within 15 minutes of training. and since it takes over a week for them to heal, i can't see how i could train regularly without having to wear bandages on my hands permanently (which looks stupid and attract unwanted attention).\r\n",
      "\r\n",
      "i sometimes saw real boxers on tv wearing bandages before they put their gloves on. are those meant to prevent bleeding, or just prevent that the blood gets in the gloves?\r\n",
      "\n",
      "-----------------------------------------------------------------\n",
      "jogging: tibialis anterior muscle tense up whenever i jog \r\n",
      "\r\n",
      "whenever i jog for 10 minutes, tibialis anterior muscle start to tense up to the point where it hurts. it's preventing me from doing long distance jogging.\r\n",
      "\r\n",
      "i am not sure why this is happening. i usually walk for 5 minutes before i jog, giving it a bit of warning. but it doesn't seem to help.\r\n",
      "\r\n",
      "i am 6' and 165 lbs. my left knee joint is slightly weak, so i try to jog softly, but that actually accelerates the process of tibialis tense-up.\r\n",
      "\r\n",
      "does anyone know why this is happening? has anyone solved this problem before?\r\n",
      "\r\n",
      "image from http://en.wikipedia.org/wiki/file:tibialis.png\r\n",
      "\n",
      "-----------------------------------------------------------------\n",
      "how is energy derived from muscle, fat and glucose at different intensities? i have learned that during aerobic exercising the body converts different sources of energy: glucose, fat and muscle. however, different ratios are used in different situations. \r\n",
      "\r\n",
      "so what are the ratios by intensity? i once had a link to a page where this was explained, the wikipedia article about exercise intensity lacks muscle tissue as energy source.\r\n",
      "\r\n",
      "also, the ratio of these sources changes with time of activity. i heard that after about 30-40 min of cardio the main source of energy switches from glucose to fat. how does this affect the amount of muscles burned?\r\n",
      "\n",
      "-----------------------------------------------------------------\n",
      "ways to improve a glute/leg workout? i am female, 145 pounds and 170cm tall.\r\n",
      "i go to gym 4 times a week and do split training.\r\n",
      "i have noticed quite some gains on my legs but not really my ass.\r\n",
      "here is my workout: (i am not sure of what weight i use, hence if i don't mention it... i don't know- but its heavy to the point where my 9th or 10th rep is basically impossible)\r\n",
      "\r\n",
      "seated leg press (100kg, 3 sets, 10 reps per set)\r\n",
      "\r\n",
      "squats (20kg- cant go up as i find it to hard to get the bar over my head, 3 sets, 10 reps per set)\r\n",
      "\r\n",
      "leg extension (3 sets, 10 reps)\r\n",
      "\r\n",
      "leg press (5 sets, begin at 70kg and go up to 100kg and then back down again- is called doing a pyramid)\r\n",
      "\r\n",
      "then go onto do calves....\r\n",
      "\r\n",
      "is my butt just taking its time to grow? or are these exercises not adequately working my butt?\r\n",
      "\r\n",
      "i get enough protein, sleep and nutrition :)\r\n",
      "\n",
      "-----------------------------------------------------------------\n",
      "will cardio compromise mass if i'm in a caloric surplus? i am aware that it's not black and white simple. \r\n",
      "if i consume enough (90%clean) calories, will cardio still compromise mass? or is a deficit the main cannibalistic factor?\r\n",
      "\n",
      "-----------------------------------------------------------------\n",
      "right abs are more worked (and possibly poor posture), how can i correct that? recently i've been jogging and working my arms with some exercises. although i feel both legs and arms more or less equally tired i also feel i have much more strength with my leg and right arm. i also feel that the right side of my abs are more tired (one or two days after the exercise), besides this i can see that my right shoes are more worn... so i was worried about this. now that i'm starting to do more exercise i would like to have both sides of my body more or less equally developed. what should i do? should i try to put more effort in my left side consciously?\r\n",
      "\n",
      "-----------------------------------------------------------------\n",
      "hitting a plateau in exercises i've been training for 4 months now and for certain exercises i feel like i'm hitting a plateau. i'm planning to change my program so it contains new exercises.\r\n",
      "\r\n",
      "for new exercises i will start from lower weights so i can go up gradually, but what worries me is to lose muscles mass because of going down on weights.\r\n",
      "\r\n",
      "what can i do to make sure i don't lose the muscle mass that i've gained over the last 4 months?\r\n",
      "\n",
      "-----------------------------------------------------------------\n"
     ]
    }
   ],
   "source": [
    "for i in range(0,19000,1000):\n",
    "    print(Questions['Title+Body'][i])\n",
    "    print('-----------------------------------------------------------------')"
   ]
  },
  {
   "cell_type": "code",
   "execution_count": 41,
   "metadata": {
    "collapsed": true
   },
   "outputs": [],
   "source": [
    "import re\n",
    "def cleanurls(x):\n",
    "    result = re.sub(r\"http\\S+\", \"\", x)\n",
    "    return result\n",
    "    "
   ]
  },
  {
   "cell_type": "code",
   "execution_count": 42,
   "metadata": {
    "collapsed": true
   },
   "outputs": [],
   "source": [
    "Questions['Title+Body']=Questions['Title+Body'].apply(lambda x: cleanurls(x))"
   ]
  },
  {
   "cell_type": "code",
   "execution_count": 43,
   "metadata": {},
   "outputs": [
    {
     "name": "stdout",
     "output_type": "stream",
     "text": [
      "is there an orthodox hinduism? orthodoxy in christianity is the holding to the oldest beliefs.  it is of course impossible for the religion not to evolve at all as new questions and there answer have to addressed. the \"orthodox\" version is often considered to be the least evolved sect of a religion.  does the concept of orthodox apply in hinduism? \r\n",
      "\n",
      "-----------------------------------------------------------------\n",
      "is there solid proof of hindu scripture? is there solid proof of hindu scripture--namely, the sruti (à¤¶à¥à¤°à¥à¤¤à¤¿) scriptures like the vedas (à¤µà¥à¤¦à¤¾à¤) and the upanishads (à¤à¤ªà¤¨à¤¿à¤·à¤¦à¤)?\r\n",
      "\r\n",
      "how do we know what they say is correct?\r\n",
      "\r\n",
      "some of you might say--\"hindu scripture agrees perfectly with science and has references to several modern scientific discoveries.\" \r\n",
      "\r\n",
      "this may be true, but this does not prove the theological validity of hindu scripture. so is there any proof of such a kind?\r\n",
      "\n",
      "-----------------------------------------------------------------\n",
      "different brahmalokas? the earth is situated in the middle of the 'fourteen planes of existence', of which 'brahmaloka' is the highest plane. \r\n",
      "\r\n",
      "but on the earth, atop the mountain meru, there is a city of brahma, called 'shatakaumbhi', which resembles a mountain of gold. surrounding it are the citadels of the various 'lokapalas', namely, indra, agni, yama, nirruti, varuna, vayu, kubera and ishana. this solves the problem of how can there be lokapalas for the universe, because these 'lokapalas' are now confined to 'bhuloka'. surrounding these cities are the various residences of devas and asuras.\r\n",
      "\r\n",
      "the question is, are all these different cities from the actual 'lokas' of the devas?\r\n",
      "\r\n",
      "like do we have two brahmas, two indras, agnis and so on, including double the number of devas and asuras per city? \r\n",
      "\r\n",
      "or are all these portals to the various other planes of existence?\r\n",
      "\n",
      "-----------------------------------------------------------------\n",
      "why is the poison that came out of samudra manthana called halahalam and kaalakootam? this question discusses how poison was the first thing that came out of samudra manthana. shiva drank that poison to save everyone and is known as neelakantha. the poison itself is called à¤¹à¤²à¤¾à¤¹à¤²à¤ (halahalam) or à¤à¤¾à¤²à¤à¥à¤à¤ (kaalakootam).\r\n",
      "\r\n",
      "i heard that the word à¤¹à¤²à¤¾à¤¹à¤²à¤ is mentioned in different forms in different texts.\r\n",
      "\r\n",
      "also, this wiki article describes (maybe not correctly) two of the meanings of kaalakootam as 'black mass' or 'time puzzle'.\r\n",
      "\r\n",
      "why is the poison given these two names - à¤¹à¤²à¤¾à¤¹à¤²à¤ and à¤à¤¾à¤²à¤à¥à¤à¤ ? is there any hidden symbolism behind it?\r\n",
      "\n",
      "-----------------------------------------------------------------\n",
      "what is duration of tithi according to hindu panchang? what is duration of tithi according to hindu panchang?\r\n",
      "\n",
      "-----------------------------------------------------------------\n",
      "which shloka explains this statement related to shiva if a person falls in dangerous situations such as in front of dangerous animals, then if such person says \"shiva\", then the total situation comes under control and the animals don't harm that person.\r\n",
      "\r\n",
      "which hindu scripture contains this?\r\n",
      "\n",
      "-----------------------------------------------------------------\n",
      "whose avatar was sri vedanta desikan? one of the accomplished vedanta philosopher and acharya desikan is famous in southern india.\r\n",
      "\r\n",
      "whose avatara is he believed to be?\r\n",
      "\n",
      "-----------------------------------------------------------------\n",
      "what is the story of revelation of shiva sutras to sage sri vasugupta? shiva sutras are core text of kashmir shaiva agamas.\r\n",
      "\r\n",
      "what is the story behind lord vasugupta getting the revelation of shiva sutras?\r\n",
      "\n",
      "-----------------------------------------------------------------\n",
      "what happens to deities at the end of their life cycle? what happens to different deities we worship at the end of their life cycle. will they merge back into parabrahma?\r\n",
      "\n",
      "-----------------------------------------------------------------\n",
      "what is the present time in hinduism? in kaala, manvantara ,mahayug, etc. \r\n",
      "calculating these things are proving to be difficult for me. \r\n",
      "\n",
      "-----------------------------------------------------------------\n",
      "is rama a naishtika brahmachari? it is known that krishna, narada etc., are married naishtika brahmacharis.\r\n",
      "\r\n",
      "is rama a naishtika brahmachari?â \r\n",
      "\n",
      "-----------------------------------------------------------------\n",
      "what is a \"runners high\"? there have been a few times in my life, where i believe i have experienced the phenomenon called \"runners high\", or the euphoric state during a run where you feel like you can keep running for forever.  \r\n",
      "\r\n",
      "my question is two fold:  \r\n",
      "\r\n",
      "\r\n",
      "what exactly is this sensation?  \r\n",
      "are there ways to 'train' your body to get into this state quicker?\r\n",
      "\r\n",
      "\n",
      "-----------------------------------------------------------------\n",
      "can one prevent bleeding knuckles while boxing? i'm not generally a fit person, but i started riding a bike to work two years ago when a colleague of mine sold me an slightly used one really cheap. now in winter i can't (safely) do that so i bought myself a boxing bag to at least have a way of training inside (and because i thought it would be a good way to \"externalize daily frustration\").\r\n",
      "\r\n",
      "now my problem is (winter approaching) that even while wearing padded boxing gloves, i get bleeding knuckles within 15 minutes of training. and since it takes over a week for them to heal, i can't see how i could train regularly without having to wear bandages on my hands permanently (which looks stupid and attract unwanted attention).\r\n",
      "\r\n",
      "i sometimes saw real boxers on tv wearing bandages before they put their gloves on. are those meant to prevent bleeding, or just prevent that the blood gets in the gloves?\r\n",
      "\n",
      "-----------------------------------------------------------------\n",
      "jogging: tibialis anterior muscle tense up whenever i jog \r\n",
      "\r\n",
      "whenever i jog for 10 minutes, tibialis anterior muscle start to tense up to the point where it hurts. it's preventing me from doing long distance jogging.\r\n",
      "\r\n",
      "i am not sure why this is happening. i usually walk for 5 minutes before i jog, giving it a bit of warning. but it doesn't seem to help.\r\n",
      "\r\n",
      "i am 6' and 165 lbs. my left knee joint is slightly weak, so i try to jog softly, but that actually accelerates the process of tibialis tense-up.\r\n",
      "\r\n",
      "does anyone know why this is happening? has anyone solved this problem before?\r\n",
      "\r\n",
      "image from \r\n",
      "\n",
      "-----------------------------------------------------------------\n",
      "how is energy derived from muscle, fat and glucose at different intensities? i have learned that during aerobic exercising the body converts different sources of energy: glucose, fat and muscle. however, different ratios are used in different situations. \r\n",
      "\r\n",
      "so what are the ratios by intensity? i once had a link to a page where this was explained, the wikipedia article about exercise intensity lacks muscle tissue as energy source.\r\n",
      "\r\n",
      "also, the ratio of these sources changes with time of activity. i heard that after about 30-40 min of cardio the main source of energy switches from glucose to fat. how does this affect the amount of muscles burned?\r\n",
      "\n",
      "-----------------------------------------------------------------\n",
      "ways to improve a glute/leg workout? i am female, 145 pounds and 170cm tall.\r\n",
      "i go to gym 4 times a week and do split training.\r\n",
      "i have noticed quite some gains on my legs but not really my ass.\r\n",
      "here is my workout: (i am not sure of what weight i use, hence if i don't mention it... i don't know- but its heavy to the point where my 9th or 10th rep is basically impossible)\r\n",
      "\r\n",
      "seated leg press (100kg, 3 sets, 10 reps per set)\r\n",
      "\r\n",
      "squats (20kg- cant go up as i find it to hard to get the bar over my head, 3 sets, 10 reps per set)\r\n",
      "\r\n",
      "leg extension (3 sets, 10 reps)\r\n",
      "\r\n",
      "leg press (5 sets, begin at 70kg and go up to 100kg and then back down again- is called doing a pyramid)\r\n",
      "\r\n",
      "then go onto do calves....\r\n",
      "\r\n",
      "is my butt just taking its time to grow? or are these exercises not adequately working my butt?\r\n",
      "\r\n",
      "i get enough protein, sleep and nutrition :)\r\n",
      "\n",
      "-----------------------------------------------------------------\n",
      "will cardio compromise mass if i'm in a caloric surplus? i am aware that it's not black and white simple. \r\n",
      "if i consume enough (90%clean) calories, will cardio still compromise mass? or is a deficit the main cannibalistic factor?\r\n",
      "\n",
      "-----------------------------------------------------------------\n",
      "right abs are more worked (and possibly poor posture), how can i correct that? recently i've been jogging and working my arms with some exercises. although i feel both legs and arms more or less equally tired i also feel i have much more strength with my leg and right arm. i also feel that the right side of my abs are more tired (one or two days after the exercise), besides this i can see that my right shoes are more worn... so i was worried about this. now that i'm starting to do more exercise i would like to have both sides of my body more or less equally developed. what should i do? should i try to put more effort in my left side consciously?\r\n",
      "\n",
      "-----------------------------------------------------------------\n",
      "hitting a plateau in exercises i've been training for 4 months now and for certain exercises i feel like i'm hitting a plateau. i'm planning to change my program so it contains new exercises.\r\n",
      "\r\n",
      "for new exercises i will start from lower weights so i can go up gradually, but what worries me is to lose muscles mass because of going down on weights.\r\n",
      "\r\n",
      "what can i do to make sure i don't lose the muscle mass that i've gained over the last 4 months?\r\n",
      "\n",
      "-----------------------------------------------------------------\n"
     ]
    }
   ],
   "source": [
    "for i in range(0,19000,1000):\n",
    "    print(Questions['Title+Body'][i])\n",
    "    print('-----------------------------------------------------------------')"
   ]
  },
  {
   "cell_type": "code",
   "execution_count": 44,
   "metadata": {
    "collapsed": true
   },
   "outputs": [],
   "source": [
    "# result"
   ]
  },
  {
   "cell_type": "code",
   "execution_count": 45,
   "metadata": {},
   "outputs": [
    {
     "name": "stdout",
     "output_type": "stream",
     "text": [
      "how should hindus treat people of other religions? what are the teachings of hinduism for dealing with other religions and their followers? to be more precise, what does hinduism teach its followers about how to treat other people like muslims and christians?\r\n",
      "\n"
     ]
    }
   ],
   "source": [
    "print(Questions['Title+Body'][10])"
   ]
  },
  {
   "cell_type": "code",
   "execution_count": 46,
   "metadata": {
    "collapsed": true
   },
   "outputs": [],
   "source": [
    "from nltk.corpus import stopwords"
   ]
  },
  {
   "cell_type": "code",
   "execution_count": 47,
   "metadata": {
    "collapsed": true
   },
   "outputs": [],
   "source": [
    "stopwords= ['i', 'me', 'my', 'myself', 'we', 'our', 'ours', 'ourselves', 'you',\n",
    "\"you're\", \"you've\",\"you'll\", \"you'd\", 'your', 'yours', 'yourself', 'yourselves', 'he',\n",
    "'him', 'his', 'himself', 'she', \"she's\", 'her', 'hers', 'herself', 'it', \"it's\", 'its', 'itself', 'they',\n",
    "'them', 'their','theirs', 'themselves', 'what', 'which', 'who', 'whom', 'this', 'that', \"that'll\", 'these', 'those',\n",
    "'am', 'is', 'are', 'was', 'were', 'be', 'been', 'being', 'have', 'has', 'had', 'having', 'do', 'does', \n",
    "'did', 'doing', 'a', 'an', 'the', 'and', 'but', 'if', 'or', 'because', 'as', 'until', 'while', 'of', \n",
    "'at', 'by', 'for', 'with', 'about', 'against', 'between', 'into','through', 'during', 'before', 'after',\n",
    "'above', 'below', 'to', 'from', 'up', 'down', 'in', 'out', 'on', 'off', 'over', 'under', 'again', 'further',\n",
    "'then', 'once', 'here', 'there', 'when', 'where', 'why', 'how', 'all', 'any', 'both', 'each', 'few', 'more',\n",
    "'most', 'other', 'some', 'such', 'only', 'own', 'same', 'so', 'than', 'too', 'very',\n",
    "            's', 't', 'can', 'will', 'just', 'don', \"don't\", 'should', \"should've\", 'now', 'd', 'll', 'm', 'o', 're',\n",
    "'ve', 'y', 'ain', 'aren', \"aren't\", 'couldn', \"couldn't\", 'didn',\"didn't\", 'doesn', \"doesn't\", 'hadn',\n",
    "\"hadn't\", 'hasn', \"hasn't\", 'haven', \"haven't\", 'isn', \"isn't\", 'ma', 'mightn', \"mightn't\", 'mustn',\n",
    "            \"mustn't\", 'needn', \"needn't\", 'shan', \"shan't\", 'shouldn', \"shouldn't\", 'wasn', \"wasn't\", 'weren', \"weren't\", \n",
    "'won', \"won't\", 'wouldn', \"wouldn't\"]"
   ]
  },
  {
   "cell_type": "code",
   "execution_count": 275,
   "metadata": {
    "collapsed": true
   },
   "outputs": [],
   "source": [
    "import re\n",
    "def decontracted(phrase):\n",
    "    # specific\n",
    "    phrase = re.sub(r\"won't\", \"will not\", phrase)\n",
    "    phrase = re.sub(r\"can\\'t\", \"can not\", phrase)\n",
    "    # general\n",
    "    phrase = re.sub(r\"n\\'t\", \" not\", phrase)\n",
    "    phrase = re.sub(r\"\\'re\", \" are\", phrase)\n",
    "    phrase = re.sub(r\"\\'s\", \" is\", phrase)\n",
    "    phrase = re.sub(r\"\\'d\", \" would\", phrase)\n",
    "    phrase = re.sub(r\"\\'ll\", \" will\", phrase)\n",
    "    phrase = re.sub(r\"\\'t\", \" not\", phrase)\n",
    "    phrase = re.sub(r\"\\'ve\", \" have\", phrase)\n",
    "    phrase = re.sub(r\"\\'m\", \" am\", phrase)\n",
    "    return phrase"
   ]
  },
  {
   "cell_type": "code",
   "execution_count": 276,
   "metadata": {
    "collapsed": true
   },
   "outputs": [],
   "source": [
    "# ! pip install tqdm"
   ]
  },
  {
   "cell_type": "code",
   "execution_count": 277,
   "metadata": {
    "collapsed": true
   },
   "outputs": [],
   "source": [
    "# import tqdm\n",
    "clean_Title_Body = []\n",
    "for titles in Questions['Title+Body'].values:\n",
    "    title = decontracted(titles)\n",
    "    title = title.replace('\\\\r', ' ')\n",
    "    title = title.replace('\\\\\"', ' ')\n",
    "    title = title.replace('\\\\n', ' ')\n",
    "    title = re.sub('[^A-Za-z0-9]+', ' ', title)\n",
    "    title = ' '.join(f for f in title.split() if f not in stopwords)\n",
    "    clean_Title_Body.append(title.lower().strip())\n"
   ]
  },
  {
   "cell_type": "code",
   "execution_count": 278,
   "metadata": {
    "collapsed": true
   },
   "outputs": [],
   "source": [
    "Questions['clean_Title_Body'] = clean_Title_Body"
   ]
  },
  {
   "cell_type": "code",
   "execution_count": 279,
   "metadata": {},
   "outputs": [
    {
     "name": "stdout",
     "output_type": "stream",
     "text": [
      "orthodox hinduism orthodoxy christianity holding oldest beliefs course impossible religion not evolve new questions answer addressed orthodox version often considered least evolved sect religion concept orthodox apply hinduism\n",
      "-----------------------------------------------------------------\n",
      "solid proof hindu scripture solid proof hindu scripture namely sruti scriptures like vedas upanishads know say correct might say hindu scripture agrees perfectly science references several modern scientific discoveries may true not prove theological validity hindu scripture proof kind\n",
      "-----------------------------------------------------------------\n",
      "different brahmalokas earth situated middle fourteen planes existence brahmaloka highest plane earth atop mountain meru city brahma called ishatakaumbhi resembles mountain gold surrounding citadels various lokapalas namely indra agni yama nirruti varuna vayu kubera ishana solves problem lokapalas universe lokapalas confined bhuloka surrounding cities various residences devas asuras question different cities actual lokas devas like two brahmas two indras agnis including double number devas asuras per city portals various planes existence\n",
      "-----------------------------------------------------------------\n",
      "poison came samudra manthana called halahalam kaalakootam question discusses poison first thing came samudra manthana shiva drank poison save everyone known neelakantha poison called halahalam kaalakootam heard word mentioned different forms different texts also wiki article describes maybe not correctly two meanings kaalakootam black mass notime puzzle poison given two names hidden symbolism behind\n",
      "-----------------------------------------------------------------\n",
      "duration tithi according hindu panchang duration tithi according hindu panchang\n",
      "-----------------------------------------------------------------\n",
      "shloka explains statement related shiva person falls dangerous situations front dangerous animals person says shiva total situation comes control animals not harm person hindu scripture contains\n",
      "-----------------------------------------------------------------\n",
      "whose avatar sri vedanta desikan one accomplished vedanta philosopher acharya desikan famous southern india whose avatara believed\n",
      "-----------------------------------------------------------------\n",
      "story revelation shiva sutras sage sri vasugupta shiva sutras core text kashmir shaiva agamas story behind lord vasugupta getting revelation shiva sutras\n",
      "-----------------------------------------------------------------\n",
      "happens deities end life cycle happens different deities worship end life cycle merge back parabrahma\n",
      "-----------------------------------------------------------------\n",
      "present time hinduism kaala manvantara mahayug etc calculating things proving difficult\n",
      "-----------------------------------------------------------------\n",
      "rama naishtika brahmachari known krishna narada etc married naishtika brahmacharis rama naishtika brahmachari\n",
      "-----------------------------------------------------------------\n",
      "runners high times life believe experienced phenomenon called runners high euphoric state run feel like keep running forever question two fold exactly sensation ways notrain body get state quicker\n",
      "-----------------------------------------------------------------\n",
      "one prevent bleeding knuckles boxing not generally fit person started riding bike work two years ago colleague mine sold slightly used one really cheap winter not safely bought boxing bag least way training inside thought would good way externalize daily frustration problem winter approaching even wearing padded boxing gloves get bleeding knuckles within 15 minutes training since takes week heal not see could train regularly without wear bandages hands permanently looks stupid attract unwanted attention sometimes saw real boxers tv wearing bandages put gloves meant prevent bleeding prevent blood gets gloves\n",
      "-----------------------------------------------------------------\n",
      "jogging tibialis anterior muscle tense whenever jog whenever jog 10 minutes tibialis anterior muscle start tense point hurts preventing long distance jogging not sure happening usually walk 5 minutes jog giving bit warning not seem help 6 165 lbs left knee joint slightly weak try jog softly actually accelerates process tibialis tense anyone know happening anyone solved problem image\n",
      "-----------------------------------------------------------------\n",
      "energy derived muscle fat glucose different intensities learned aerobic exercising body converts different sources energy glucose fat muscle however different ratios used different situations ratios intensity link page explained wikipedia article exercise intensity lacks muscle tissue energy source also ratio sources changes time activity heard 30 40 min cardio main source energy switches glucose fat affect amount muscles burned\n",
      "-----------------------------------------------------------------\n",
      "ways improve glute leg workout female 145 pounds 170cm tall go gym 4 times week split training noticed quite gains legs not really ass workout not sure weight use hence not mention not know heavy point 9th 10th rep basically impossible seated leg press 100kg 3 sets 10 reps per set squats 20kg cant go find hard get bar head 3 sets 10 reps per set leg extension 3 sets 10 reps leg press 5 sets begin 70kg go 100kg back called pyramid go onto calves butt taking time grow exercises not adequately working butt get enough protein sleep nutrition\n",
      "-----------------------------------------------------------------\n",
      "cardio compromise mass caloric surplus aware not black white simple consume enough 90 clean calories cardio still compromise mass deficit main cannibalistic factor\n",
      "-----------------------------------------------------------------\n",
      "right abs worked possibly poor posture correct recently jogging working arms exercises although feel legs arms less equally tired also feel much strength leg right arm also feel right side abs tired one two days exercise besides see right shoes worn worried starting exercise would like sides body less equally developed try put effort left side consciously\n",
      "-----------------------------------------------------------------\n",
      "hitting plateau exercises training 4 months certain exercises feel like hitting plateau planning change program contains new exercises new exercises start lower weights go gradually worries lose muscles mass going weights make sure not lose muscle mass gained last 4 months\n",
      "-----------------------------------------------------------------\n"
     ]
    }
   ],
   "source": [
    "for i in range(0,19000,1000):\n",
    "    print(Questions['clean_Title_Body'][i])\n",
    "    print('-----------------------------------------------------------------')"
   ]
  },
  {
   "cell_type": "code",
   "execution_count": 280,
   "metadata": {},
   "outputs": [
    {
     "name": "stdout",
     "output_type": "stream",
     "text": [
      "<class 'pandas.core.frame.DataFrame'>\n",
      "RangeIndex: 19386 entries, 0 to 19385\n",
      "Data columns (total 12 columns):\n",
      "index                19386 non-null int64\n",
      "_Id                  19386 non-null float64\n",
      "_PostTypeId          19386 non-null float64\n",
      "_AcceptedAnswerId    7966 non-null float64\n",
      "_Score               19386 non-null float64\n",
      "_ViewCount           19386 non-null float64\n",
      "_Body                19386 non-null object\n",
      "_Title               19386 non-null object\n",
      "_Tags                19386 non-null object\n",
      "_AnswerCount         19386 non-null float64\n",
      "Title+Body           19386 non-null object\n",
      "clean_Title_Body     19386 non-null object\n",
      "dtypes: float64(6), int64(1), object(5)\n",
      "memory usage: 1.8+ MB\n"
     ]
    }
   ],
   "source": [
    "Questions.info()"
   ]
  },
  {
   "cell_type": "code",
   "execution_count": 281,
   "metadata": {},
   "outputs": [
    {
     "data": {
      "text/plain": [
       "(19386, 54632)"
      ]
     },
     "execution_count": 281,
     "metadata": {},
     "output_type": "execute_result"
    }
   ],
   "source": [
    "from sklearn.feature_extraction.text import CountVectorizer\n",
    "vectorizer = CountVectorizer()\n",
    "bow = vectorizer.fit_transform(Questions['clean_Title_Body'])\n",
    "bow.get_shape()"
   ]
  },
  {
   "cell_type": "code",
   "execution_count": 282,
   "metadata": {},
   "outputs": [
    {
     "data": {
      "text/plain": [
       "(19386, 54632)"
      ]
     },
     "execution_count": 282,
     "metadata": {},
     "output_type": "execute_result"
    }
   ],
   "source": [
    "from sklearn.feature_extraction.text import TfidfVectorizer\n",
    "\n",
    "\n",
    "tfidf_vectorizer = TfidfVectorizer(min_df = 0)\n",
    "tfidf = tfidf_vectorizer.fit_transform(Questions['clean_Title_Body'])\n",
    "tfidf.get_shape()"
   ]
  },
  {
   "cell_type": "code",
   "execution_count": 283,
   "metadata": {
    "collapsed": true
   },
   "outputs": [],
   "source": [
    "from gensim.models import Word2Vec\n",
    "from gensim.models import KeyedVectors\n",
    "import pickle"
   ]
  },
  {
   "cell_type": "code",
   "execution_count": 284,
   "metadata": {
    "collapsed": true
   },
   "outputs": [],
   "source": [
    "# tfidf"
   ]
  },
  {
   "cell_type": "code",
   "execution_count": 290,
   "metadata": {
    "collapsed": true
   },
   "outputs": [],
   "source": [
    "e=[\"How long did Bhishma live, after He fell asleep in the arrow in Mahabharata?\"]\n",
    "# vectorizer.transform(e)\n",
    "# cardio compromise mass caloric surplus aware not black white simple consume enough 90 clean calories cardio still compromise mass deficit main cannibalistic factor"
   ]
  },
  {
   "cell_type": "code",
   "execution_count": 291,
   "metadata": {
    "collapsed": true
   },
   "outputs": [],
   "source": [
    "# def process_query(query):\n",
    "    "
   ]
  },
  {
   "cell_type": "code",
   "execution_count": 292,
   "metadata": {
    "collapsed": true
   },
   "outputs": [],
   "source": [
    "from sklearn.metrics import pairwise_distances\n",
    "import numpy as np\n",
    "def search(vectorizer, query, corpus):\n",
    "#     query = process_query(query)\n",
    "    query_trans = vectorizer.transform(query)\n",
    "    pairwise_dist = pairwise_distances(corpus, query_trans, metric='cosine')\n",
    "    \n",
    "    indices = np.argsort(pairwise_dist.flatten())[0:20]\n",
    "    pdists = np.sort(pairwise_dist.flatten())[0:20]\n",
    "    print(pdists)\n",
    "    df_indices = list(Questions.index[indices])\n",
    "    return df_indices"
   ]
  },
  {
   "cell_type": "code",
   "execution_count": null,
   "metadata": {
    "collapsed": true
   },
   "outputs": [],
   "source": []
  },
  {
   "cell_type": "code",
   "execution_count": 293,
   "metadata": {},
   "outputs": [
    {
     "name": "stdout",
     "output_type": "stream",
     "text": [
      "[3.33066907e-16 6.47206123e-01 6.79167321e-01 6.84864561e-01\n",
      " 7.39629813e-01 7.48943742e-01 7.55774996e-01 7.67276087e-01\n",
      " 7.68712774e-01 7.69310846e-01 7.74109518e-01 7.74811325e-01\n",
      " 7.74811325e-01 7.75415381e-01 7.76676539e-01 7.77128753e-01\n",
      " 7.78545387e-01 7.78545387e-01 7.79735524e-01 7.83564092e-01]\n"
     ]
    }
   ],
   "source": [
    "b=search(vectorizer,e,bow)"
   ]
  },
  {
   "cell_type": "code",
   "execution_count": 294,
   "metadata": {},
   "outputs": [
    {
     "name": "stdout",
     "output_type": "stream",
     "text": [
      "will cardio compromise mass if I'm in a caloric surplus?\n",
      "Impact of cardio during caloric surplus (Bulking phase)\n",
      "Is higher intensity cardio on off days detrimental to strength training?\n",
      "What's the necessity of cardio for fat burning?\n",
      "Does cardio burn fat differently than burning calories though non-cardio workouts?\n",
      "How much protein per muscle mass?\n",
      "Can you do a lot of cardio to lose weight but keep your muscle mass?\n",
      "Should we do cardio each day.?\n",
      "What's the relationship between gaining muscle mass and strength? How do I increase in strength without increasing in mass?\n",
      "Can you do \"too much\" cardio for cutting body fat?\n",
      "Does exercise REALLY increase the basal metabolism rate for any significant length of time after the exercise is over?\n",
      "Are there good cardio workouts which do NOT stress the knees?\n",
      "Should I include cardio?\n",
      "Sample Regimen for losing body fat and retaining lean mass\n",
      "Cardio, lifting, Cardio\n",
      "Good exercise for when all your muscles are sore?\n",
      "What's the importance of cardio in bulking phase?\n",
      "Difference between cutting calories and cardio (with regard to fat loss)?\n",
      "How can I recover more quickly from leg-intensive cardio workouts?\n",
      "Does muscle strength (rather than muscle mass) also depend on food consumption?\n"
     ]
    }
   ],
   "source": [
    "for i in b:\n",
    "    print(Questions['_Title'][i])"
   ]
  },
  {
   "cell_type": "code",
   "execution_count": 295,
   "metadata": {},
   "outputs": [
    {
     "name": "stdout",
     "output_type": "stream",
     "text": [
      "[0.         0.72573569 0.78907548 0.79397126 0.79961868 0.80524541\n",
      " 0.8138155  0.81964998 0.82131886 0.82763214 0.83714085 0.83780335\n",
      " 0.83933599 0.83970638 0.84008879 0.84111691 0.84241814 0.84368934\n",
      " 0.84546901 0.84555996]\n"
     ]
    }
   ],
   "source": [
    "t=search(tfidf_vectorizer,e,tfidf)"
   ]
  },
  {
   "cell_type": "code",
   "execution_count": 296,
   "metadata": {},
   "outputs": [
    {
     "name": "stdout",
     "output_type": "stream",
     "text": [
      "will cardio compromise mass if I'm in a caloric surplus?\n",
      "Impact of cardio during caloric surplus (Bulking phase)\n",
      "What's the necessity of cardio for fat burning?\n",
      "Is being in a caloric surplus the only way to get fat?\n",
      "How much protein per muscle mass?\n",
      "Is higher intensity cardio on off days detrimental to strength training?\n",
      "Can you do \"too much\" cardio for cutting body fat?\n",
      "When trying to lose body fat, is being in caloric deficit more important than % of calories from fat?\n",
      "Can you do a lot of cardio to lose weight but keep your muscle mass?\n",
      "What is the optimum training intensity to prevent atrophy when on a caloric deficit?\n",
      "Increasing physical activity with no calorie deficit or surplus\n",
      "Does cardio burn fat differently than burning calories though non-cardio workouts?\n",
      "What's the relationship between gaining muscle mass and strength? How do I increase in strength without increasing in mass?\n",
      "If one is in caloric deficit to lose fat, how will this affect one's muscle building?\n",
      "Workout routine on caloric deficit\n",
      "Should we do cardio each day.?\n",
      "Should I include cardio?\n",
      "Does exercise REALLY increase the basal metabolism rate for any significant length of time after the exercise is over?\n",
      "Am I training too much?\n",
      "Calories consumed on workout days vs. off days\n"
     ]
    }
   ],
   "source": [
    "for i in t:\n",
    "    print(Questions['_Title'][i])"
   ]
  },
  {
   "cell_type": "code",
   "execution_count": null,
   "metadata": {
    "collapsed": true
   },
   "outputs": [],
   "source": []
  },
  {
   "cell_type": "code",
   "execution_count": 297,
   "metadata": {
    "collapsed": true
   },
   "outputs": [],
   "source": [
    "# for i in li:\n",
    "#     print(Questions['_Title'][i])"
   ]
  },
  {
   "cell_type": "code",
   "execution_count": 298,
   "metadata": {
    "collapsed": true
   },
   "outputs": [],
   "source": [
    "# Reading glove vectors in python: https://stackoverflow.com/a/38230349/4084039\n",
    "def loadGloveModel(gloveFile):\n",
    "    print (\"Loading Glove Model\")\n",
    "    f = open(gloveFile,'r',encoding=\"utf8\")\n",
    "    model = {}\n",
    "    for line in f: #tqdm\n",
    "        splitLine = line.split()\n",
    "        word = splitLine[0]\n",
    "        embedding = np.array([float(val) for val in splitLine[1:]])\n",
    "        model[word] = embedding\n",
    "    print (\"Done.\",len(model),\" words loaded!\")\n",
    "    return model\n"
   ]
  },
  {
   "cell_type": "code",
   "execution_count": 299,
   "metadata": {},
   "outputs": [
    {
     "name": "stdout",
     "output_type": "stream",
     "text": [
      "Loading Glove Model\n",
      "Done. 1917495  words loaded!\n"
     ]
    }
   ],
   "source": [
    "model = loadGloveModel('glove.42B.300d.txt')"
   ]
  },
  {
   "cell_type": "code",
   "execution_count": 303,
   "metadata": {},
   "outputs": [
    {
     "name": "stdout",
     "output_type": "stream",
     "text": [
      "All the words in the corpus 1283092\n"
     ]
    }
   ],
   "source": [
    "words_title = [] \n",
    "for i in Questions['clean_Title_Body'] :\n",
    "    words_title.extend(i.split(' '))\n",
    "print(\"All the words in the corpus\", len(words_title))\n"
   ]
  },
  {
   "cell_type": "code",
   "execution_count": 304,
   "metadata": {},
   "outputs": [
    {
     "name": "stdout",
     "output_type": "stream",
     "text": [
      "the unique words in the corpus 54660\n"
     ]
    }
   ],
   "source": [
    "## Find the unique words in this set of words\n",
    "words_title = set(words_title)\n",
    "print(\"the unique words in the corpus\", len(words_title))"
   ]
  },
  {
   "cell_type": "code",
   "execution_count": 305,
   "metadata": {},
   "outputs": [
    {
     "name": "stdout",
     "output_type": "stream",
     "text": [
      "The number of words that are present in both glove vectors and our corpus are 37911 which is nearly 69.0% \n"
     ]
    }
   ],
   "source": [
    "## Find the words present in both Glove Vectors as well as our corpus.\n",
    "inter_words = set(model.keys()).intersection(words_title)\n",
    "print(\"The number of words that are present in both glove vectors and our corpus are {} which is nearly {}% \".format(len(inter_words), np.round((float(len(inter_words))/len(words_title))*100)))\n"
   ]
  },
  {
   "cell_type": "code",
   "execution_count": 306,
   "metadata": {
    "collapsed": true
   },
   "outputs": [],
   "source": [
    "# model['harsha']"
   ]
  },
  {
   "cell_type": "code",
   "execution_count": 307,
   "metadata": {},
   "outputs": [
    {
     "name": "stdout",
     "output_type": "stream",
     "text": [
      "word 2 vec length 37911\n"
     ]
    }
   ],
   "source": [
    "words_corpus = {}\n",
    "words_glove = set(model.keys())\n",
    "for i in words_title:\n",
    "    if i in words_glove:\n",
    "        words_corpus[i] = model[i]\n",
    "print(\"word 2 vec length\", len(words_corpus))\n"
   ]
  },
  {
   "cell_type": "code",
   "execution_count": 308,
   "metadata": {
    "collapsed": true
   },
   "outputs": [],
   "source": [
    "# stronging variables into pickle files python: http://www.jessicayung.com/howto-use-pickle-to-save-and-load-variables-in-python/\n",
    "import pickle\n",
    "with open('glove_vectors', 'wb') as f:\n",
    "    pickle.dump(words_corpus, f)"
   ]
  },
  {
   "cell_type": "code",
   "execution_count": null,
   "metadata": {
    "collapsed": true
   },
   "outputs": [],
   "source": [
    "1+2\n"
   ]
  },
  {
   "cell_type": "code",
   "execution_count": null,
   "metadata": {
    "collapsed": true
   },
   "outputs": [],
   "source": [
    "# stronging variables into pickle files python: http://www.jessicayung.com/howto-use-pickle-to-save-and-load-variables-in-python/\n",
    "# make sure you have the glove_vectors file\n",
    "with open('glove_vectors', 'rb') as f:\n",
    "    model = pickle.load(f)\n",
    "    glove_words = set(model.keys())\n"
   ]
  },
  {
   "cell_type": "code",
   "execution_count": 133,
   "metadata": {},
   "outputs": [
    {
     "name": "stdout",
     "output_type": "stream",
     "text": [
      "10923\n",
      "300\n"
     ]
    }
   ],
   "source": [
    "avg_w2v_vectors = [];\n",
    "for sentence in Questions['clean_Title_Body']: # for each review/sentence\n",
    "    vector = np.zeros(300) # as word vectors are of zero length\n",
    "    cnt_words =0; # num of words with a valid vector in the sentence/review\n",
    "    for word in sentence.split(): # for each word in a review/sentence\n",
    "        if word in glove_words:\n",
    "            vector += model[word]\n",
    "            cnt_words += 1\n",
    "    if cnt_words != 0:\n",
    "        vector /= cnt_words\n",
    "    avg_w2v_vectors.append(vector)\n",
    "print(len(avg_w2v_vectors))\n",
    "print(len(avg_w2v_vectors[0]))\n"
   ]
  },
  {
   "cell_type": "code",
   "execution_count": null,
   "metadata": {
    "collapsed": true
   },
   "outputs": [],
   "source": [
    "# a=search(vectorizer,e,bow)\n",
    "# for i in b:\n",
    "#     print(Questions['_Title'][i])"
   ]
  },
  {
   "cell_type": "code",
   "execution_count": null,
   "metadata": {
    "collapsed": true
   },
   "outputs": [],
   "source": []
  },
  {
   "cell_type": "code",
   "execution_count": 189,
   "metadata": {
    "collapsed": true
   },
   "outputs": [],
   "source": [
    "from sklearn.metrics import pairwise_distances\n",
    "import numpy as np\n",
    "def semantic_search(query, corpus):\n",
    "#     query = process_query(query)\n",
    "    #query_trans = vectorizer.transform(query)\n",
    "    vector = [np.zeros(300)] # as word vectors are of zero length\n",
    "    cnt_words =0;\n",
    "    for word in query.split(): # for each word in a review/sentence\n",
    "        if word in glove_words:\n",
    "            vector[0] += model[word]\n",
    "            cnt_words += 1\n",
    "    if cnt_words != 0:\n",
    "        vector[0] /= cnt_words\n",
    "#         print(vector)\n",
    "    pairwise_dist = pairwise_distances(corpus, vector, metric='cosine')\n",
    "    \n",
    "    indices = np.argsort(pairwise_dist.flatten())[0:20]\n",
    "    pdists = np.sort(pairwise_dist.flatten())[0:20]\n",
    "    print(pdists)\n",
    "    df_indices = list(Questions.index[indices])\n",
    "    return df_indices"
   ]
  },
  {
   "cell_type": "code",
   "execution_count": 190,
   "metadata": {},
   "outputs": [
    {
     "name": "stdout",
     "output_type": "stream",
     "text": [
      "class:  ndarray\n",
      "shape:  (10923, 300)\n",
      "strides:  (2400, 8)\n",
      "itemsize:  8\n",
      "aligned:  True\n",
      "contiguous:  True\n",
      "fortran:  False\n",
      "data pointer: 0x269eb337040\n",
      "byteorder:  little\n",
      "byteswap:  False\n",
      "type: float64\n"
     ]
    },
    {
     "data": {
      "text/plain": [
       "2"
      ]
     },
     "execution_count": 190,
     "metadata": {},
     "output_type": "execute_result"
    }
   ],
   "source": [
    "import numpy as np\n",
    "dim=np.array(avg_w2v_vectors)\n",
    "np.info(dim)\n",
    "dim.ndim"
   ]
  },
  {
   "cell_type": "code",
   "execution_count": 191,
   "metadata": {},
   "outputs": [
    {
     "data": {
      "text/plain": [
       "1"
      ]
     },
     "execution_count": 191,
     "metadata": {},
     "output_type": "execute_result"
    }
   ],
   "source": [
    "t=[1,2,3]\n",
    "np.array(t).ndim"
   ]
  },
  {
   "cell_type": "code",
   "execution_count": 192,
   "metadata": {},
   "outputs": [
    {
     "name": "stdout",
     "output_type": "stream",
     "text": [
      "[0.15532816 0.17308016 0.18222252 0.19183833 0.19257324 0.1934413\n",
      " 0.20247305 0.20349752 0.20386949 0.20441948 0.20476291 0.20491849\n",
      " 0.20534968 0.20622028 0.20636956 0.20956184 0.2103364  0.21039574\n",
      " 0.21058213 0.21213271]\n"
     ]
    }
   ],
   "source": [
    "a=semantic_search(\"How long did Bhishma live, after He fell asleep in the arrow in Mahabharata?\",np.array(avg_w2v_vectors))"
   ]
  },
  {
   "cell_type": "code",
   "execution_count": 194,
   "metadata": {},
   "outputs": [
    {
     "name": "stdout",
     "output_type": "stream",
     "text": [
      "How long did Bhishma live, after He fell asleep in the arrow in Mahabharata?\n",
      "What did Bhishma do when he was on the bed of arrows?\n",
      "What does a lizard crawling up from left foot and climb down from the same foot(man) on thursday night around 10 pm signify?\n",
      "Is it really King Chitrabhanu of Ikshvaku race that's mentioned in the legend of Maha Shivaratri?\n",
      "How were all the arrows removed from Bhishmaâs body, before the last rites (Antima Sanskara) were performed?\n",
      "Is flower falling from photo towards left side a bad omen?\n",
      "Is lord ram depicted of 2 arms or 4 in ram raksha stotra?\n",
      "Significance of dreaming of shivji\n",
      "The Karmic reason why Grandsire Bhishma had to spend the final days of his life on a Bed of Arrows\n",
      "Was Hanuman ever shot in the leg by an arrow?\n",
      "What is the story behind Kumbhakarna's sleep?\n",
      "was Vishnu beheaded in Shatapatha Brahmana?\n",
      "Why is it not recommended to turn back immediately after praying in a temple?\n",
      "Karma & Rebirth: If you're too attached to your pet and are reborn as that pet, what happens to your karma?\n",
      "Power of mental thought?\n",
      "Why Lord Krishna's feet became vulnerable?\n",
      "Really Long Breath intake while meditation\n",
      "Killed a dog puppy by accident , feelin uncomfortable please help me\n",
      "Why did Yudhishthira claim Karna never fled from the battlefield when Karna has fled from the battlefield multiple times?\n",
      "Why not sleep with your head facing North direction?\n"
     ]
    }
   ],
   "source": [
    "for i in a:\n",
    "    print(Questions['_Title'][i])"
   ]
  },
  {
   "cell_type": "code",
   "execution_count": null,
   "metadata": {
    "collapsed": true
   },
   "outputs": [],
   "source": []
  },
  {
   "cell_type": "code",
   "execution_count": 193,
   "metadata": {
    "collapsed": true
   },
   "outputs": [],
   "source": [
    "# S = [\"abc def pqr\", \"def def def abc\", \"pqr pqr def\"]\n",
    "tfidf_model = TfidfVectorizer()\n",
    "tfidf_model.fit(Questions['clean_Title_Body'])\n",
    "# we are converting a dictionary with word as a key, and the idf as a value\n",
    "dictionary = dict(zip(tfidf_model.get_feature_names(), list(tfidf_model.idf_)))\n",
    "tfidf_words = set(tfidf_model.get_feature_names())\n"
   ]
  },
  {
   "cell_type": "code",
   "execution_count": 196,
   "metadata": {},
   "outputs": [
    {
     "name": "stdout",
     "output_type": "stream",
     "text": [
      "10923\n",
      "300\n"
     ]
    }
   ],
   "source": [
    "# average Word2Vec\n",
    "# compute average word2vec for each review.\n",
    "tfidf_w2v_vectors = []; # the avg-w2v for each sentence/review is stored in this list\n",
    "for sentence in Questions['clean_Title_Body']: # for each review/sentence\n",
    "    vector = np.zeros(300) # as word vectors are of zero length\n",
    "    tf_idf_weight =0; # num of words with a valid vector in the sentence/review\n",
    "    for word in sentence.split(): # for each word in a review/sentence\n",
    "        if (word in glove_words) and (word in tfidf_words):\n",
    "            vec = model[word] # getting the vector for each word\n",
    "            # here we are multiplying idf value(dictionary[word]) and the tf value((sentence.count(word)/len(sentence.split())))\n",
    "            tf_idf = dictionary[word]*(sentence.count(word)/len(sentence.split())) # getting the tfidf value for each word\n",
    "            vector += (vec * tf_idf) # calculating tfidf weighted w2v\n",
    "            tf_idf_weight += tf_idf\n",
    "    if tf_idf_weight != 0:\n",
    "        vector /= tf_idf_weight\n",
    "    tfidf_w2v_vectors.append(vector)\n",
    "print(len(tfidf_w2v_vectors))\n",
    "print(len(tfidf_w2v_vectors[0]))\n"
   ]
  },
  {
   "cell_type": "code",
   "execution_count": 210,
   "metadata": {
    "collapsed": true
   },
   "outputs": [],
   "source": [
    "from sklearn.metrics import pairwise_distances\n",
    "import numpy as np\n",
    "def semantic_search_tfidf_w2v(query, corpus):\n",
    "    pairwise_dist = pairwise_distances(corpus, query, metric='cosine')\n",
    "    \n",
    "    indices = np.argsort(pairwise_dist.flatten())[0:20]\n",
    "    pdists = np.sort(pairwise_dist.flatten())[0:20]\n",
    "    print(pdists)\n",
    "    df_indices = list(Questions.index[indices])\n",
    "    return df_indices"
   ]
  },
  {
   "cell_type": "code",
   "execution_count": null,
   "metadata": {
    "collapsed": true
   },
   "outputs": [],
   "source": []
  },
  {
   "cell_type": "code",
   "execution_count": 203,
   "metadata": {
    "collapsed": true
   },
   "outputs": [],
   "source": [
    "# import numpy as np\n",
    "# dim=np.array(tfidf_w2v_vectors)\n",
    "# np.info(dim)\n",
    "# dim.ndim"
   ]
  },
  {
   "cell_type": "code",
   "execution_count": 204,
   "metadata": {},
   "outputs": [
    {
     "data": {
      "text/plain": [
       "2"
      ]
     },
     "execution_count": 204,
     "metadata": {},
     "output_type": "execute_result"
    }
   ],
   "source": [
    "e[0].count('in')"
   ]
  },
  {
   "cell_type": "code",
   "execution_count": 211,
   "metadata": {
    "collapsed": true
   },
   "outputs": [],
   "source": [
    "vector = np.zeros(300) # as word vectors are of zero length\n",
    "tf_idf_weight =0; # num of words with a valid vector in the sentence/review\n",
    "for word in e[0].split(): # for each word in a review/sentence\n",
    "    if (word in glove_words) and (word in tfidf_words):\n",
    "        vec = model[word] # getting the vector for each word\n",
    "        # here we are multiplying idf value(dictionary[word]) and the tf value((sentence.count(word)/len(sentence.split())))\n",
    "        tf_idf = dictionary[word]*(e[0].count(word)/len(e[0].split())) # getting the tfidf value for each word\n",
    "        vector += (vec * tf_idf) # calculating tfidf weighted w2v\n",
    "        tf_idf_weight += tf_idf\n",
    "if tf_idf_weight != 0:\n",
    "    vector /= tf_idf_weight\n",
    "test_tfidf_w2v_vector=vector"
   ]
  },
  {
   "cell_type": "code",
   "execution_count": 212,
   "metadata": {},
   "outputs": [
    {
     "data": {
      "text/plain": [
       "2"
      ]
     },
     "execution_count": 212,
     "metadata": {},
     "output_type": "execute_result"
    }
   ],
   "source": [
    "np.array([test_tfidf_w2v_vector]).ndim"
   ]
  },
  {
   "cell_type": "code",
   "execution_count": 216,
   "metadata": {},
   "outputs": [
    {
     "name": "stdout",
     "output_type": "stream",
     "text": [
      "[0.1652469  0.21164404 0.211702   0.21907464 0.2216765  0.22255745\n",
      " 0.22303383 0.22386944 0.22927932 0.23261403 0.23580078 0.23908903\n",
      " 0.24211385 0.24290452 0.24716738 0.24738246 0.24925461 0.25025066\n",
      " 0.25048793 0.25154012]\n"
     ]
    }
   ],
   "source": [
    "tw=semantic_search_tfidf_w2v(np.array([test_tfidf_w2v_vector]),np.array(tfidf_w2v_vectors))"
   ]
  },
  {
   "cell_type": "code",
   "execution_count": 217,
   "metadata": {},
   "outputs": [
    {
     "name": "stdout",
     "output_type": "stream",
     "text": [
      "How long did Bhishma live, after He fell asleep in the arrow in Mahabharata?\n",
      "What did Bhishma do when he was on the bed of arrows?\n",
      "Was Hanuman ever shot in the leg by an arrow?\n",
      "The strongest warrior of all time in the time of Mahabharatha\n",
      "What does a lizard crawling up from left foot and climb down from the same foot(man) on thursday night around 10 pm signify?\n",
      "Is the notion of Bhishma preferring Arjuna's bed of arrows to pillows brought in by Duryodhana authentic?\n",
      "Significance of dreaming of shivji\n",
      "Why is it not recommended to turn back immediately after praying in a temple?\n",
      "Is flower falling from photo towards left side a bad omen?\n",
      "What is the story behind Kumbhakarna's sleep?\n",
      "Is it really King Chitrabhanu of Ikshvaku race that's mentioned in the legend of Maha Shivaratri?\n",
      "Really Long Breath intake while meditation\n",
      "What is the significance of touching someones forehead\n",
      "Why does Vishnu sleep for 1000 years?\n",
      "Is this a form of meditation?\n",
      "was Vishnu beheaded in Shatapatha Brahmana?\n",
      "What scriptures say about left arm twitching / quivering / throbbing?\n",
      "Krishna Draupadi conversation\n",
      "What led Bhishma Pitamah to arrow bed in Mahabharat battle?\n",
      "does the soul go somewhere when we deep sleep?\n"
     ]
    }
   ],
   "source": [
    "for i in tw:\n",
    "    print(Questions['_Title'][i])"
   ]
  },
  {
   "cell_type": "code",
   "execution_count": null,
   "metadata": {
    "collapsed": true
   },
   "outputs": [],
   "source": []
  }
 ],
 "metadata": {
  "kernelspec": {
   "display_name": "Python 3",
   "language": "python",
   "name": "python3"
  },
  "language_info": {
   "codemirror_mode": {
    "name": "ipython",
    "version": 3
   },
   "file_extension": ".py",
   "mimetype": "text/x-python",
   "name": "python",
   "nbconvert_exporter": "python",
   "pygments_lexer": "ipython3",
   "version": "3.6.5"
  }
 },
 "nbformat": 4,
 "nbformat_minor": 2
}
