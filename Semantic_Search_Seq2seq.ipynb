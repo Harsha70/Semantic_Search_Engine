{
  "nbformat": 4,
  "nbformat_minor": 0,
  "metadata": {
    "accelerator": "GPU",
    "colab": {
      "name": "Casestudy1Seq2seq (1).ipynb",
      "provenance": [],
      "collapsed_sections": [],
      "machine_shape": "hm"
    },
    "kernelspec": {
      "name": "python3",
      "display_name": "Python 3"
    },
    "language_info": {
      "codemirror_mode": {
        "name": "ipython",
        "version": 3
      },
      "file_extension": ".py",
      "mimetype": "text/x-python",
      "name": "python",
      "nbconvert_exporter": "python",
      "pygments_lexer": "ipython3",
      "version": "3.7.3"
    }
  },
  "cells": [
    {
      "cell_type": "code",
      "metadata": {
        "colab_type": "code",
        "id": "Jmgsf3B62G2m",
        "colab": {}
      },
      "source": [
        "# q=[]\n",
        "# while True:\n",
        "#   q.append(1)\n",
        "\n",
        "# https://towardsdatascience.com/semantic-code-search-3cd6d244a39c\n",
        "# https://towardsdatascience.com/how-to-create-data-products-that-are-magical-using-sequence-to-sequence-models-703f86a231f8"
      ],
      "execution_count": null,
      "outputs": []
    },
    {
      "cell_type": "code",
      "metadata": {
        "id": "zf04AmrHyw2D",
        "colab_type": "code",
        "colab": {}
      },
      "source": [
        ""
      ],
      "execution_count": null,
      "outputs": []
    },
    {
      "cell_type": "markdown",
      "metadata": {
        "colab_type": "text",
        "id": "-DhVREIr3BcX"
      },
      "source": [
        "Objective: To build a search engine based on StackOverflow questions and search result should include semantic meaning"
      ]
    },
    {
      "cell_type": "markdown",
      "metadata": {
        "colab_type": "text",
        "id": "4I5K3iNr36iw"
      },
      "source": [
        "Dataset: https://meta.stackexchange.com/questions/138356/how-do-i-download-stack-overflows-data"
      ]
    },
    {
      "cell_type": "markdown",
      "metadata": {
        "colab_type": "text",
        "id": "g0md4_pK36eF"
      },
      "source": [
        ""
      ]
    },
    {
      "cell_type": "code",
      "metadata": {
        "colab_type": "code",
        "id": "NCth-v_F1_vm",
        "colab": {
          "base_uri": "https://localhost:8080/",
          "height": 125
        },
        "outputId": "a7345aa6-ec0b-401a-8d56-a4c19d26b596"
      },
      "source": [
        "from google.colab import drive\n",
        "drive.mount('/content/drive')"
      ],
      "execution_count": null,
      "outputs": [
        {
          "output_type": "stream",
          "text": [
            "Go to this URL in a browser: https://accounts.google.com/o/oauth2/auth?client_id=947318989803-6bn6qk8qdgf4n4g3pfee6491hc0brc4i.apps.googleusercontent.com&redirect_uri=urn%3aietf%3awg%3aoauth%3a2.0%3aoob&response_type=code&scope=email%20https%3a%2f%2fwww.googleapis.com%2fauth%2fdocs.test%20https%3a%2f%2fwww.googleapis.com%2fauth%2fdrive%20https%3a%2f%2fwww.googleapis.com%2fauth%2fdrive.photos.readonly%20https%3a%2f%2fwww.googleapis.com%2fauth%2fpeopleapi.readonly\n",
            "\n",
            "Enter your authorization code:\n",
            "··········\n",
            "Mounted at /content/drive\n"
          ],
          "name": "stdout"
        }
      ]
    },
    {
      "cell_type": "code",
      "metadata": {
        "colab_type": "code",
        "id": "314bfexnh97h",
        "colab": {}
      },
      "source": [
        "import os\n",
        "import sys\n",
        "import string\n",
        "import numpy as np\n",
        "import pandas as pd\n",
        "import matplotlib.pyplot as plt\n",
        "%matplotlib inline\n",
        "import tensorflow as tf\n",
        "from tensorflow.keras.models import Model\n",
        "from tensorflow.keras.layers import Dense, Embedding, Input, LSTM, BatchNormalization\n",
        "from tensorflow.keras.preprocessing.text import Tokenizer\n",
        "from tensorflow.keras.preprocessing.sequence import pad_sequences\n",
        "from tensorflow.keras.utils import to_categorical\n",
        "from tensorflow.keras.optimizers import Adam, SGD\n",
        "import re\n",
        "\n",
        "import tensorflow.keras.backend as K"
      ],
      "execution_count": null,
      "outputs": []
    },
    {
      "cell_type": "code",
      "metadata": {
        "colab_type": "code",
        "id": "JI477se15RUe",
        "colab": {}
      },
      "source": [
        "import pandas as pd\n",
        "df1=pd.read_csv(r'/content/drive/My Drive/casestudy1/datascience_Question_with_Ans.csv',encoding='latin1')\n",
        "df2=pd.read_csv(r'/content/drive/My Drive/casestudy1/Fitness_Question_with_Ans.csv')\n"
      ],
      "execution_count": null,
      "outputs": []
    },
    {
      "cell_type": "code",
      "metadata": {
        "colab_type": "code",
        "id": "P8sMAMWgHQ3R",
        "colab": {}
      },
      "source": [
        "df1=df1.head(10000)\n",
        "df2=df2.head(8000)"
      ],
      "execution_count": null,
      "outputs": []
    },
    {
      "cell_type": "code",
      "metadata": {
        "colab_type": "code",
        "id": "QBWMmBT9HNf7",
        "colab": {
          "base_uri": "https://localhost:8080/",
          "height": 70
        },
        "outputId": "434eb834-404e-4b07-8123-bb2287f2e9f0"
      },
      "source": [
        "Questions=df1.append(df2)\n",
        "\n",
        "print(df1.shape)\n",
        "print(df2.shape)\n",
        "print(Questions.shape)"
      ],
      "execution_count": null,
      "outputs": [
        {
          "output_type": "stream",
          "text": [
            "(10000, 13)\n",
            "(8000, 13)\n",
            "(18000, 13)\n"
          ],
          "name": "stdout"
        }
      ]
    },
    {
      "cell_type": "code",
      "metadata": {
        "colab_type": "code",
        "id": "9eM_43KC5Uk-",
        "colab": {}
      },
      "source": [
        "Questions.reset_index(inplace=True)"
      ],
      "execution_count": null,
      "outputs": []
    },
    {
      "cell_type": "code",
      "metadata": {
        "colab_type": "code",
        "id": "HT30hLJs55TW",
        "colab": {
          "base_uri": "https://localhost:8080/",
          "height": 344
        },
        "outputId": "50b39987-634b-4336-c7e4-4a28c3a0823c"
      },
      "source": [
        "\n",
        "df2.head(2)\n",
        "\n",
        "df1.head(2)\n",
        "\n",
        "Questions.head(2)"
      ],
      "execution_count": null,
      "outputs": [
        {
          "output_type": "execute_result",
          "data": {
            "text/html": [
              "<div>\n",
              "<style scoped>\n",
              "    .dataframe tbody tr th:only-of-type {\n",
              "        vertical-align: middle;\n",
              "    }\n",
              "\n",
              "    .dataframe tbody tr th {\n",
              "        vertical-align: top;\n",
              "    }\n",
              "\n",
              "    .dataframe thead th {\n",
              "        text-align: right;\n",
              "    }\n",
              "</style>\n",
              "<table border=\"1\" class=\"dataframe\">\n",
              "  <thead>\n",
              "    <tr style=\"text-align: right;\">\n",
              "      <th></th>\n",
              "      <th>level_0</th>\n",
              "      <th>Unnamed: 0</th>\n",
              "      <th>index</th>\n",
              "      <th>_Id</th>\n",
              "      <th>_PostTypeId</th>\n",
              "      <th>_AcceptedAnswerId</th>\n",
              "      <th>_Score</th>\n",
              "      <th>_ViewCount</th>\n",
              "      <th>_Body</th>\n",
              "      <th>_Title</th>\n",
              "      <th>_Tags</th>\n",
              "      <th>_AnswerCount</th>\n",
              "      <th>Ans</th>\n",
              "      <th>Title+Body+Ans</th>\n",
              "    </tr>\n",
              "  </thead>\n",
              "  <tbody>\n",
              "    <tr>\n",
              "      <th>0</th>\n",
              "      <td>0</td>\n",
              "      <td>0</td>\n",
              "      <td>0</td>\n",
              "      <td>5.0</td>\n",
              "      <td>1.0</td>\n",
              "      <td>NaN</td>\n",
              "      <td>8.0</td>\n",
              "      <td>643.0</td>\n",
              "      <td>&lt;p&gt;I've always been interested in machine lear...</td>\n",
              "      <td>How can I do simple machine learning without h...</td>\n",
              "      <td>&lt;machine-learning&gt;</td>\n",
              "      <td>1.0</td>\n",
              "      <td>&lt;p&gt;Not sure if this fits the scope of this SE,...</td>\n",
              "      <td>How can I do simple machine learning without h...</td>\n",
              "    </tr>\n",
              "    <tr>\n",
              "      <th>1</th>\n",
              "      <td>1</td>\n",
              "      <td>1</td>\n",
              "      <td>1</td>\n",
              "      <td>7.0</td>\n",
              "      <td>1.0</td>\n",
              "      <td>10.0</td>\n",
              "      <td>4.0</td>\n",
              "      <td>429.0</td>\n",
              "      <td>&lt;p&gt;As a researcher and instructor, I'm looking...</td>\n",
              "      <td>What open-source books (or other materials) pr...</td>\n",
              "      <td>&lt;education&gt;&lt;open-source&gt;</td>\n",
              "      <td>3.0</td>\n",
              "      <td>&lt;p&gt;One book that's freely available is \"The El...</td>\n",
              "      <td>What open-source books (or other materials) pr...</td>\n",
              "    </tr>\n",
              "  </tbody>\n",
              "</table>\n",
              "</div>"
            ],
            "text/plain": [
              "   level_0  ...                                     Title+Body+Ans\n",
              "0        0  ...  How can I do simple machine learning without h...\n",
              "1        1  ...  What open-source books (or other materials) pr...\n",
              "\n",
              "[2 rows x 14 columns]"
            ]
          },
          "metadata": {
            "tags": []
          },
          "execution_count": 9
        }
      ]
    },
    {
      "cell_type": "code",
      "metadata": {
        "colab_type": "code",
        "id": "NVrOYuyp4cXs",
        "colab": {}
      },
      "source": [
        ""
      ],
      "execution_count": null,
      "outputs": []
    },
    {
      "cell_type": "markdown",
      "metadata": {
        "colab_type": "text",
        "id": "J_nAl3LE4c3V"
      },
      "source": [
        "Text Preprocessing"
      ]
    },
    {
      "cell_type": "code",
      "metadata": {
        "colab_type": "code",
        "id": "KSojDIFj5U1d",
        "colab": {}
      },
      "source": [
        "# https://stackoverflow.com/questions/9662346/python-code-to-remove-html-tags-from-a-string\n",
        "\n",
        "def cleancode(question):\n",
        "  code = str(re.findall(r'<code>(.*?)</code>', question, flags=re.DOTALL))\n",
        "  # print(code)\n",
        "  # print(\"******************************\")\n",
        "  question=re.sub('<code>(.*?)</code>', '', question, flags=re.MULTILINE|re.DOTALL)\n",
        "  # print(question)\n",
        "  return question\n",
        "\n",
        "# it removes the html tags\n",
        "def cleanhtml(raw_html):\n",
        "    cleanr = re.compile('<.*?>') \n",
        "    cleantext = re.sub(cleanr, '', raw_html)\n",
        "    cleanr = re.compile('<.*?>|&([a-z0-9]+|#[0-9]{1,6}|#x[0-9a-f]{1,6});')\n",
        "    cleantext = re.sub(cleanr, '', cleantext)\n",
        "    return cleantext.lower()\n",
        "\n",
        "# it removes the urls \n",
        "def cleanurls(x):\n",
        "    result = re.sub(r\"http\\S+\", \"\", x)\n",
        "    return result\n",
        "\n",
        "from nltk.corpus import stopwords\n",
        "\n",
        "stopwords= ['i', 'me', 'my', 'myself', 'we', 'our', 'ours', 'ourselves', 'you',\n",
        "\"you're\", \"you've\",\"you'll\", \"you'd\", 'your', 'yours', 'yourself', 'yourselves', 'he',\n",
        "'him', 'his', 'himself', 'she', \"she's\", 'her', 'hers', 'herself', 'it', \"it's\", 'its', 'itself', 'they',\n",
        "'them', 'their','theirs', 'themselves', 'what', 'which', 'who', 'whom', 'this', 'that', \"that'll\", 'these', 'those',\n",
        "'am', 'is', 'are', 'was', 'were', 'be', 'been', 'being', 'have', 'has', 'had', 'having', 'do', 'does', \n",
        "'did', 'doing', 'a', 'an', 'the', 'and', 'but', 'if', 'or', 'because', 'as', 'until', 'while', 'of', \n",
        "'at', 'by', 'for', 'with', 'about', 'against', 'between', 'into','through', 'during', 'before', 'after',\n",
        "'above', 'below', 'to', 'from', 'up', 'down', 'in', 'out', 'on', 'off', 'over', 'under', 'again', 'further',\n",
        "'then', 'once', 'here', 'there', 'when', 'where', 'why', 'how', 'all', 'any', 'both', 'each', 'few', 'more',\n",
        "'most', 'other', 'some', 'such', 'only', 'own', 'same', 'so', 'than', 'too', 'very',\n",
        "            's', 't', 'can', 'will', 'just', 'don', \"don't\", 'should', \"should've\", 'now', 'd', 'll', 'm', 'o', 're',\n",
        "'ve', 'y', 'ain', 'aren', \"aren't\", 'couldn', \"couldn't\", 'didn',\"didn't\", 'doesn', \"doesn't\", 'hadn',\n",
        "\"hadn't\", 'hasn', \"hasn't\", 'haven', \"haven't\", 'isn', \"isn't\", 'ma', 'mightn', \"mightn't\", 'mustn',\n",
        "            \"mustn't\", 'needn', \"needn't\", 'shan', \"shan't\", 'shouldn', \"shouldn't\", 'wasn', \"wasn't\", 'weren', \"weren't\", \n",
        "'won', \"won't\", 'wouldn', \"wouldn't\"]\n",
        "\n",
        "def decontracted(phrase):\n",
        "    # specific\n",
        "    phrase = re.sub(r\"won't\", \"will not\", phrase)\n",
        "    phrase = re.sub(r\"can\\'t\", \"can not\", phrase)\n",
        "    # general\n",
        "    phrase = re.sub(r\"n\\'t\", \" not\", phrase)\n",
        "    phrase = re.sub(r\"\\'re\", \" are\", phrase)\n",
        "    phrase = re.sub(r\"\\'s\", \" is\", phrase)\n",
        "    phrase = re.sub(r\"\\'d\", \" would\", phrase)\n",
        "    phrase = re.sub(r\"\\'ll\", \" will\", phrase)\n",
        "    phrase = re.sub(r\"\\'t\", \" not\", phrase)\n",
        "    phrase = re.sub(r\"\\'ve\", \" have\", phrase)\n",
        "    phrase = re.sub(r\"\\'m\", \" am\", phrase)\n",
        "    return phrase\n",
        "\n",
        "\n",
        "def col_decontracted(col):\n",
        "    clean_Title_Body_Ans = []\n",
        "    for titles in Questions[col].values:\n",
        "        title = decontracted(titles)\n",
        "        title = title.replace('\\\\r', ' ')\n",
        "        title = title.replace('\\\\\"', ' ')\n",
        "        title = title.replace('\\\\n', ' ')\n",
        "        title = re.sub('[^A-Za-z0-9]+', ' ', title)\n",
        "        title = ' '.join(f for f in title.split() if f not in stopwords)\n",
        "        clean_Title_Body_Ans.append(title.lower().strip())\n",
        "    return clean_Title_Body_Ans\n",
        "\n"
      ],
      "execution_count": null,
      "outputs": []
    },
    {
      "cell_type": "code",
      "metadata": {
        "colab_type": "code",
        "id": "emnZWpHg5Uzi",
        "colab": {}
      },
      "source": [
        "Questions['clean_Title_Body_Ans']=Questions['Title+Body+Ans'].apply(lambda x: cleanhtml(x))\n",
        "Questions['clean_Title_Body_Ans']=Questions['clean_Title_Body_Ans'].apply(lambda x: cleanurls(x))\n",
        "Questions['clean_Title_Body_Ans'] =col_decontracted(\"clean_Title_Body_Ans\")"
      ],
      "execution_count": null,
      "outputs": []
    },
    {
      "cell_type": "code",
      "metadata": {
        "colab_type": "code",
        "id": "7yYjhELQKO_M",
        "colab": {}
      },
      "source": [
        "Questions['clean_Title']=Questions['_Title'].apply(lambda x: cleanhtml(x))\n",
        "Questions['clean_Title']=Questions['clean_Title'].apply(lambda x: cleanurls(x))\n",
        "Questions['clean_Title'] =col_decontracted(\"clean_Title\")"
      ],
      "execution_count": null,
      "outputs": []
    },
    {
      "cell_type": "code",
      "metadata": {
        "colab_type": "code",
        "id": "zaAYphGnKPNX",
        "colab": {}
      },
      "source": [
        "Questions['~code_Body']=Questions['_Body'].apply(lambda x: cleancode(x))\n",
        "Questions['clean_Body']=Questions['~code_Body'].apply(lambda x: cleanhtml(x))\n",
        "\n",
        "# Questions['clean_Body']=Questions['_Body'].apply(lambda x: cleanhtml(x))\n",
        "Questions['clean_Body']=Questions['clean_Body'].apply(lambda x: cleanurls(x))\n",
        "Questions['clean_Body'] =col_decontracted(\"clean_Body\")"
      ],
      "execution_count": null,
      "outputs": []
    },
    {
      "cell_type": "code",
      "metadata": {
        "colab_type": "code",
        "id": "QoCcD5rUKPJw",
        "colab": {}
      },
      "source": [
        ""
      ],
      "execution_count": null,
      "outputs": []
    },
    {
      "cell_type": "code",
      "metadata": {
        "colab_type": "code",
        "id": "WeWEarnd5Uxu",
        "colab": {
          "base_uri": "https://localhost:8080/",
          "height": 214
        },
        "outputId": "78d69004-10ea-4633-e0c7-0cfa99dbbab3"
      },
      "source": [
        "Questions.head(1)"
      ],
      "execution_count": null,
      "outputs": [
        {
          "output_type": "execute_result",
          "data": {
            "text/html": [
              "<div>\n",
              "<style scoped>\n",
              "    .dataframe tbody tr th:only-of-type {\n",
              "        vertical-align: middle;\n",
              "    }\n",
              "\n",
              "    .dataframe tbody tr th {\n",
              "        vertical-align: top;\n",
              "    }\n",
              "\n",
              "    .dataframe thead th {\n",
              "        text-align: right;\n",
              "    }\n",
              "</style>\n",
              "<table border=\"1\" class=\"dataframe\">\n",
              "  <thead>\n",
              "    <tr style=\"text-align: right;\">\n",
              "      <th></th>\n",
              "      <th>level_0</th>\n",
              "      <th>Unnamed: 0</th>\n",
              "      <th>index</th>\n",
              "      <th>_Id</th>\n",
              "      <th>_PostTypeId</th>\n",
              "      <th>_AcceptedAnswerId</th>\n",
              "      <th>_Score</th>\n",
              "      <th>_ViewCount</th>\n",
              "      <th>_Body</th>\n",
              "      <th>_Title</th>\n",
              "      <th>_Tags</th>\n",
              "      <th>_AnswerCount</th>\n",
              "      <th>Ans</th>\n",
              "      <th>Title+Body+Ans</th>\n",
              "      <th>clean_Title_Body_Ans</th>\n",
              "      <th>clean_Title</th>\n",
              "      <th>~code_Body</th>\n",
              "      <th>clean_Body</th>\n",
              "    </tr>\n",
              "  </thead>\n",
              "  <tbody>\n",
              "    <tr>\n",
              "      <th>0</th>\n",
              "      <td>0</td>\n",
              "      <td>0</td>\n",
              "      <td>0</td>\n",
              "      <td>5.0</td>\n",
              "      <td>1.0</td>\n",
              "      <td>NaN</td>\n",
              "      <td>8.0</td>\n",
              "      <td>643.0</td>\n",
              "      <td>&lt;p&gt;I've always been interested in machine lear...</td>\n",
              "      <td>How can I do simple machine learning without h...</td>\n",
              "      <td>&lt;machine-learning&gt;</td>\n",
              "      <td>1.0</td>\n",
              "      <td>&lt;p&gt;Not sure if this fits the scope of this SE,...</td>\n",
              "      <td>How can I do simple machine learning without h...</td>\n",
              "      <td>simple machine learning without hard coding be...</td>\n",
              "      <td>simple machine learning without hard coding be...</td>\n",
              "      <td>&lt;p&gt;I've always been interested in machine lear...</td>\n",
              "      <td>always interested machine learning not figure ...</td>\n",
              "    </tr>\n",
              "  </tbody>\n",
              "</table>\n",
              "</div>"
            ],
            "text/plain": [
              "   level_0  ...                                         clean_Body\n",
              "0        0  ...  always interested machine learning not figure ...\n",
              "\n",
              "[1 rows x 18 columns]"
            ]
          },
          "metadata": {
            "tags": []
          },
          "execution_count": 14
        }
      ]
    },
    {
      "cell_type": "code",
      "metadata": {
        "colab_type": "code",
        "id": "VGeXLV2d5UwG",
        "colab": {}
      },
      "source": [
        "# taking only cleaned title and clean questions and actual questions\n",
        "df=Questions[['clean_Title','clean_Body','_Body']]"
      ],
      "execution_count": null,
      "outputs": []
    },
    {
      "cell_type": "code",
      "metadata": {
        "id": "QAkgaFeOFhtL",
        "colab_type": "code",
        "colab": {}
      },
      "source": [
        "# df=df.head(100)"
      ],
      "execution_count": null,
      "outputs": []
    },
    {
      "cell_type": "code",
      "metadata": {
        "colab_type": "code",
        "id": "s5Qb39rx5Urd",
        "colab": {}
      },
      "source": [
        "df=df.head(1000)"
      ],
      "execution_count": null,
      "outputs": []
    },
    {
      "cell_type": "code",
      "metadata": {
        "colab_type": "code",
        "id": "ZQLpfYVj5Up1",
        "colab": {
          "base_uri": "https://localhost:8080/",
          "height": 34
        },
        "outputId": "e47494b6-f4ce-4f5e-c347-1fd279da61dc"
      },
      "source": [
        "df.shape"
      ],
      "execution_count": null,
      "outputs": [
        {
          "output_type": "execute_result",
          "data": {
            "text/plain": [
              "(1000, 3)"
            ]
          },
          "metadata": {
            "tags": []
          },
          "execution_count": 24
        }
      ]
    },
    {
      "cell_type": "code",
      "metadata": {
        "colab_type": "code",
        "id": "lWMvI7WOh97z",
        "colab": {}
      },
      "source": [
        "# configurations \n",
        "batch_size = 512 \n",
        "encode_dim = 50  \n",
        "# max_num_words = 10000\n",
        "embedding_dim = 300"
      ],
      "execution_count": null,
      "outputs": []
    },
    {
      "cell_type": "code",
      "metadata": {
        "colab_type": "code",
        "id": "C9oEexDrh972",
        "colab": {}
      },
      "source": [
        "input_texts = []\n",
        "target_texts = [] \n",
        "target_texts_inputs = []"
      ],
      "execution_count": null,
      "outputs": []
    },
    {
      "cell_type": "code",
      "metadata": {
        "id": "b4VTnB4FSnOq",
        "colab_type": "code",
        "colab": {}
      },
      "source": [
        ""
      ],
      "execution_count": null,
      "outputs": []
    },
    {
      "cell_type": "code",
      "metadata": {
        "colab_type": "code",
        "id": "e08rtWjH83Yx",
        "colab": {}
      },
      "source": [
        "# taking each element into list\n",
        "for i in range(len(df)):\n",
        "  input_texts.append(df['clean_Body'].iloc[i])\n",
        "  target_texts.append(df['clean_Title'].iloc[i]+' >')\n",
        "  target_texts_inputs.append('< '+df['clean_Title'].iloc[i])\n"
      ],
      "execution_count": null,
      "outputs": []
    },
    {
      "cell_type": "code",
      "metadata": {
        "id": "zZILlrv1Sfaf",
        "colab_type": "code",
        "colab": {}
      },
      "source": [
        "\n"
      ],
      "execution_count": null,
      "outputs": []
    },
    {
      "cell_type": "code",
      "metadata": {
        "colab_type": "code",
        "id": "HjwP_ONKh975",
        "colab": {
          "base_uri": "https://localhost:8080/",
          "height": 52
        },
        "outputId": "75df88ad-3bc9-426e-ce70-cc77704eff74"
      },
      "source": [
        "print(target_texts_inputs[0])\n",
        "target_texts[0]"
      ],
      "execution_count": null,
      "outputs": [
        {
          "output_type": "stream",
          "text": [
            "< simple machine learning without hard coding behavior\n"
          ],
          "name": "stdout"
        },
        {
          "output_type": "execute_result",
          "data": {
            "text/plain": [
              "'simple machine learning without hard coding behavior >'"
            ]
          },
          "metadata": {
            "tags": []
          },
          "execution_count": 28
        }
      ]
    },
    {
      "cell_type": "code",
      "metadata": {
        "colab_type": "code",
        "id": "xE2y9Oblh978",
        "colab": {
          "base_uri": "https://localhost:8080/",
          "height": 54
        },
        "outputId": "7e7d71ff-972d-48d3-c61b-b162304ea1fb"
      },
      "source": [
        "print(f' Input:{input_texts[0]} - Target :{target_texts[0]} -  Target Input :{target_texts_inputs[0]}')"
      ],
      "execution_count": null,
      "outputs": [
        {
          "output_type": "stream",
          "text": [
            " Input:always interested machine learning not figure one thing starting simple hello world example avoid hard coding behavior example wanted teach bot avoid randomly placed obstacles could not use relative motion obstacles move around not want hard code say distance ruins whole point machine learning obviously randomly generating code would impractical could - Target :simple machine learning without hard coding behavior > -  Target Input :< simple machine learning without hard coding behavior\n"
          ],
          "name": "stdout"
        }
      ]
    },
    {
      "cell_type": "code",
      "metadata": {
        "colab_type": "code",
        "id": "5iyicJrqLrGY",
        "colab": {}
      },
      "source": [
        "# from keras.preprocessing.text import Tokenizer\n",
        "# # define 5 documents\n",
        "# docs = ['work done Well!',\n",
        "# \t\t'work Good work done',\n",
        "# \t\t'Great work effort',\n",
        "# \t\t'nice work',\n",
        "# \t\t'Excellent!']\n",
        "# # create the tokenizer\n",
        "# t = Tokenizer(num_words=4)\n",
        "# # fit the tokenizer on the documents\n",
        "# t.fit_on_texts(docs)\n",
        "# # summarize what was learned\n",
        "# # print(t.word_counts)\n",
        "# print(t.document_count)\n",
        "# print(t.word_index)\n",
        "# # print(t.word_docs)\n",
        "# # integer encode documents\n",
        "# encoded_docs = t.texts_to_matrix(docs, mode='count')\n",
        "# # print(encoded_docs)\n",
        "\n",
        "# texts_to_sequences1=t.texts_to_sequences(docs)\n",
        "# print(texts_to_sequences1)"
      ],
      "execution_count": null,
      "outputs": []
    },
    {
      "cell_type": "code",
      "metadata": {
        "colab_type": "code",
        "id": "UgGey8ish97_",
        "colab": {}
      },
      "source": [
        "#tokenizing the inputs\n",
        "tokenizer_inputs = Tokenizer(num_words=None, char_level=True)# max_num_words\n",
        "tokenizer_inputs.fit_on_texts(input_texts)\n",
        "input_sequences = tokenizer_inputs.texts_to_sequences(input_texts)"
      ],
      "execution_count": null,
      "outputs": []
    },
    {
      "cell_type": "code",
      "metadata": {
        "colab_type": "code",
        "id": "N3wmv9HoIIkw",
        "colab": {}
      },
      "source": [
        "# max_num_words"
      ],
      "execution_count": null,
      "outputs": []
    },
    {
      "cell_type": "code",
      "metadata": {
        "colab_type": "code",
        "id": "oaEppBqhh98C",
        "colab": {
          "base_uri": "https://localhost:8080/",
          "height": 34
        },
        "outputId": "5f77205a-65d5-4dc6-ebe4-ff5425744f25"
      },
      "source": [
        "len(input_sequences[0])"
      ],
      "execution_count": null,
      "outputs": [
        {
          "output_type": "execute_result",
          "data": {
            "text/plain": [
              "353"
            ]
          },
          "metadata": {
            "tags": []
          },
          "execution_count": 33
        }
      ]
    },
    {
      "cell_type": "code",
      "metadata": {
        "id": "1aMFPyhgQq7p",
        "colab_type": "code",
        "colab": {
          "base_uri": "https://localhost:8080/",
          "height": 674
        },
        "outputId": "afea44e9-5e2e-40c5-fda4-7991e7a45d2c"
      },
      "source": [
        "tokenizer_inputs.word_index"
      ],
      "execution_count": null,
      "outputs": [
        {
          "output_type": "execute_result",
          "data": {
            "text/plain": [
              "{' ': 1,\n",
              " '0': 25,\n",
              " '1': 26,\n",
              " '2': 28,\n",
              " '3': 31,\n",
              " '4': 33,\n",
              " '5': 32,\n",
              " '6': 35,\n",
              " '7': 34,\n",
              " '8': 37,\n",
              " '9': 36,\n",
              " 'a': 4,\n",
              " 'b': 20,\n",
              " 'c': 11,\n",
              " 'd': 12,\n",
              " 'e': 2,\n",
              " 'f': 18,\n",
              " 'g': 16,\n",
              " 'h': 17,\n",
              " 'i': 5,\n",
              " 'j': 30,\n",
              " 'k': 23,\n",
              " 'l': 10,\n",
              " 'm': 14,\n",
              " 'n': 7,\n",
              " 'o': 9,\n",
              " 'p': 15,\n",
              " 'q': 27,\n",
              " 'r': 8,\n",
              " 's': 6,\n",
              " 't': 3,\n",
              " 'u': 13,\n",
              " 'v': 22,\n",
              " 'w': 21,\n",
              " 'x': 24,\n",
              " 'y': 19,\n",
              " 'z': 29}"
            ]
          },
          "metadata": {
            "tags": []
          },
          "execution_count": 34
        }
      ]
    },
    {
      "cell_type": "code",
      "metadata": {
        "colab_type": "code",
        "id": "OSAUK3h9h98F",
        "colab": {
          "base_uri": "https://localhost:8080/",
          "height": 34
        },
        "outputId": "ca69456f-82c7-480b-b59a-7dde450be047"
      },
      "source": [
        "# mapping unique word to unique index\n",
        "word_2_index_inputs = tokenizer_inputs.word_index\n",
        "print('Found %s unique input tokens.' % len(word_2_index_inputs))"
      ],
      "execution_count": null,
      "outputs": [
        {
          "output_type": "stream",
          "text": [
            "Found 37 unique input tokens.\n"
          ],
          "name": "stdout"
        }
      ]
    },
    {
      "cell_type": "code",
      "metadata": {
        "colab_type": "code",
        "id": "w_LFH0P4h98I",
        "colab": {
          "base_uri": "https://localhost:8080/",
          "height": 34
        },
        "outputId": "a07059cb-a449-4e1b-96d4-9c164177bd32"
      },
      "source": [
        "# highest no of words in input sentence\n",
        "max_len_input = max(len(s) for s in input_sequences)\n",
        "max_len_input"
      ],
      "execution_count": null,
      "outputs": [
        {
          "output_type": "execute_result",
          "data": {
            "text/plain": [
              "7975"
            ]
          },
          "metadata": {
            "tags": []
          },
          "execution_count": 36
        }
      ]
    },
    {
      "cell_type": "code",
      "metadata": {
        "id": "5XPr5NiCSGpN",
        "colab_type": "code",
        "colab": {
          "base_uri": "https://localhost:8080/",
          "height": 34
        },
        "outputId": "8a7072c3-bd51-439c-d952-cba88831e195"
      },
      "source": [
        "arr=[]\n",
        "for i in input_sequences:\n",
        "  arr.append(len(i))\n",
        "# s=s/len(input_sequences)\n",
        "arr.sort(reverse=True)\n",
        "len(arr)"
      ],
      "execution_count": null,
      "outputs": [
        {
          "output_type": "execute_result",
          "data": {
            "text/plain": [
              "1000"
            ]
          },
          "metadata": {
            "tags": []
          },
          "execution_count": 37
        }
      ]
    },
    {
      "cell_type": "code",
      "metadata": {
        "id": "Nko9D3j-xmbK",
        "colab_type": "code",
        "colab": {
          "base_uri": "https://localhost:8080/",
          "height": 34
        },
        "outputId": "4f20a436-9c2c-4ec1-be16-3841d233545b"
      },
      "source": [
        "arr[0:10]"
      ],
      "execution_count": null,
      "outputs": [
        {
          "output_type": "execute_result",
          "data": {
            "text/plain": [
              "[7975, 3841, 2817, 2597, 2417, 2407, 2405, 2153, 2141, 2132]"
            ]
          },
          "metadata": {
            "tags": []
          },
          "execution_count": 38
        }
      ]
    },
    {
      "cell_type": "code",
      "metadata": {
        "colab_type": "code",
        "id": "i2Q0bjumh98L",
        "colab": {}
      },
      "source": [
        "#tokenizing the outputs\n",
        "tokenizer_outputs = Tokenizer(num_words=None, char_level=True, filters='')\n",
        "tokenizer_outputs.fit_on_texts(target_texts + target_texts_inputs)\n",
        "target_sequences = tokenizer_outputs.texts_to_sequences(target_texts)\n",
        "target_sequences_inputs = tokenizer_outputs.texts_to_sequences(target_texts_inputs)"
      ],
      "execution_count": null,
      "outputs": []
    },
    {
      "cell_type": "code",
      "metadata": {
        "colab_type": "code",
        "id": "lkhZVIlXh98O",
        "colab": {
          "base_uri": "https://localhost:8080/",
          "height": 34
        },
        "outputId": "07a4f837-9430-4a3b-97f9-cb671b7d9961"
      },
      "source": [
        "len(target_sequences_inputs[0])"
      ],
      "execution_count": null,
      "outputs": [
        {
          "output_type": "execute_result",
          "data": {
            "text/plain": [
              "54"
            ]
          },
          "metadata": {
            "tags": []
          },
          "execution_count": 40
        }
      ]
    },
    {
      "cell_type": "code",
      "metadata": {
        "colab_type": "code",
        "id": "p1qTYW_3h98T",
        "colab": {
          "base_uri": "https://localhost:8080/",
          "height": 34
        },
        "outputId": "c20a23ab-ffd2-4917-fd7b-5f372e87a152"
      },
      "source": [
        "word_2_index_outputs = tokenizer_outputs.word_index\n",
        "print('Found %s unique output tokens.' % len(word_2_index_outputs))"
      ],
      "execution_count": null,
      "outputs": [
        {
          "output_type": "stream",
          "text": [
            "Found 38 unique output tokens.\n"
          ],
          "name": "stdout"
        }
      ]
    },
    {
      "cell_type": "code",
      "metadata": {
        "colab_type": "code",
        "id": "9iT2LHegyrfJ",
        "colab": {
          "base_uri": "https://localhost:8080/",
          "height": 692
        },
        "outputId": "64661083-5522-496f-c988-72107bc9b408"
      },
      "source": [
        "word_2_index_outputs"
      ],
      "execution_count": null,
      "outputs": [
        {
          "output_type": "execute_result",
          "data": {
            "text/plain": [
              "{' ': 1,\n",
              " '0': 31,\n",
              " '1': 32,\n",
              " '2': 30,\n",
              " '3': 33,\n",
              " '4': 34,\n",
              " '5': 35,\n",
              " '6': 36,\n",
              " '7': 38,\n",
              " '8': 37,\n",
              " '<': 20,\n",
              " '>': 19,\n",
              " 'a': 3,\n",
              " 'b': 21,\n",
              " 'c': 11,\n",
              " 'd': 12,\n",
              " 'e': 2,\n",
              " 'f': 18,\n",
              " 'g': 13,\n",
              " 'h': 17,\n",
              " 'i': 4,\n",
              " 'j': 29,\n",
              " 'k': 24,\n",
              " 'l': 10,\n",
              " 'm': 14,\n",
              " 'n': 6,\n",
              " 'o': 9,\n",
              " 'p': 15,\n",
              " 'q': 28,\n",
              " 'r': 8,\n",
              " 's': 7,\n",
              " 't': 5,\n",
              " 'u': 16,\n",
              " 'v': 23,\n",
              " 'w': 25,\n",
              " 'x': 26,\n",
              " 'y': 22,\n",
              " 'z': 27}"
            ]
          },
          "metadata": {
            "tags": []
          },
          "execution_count": 42
        }
      ]
    },
    {
      "cell_type": "code",
      "metadata": {
        "colab_type": "code",
        "id": "Dn2PTid0h98W",
        "colab": {}
      },
      "source": [
        "num_words_output = len(word_2_index_outputs) + 1"
      ],
      "execution_count": null,
      "outputs": []
    },
    {
      "cell_type": "code",
      "metadata": {
        "id": "mNMZwCengp2Z",
        "colab_type": "code",
        "colab": {}
      },
      "source": [
        ""
      ],
      "execution_count": null,
      "outputs": []
    },
    {
      "cell_type": "code",
      "metadata": {
        "colab_type": "code",
        "id": "QGybqIRSh98i",
        "colab": {
          "base_uri": "https://localhost:8080/",
          "height": 34
        },
        "outputId": "65eb0e31-93af-4319-c61a-a0092dfef1cd"
      },
      "source": [
        "# highest no of words in output sentence\n",
        "max_len_target = max(len(s) for s in target_sequences)\n",
        "max_len_target"
      ],
      "execution_count": null,
      "outputs": [
        {
          "output_type": "execute_result",
          "data": {
            "text/plain": [
              "120"
            ]
          },
          "metadata": {
            "tags": []
          },
          "execution_count": 44
        }
      ]
    },
    {
      "cell_type": "code",
      "metadata": {
        "id": "PagB_FeXwXUU",
        "colab_type": "code",
        "colab": {
          "base_uri": "https://localhost:8080/",
          "height": 34
        },
        "outputId": "bd1a7ce0-ad2e-4567-9c89-e18289fb8a41"
      },
      "source": [
        "arr=[]\n",
        "for i in target_sequences:\n",
        "  arr.append(len(i))\n",
        "# s=s/len(input_sequences)\n",
        "arr.sort(reverse=True)\n",
        "len(arr)"
      ],
      "execution_count": null,
      "outputs": [
        {
          "output_type": "execute_result",
          "data": {
            "text/plain": [
              "1000"
            ]
          },
          "metadata": {
            "tags": []
          },
          "execution_count": 45
        }
      ]
    },
    {
      "cell_type": "code",
      "metadata": {
        "id": "TECZDO8ozjn1",
        "colab_type": "code",
        "colab": {
          "base_uri": "https://localhost:8080/",
          "height": 34
        },
        "outputId": "eab360a9-6650-4647-d95f-7865f2b8e366"
      },
      "source": [
        "arr[0:10]"
      ],
      "execution_count": null,
      "outputs": [
        {
          "output_type": "execute_result",
          "data": {
            "text/plain": [
              "[120, 115, 104, 102, 98, 97, 95, 93, 92, 90]"
            ]
          },
          "metadata": {
            "tags": []
          },
          "execution_count": 46
        }
      ]
    },
    {
      "cell_type": "code",
      "metadata": {
        "colab_type": "code",
        "id": "PL3CkMPmh98n",
        "colab": {
          "base_uri": "https://localhost:8080/",
          "height": 52
        },
        "outputId": "cc0c2dfd-e9c4-411a-f813-e70d9a1afba2"
      },
      "source": [
        "#padding for encoder inputs\n",
        "encoder_inputs = pad_sequences(input_sequences, maxlen=4000)\n",
        "print(\"encoder_inputs.shape:\", encoder_inputs.shape)\n",
        "print(\"encoder_inputs[0]:\", encoder_inputs[0])"
      ],
      "execution_count": null,
      "outputs": [
        {
          "output_type": "stream",
          "text": [
            "encoder_inputs.shape: (1000, 4000)\n",
            "encoder_inputs[0]: [ 0  0  0 ... 13 10 12]\n"
          ],
          "name": "stdout"
        }
      ]
    },
    {
      "cell_type": "code",
      "metadata": {
        "colab_type": "code",
        "id": "IT5QZ5P90dpG",
        "colab": {}
      },
      "source": [
        ""
      ],
      "execution_count": null,
      "outputs": []
    },
    {
      "cell_type": "code",
      "metadata": {
        "colab_type": "code",
        "id": "gm4MWk3Ah98w",
        "colab": {
          "base_uri": "https://localhost:8080/",
          "height": 123
        },
        "outputId": "1682ccfa-da02-493c-8883-0d9dcf1d1774"
      },
      "source": [
        "#padding for decoder input\n",
        "decoder_inputs = pad_sequences(target_sequences_inputs, maxlen=max_len_target, padding='post')\n",
        "print(\"decoder_inputs[0]:\", decoder_inputs[0])\n",
        "print(\"decoder_inputs.shape:\", decoder_inputs.shape)"
      ],
      "execution_count": null,
      "outputs": [
        {
          "output_type": "stream",
          "text": [
            "decoder_inputs[0]: [20  1  7  4 14 15 10  2  1 14  3 11 17  4  6  2  1 10  2  3  8  6  4  6\n",
            " 13  1 25  4  5 17  9 16  5  1 17  3  8 12  1 11  9 12  4  6 13  1 21  2\n",
            " 17  3 23  4  9  8  0  0  0  0  0  0  0  0  0  0  0  0  0  0  0  0  0  0\n",
            "  0  0  0  0  0  0  0  0  0  0  0  0  0  0  0  0  0  0  0  0  0  0  0  0\n",
            "  0  0  0  0  0  0  0  0  0  0  0  0  0  0  0  0  0  0  0  0  0  0  0  0]\n",
            "decoder_inputs.shape: (1000, 120)\n"
          ],
          "name": "stdout"
        }
      ]
    },
    {
      "cell_type": "code",
      "metadata": {
        "colab_type": "code",
        "id": "p9njztzch99B",
        "colab": {
          "base_uri": "https://localhost:8080/",
          "height": 123
        },
        "outputId": "0c99b6a9-b540-45a3-fb90-342c51a452bd"
      },
      "source": [
        "#padding for decoder target\n",
        "decoder_targets = pad_sequences(target_sequences, maxlen=max_len_target, padding='post')\n",
        "print(\"decoder_targets[0]:\", decoder_targets[0])\n",
        "print(\"decoder_targets.shape:\", decoder_targets.shape)"
      ],
      "execution_count": null,
      "outputs": [
        {
          "output_type": "stream",
          "text": [
            "decoder_targets[0]: [ 7  4 14 15 10  2  1 14  3 11 17  4  6  2  1 10  2  3  8  6  4  6 13  1\n",
            " 25  4  5 17  9 16  5  1 17  3  8 12  1 11  9 12  4  6 13  1 21  2 17  3\n",
            " 23  4  9  8  1 19  0  0  0  0  0  0  0  0  0  0  0  0  0  0  0  0  0  0\n",
            "  0  0  0  0  0  0  0  0  0  0  0  0  0  0  0  0  0  0  0  0  0  0  0  0\n",
            "  0  0  0  0  0  0  0  0  0  0  0  0  0  0  0  0  0  0  0  0  0  0  0  0]\n",
            "decoder_targets.shape: (1000, 120)\n"
          ],
          "name": "stdout"
        }
      ]
    },
    {
      "cell_type": "code",
      "metadata": {
        "colab_type": "code",
        "id": "2F6ubNPXh99W",
        "colab": {
          "base_uri": "https://localhost:8080/",
          "height": 52
        },
        "outputId": "5b8f78dc-309b-44b2-a009-467443ad27d0"
      },
      "source": [
        "import os\n",
        "print('Loading word vectors...')\n",
        "word2vec = {}\n",
        "with open(os.path.join('/content/drive/My Drive/casestudy1/glove.840B.%sd-char.txt' % embedding_dim), encoding='utf8') as f: # glove.6B.%sd.txt\n",
        "    for line in f:\n",
        "        values = line.split()\n",
        "        word = values[0]\n",
        "        vec = np.asarray(values[1:], dtype='float32')\n",
        "        word2vec[word] = vec\n",
        "print('Found %s word vectors.' % len(word2vec))"
      ],
      "execution_count": null,
      "outputs": [
        {
          "output_type": "stream",
          "text": [
            "Loading word vectors...\n",
            "Found 94 word vectors.\n"
          ],
          "name": "stdout"
        }
      ]
    },
    {
      "cell_type": "code",
      "metadata": {
        "colab_type": "code",
        "id": "gOvTg5M810hc",
        "colab": {
          "base_uri": "https://localhost:8080/",
          "height": 34
        },
        "outputId": "98f7ffdc-c76a-4106-a5dd-14a782860a2a"
      },
      "source": [
        "len(word_2_index_inputs)"
      ],
      "execution_count": null,
      "outputs": [
        {
          "output_type": "execute_result",
          "data": {
            "text/plain": [
              "37"
            ]
          },
          "metadata": {
            "tags": []
          },
          "execution_count": 51
        }
      ]
    },
    {
      "cell_type": "code",
      "metadata": {
        "id": "0nMjkD3_oDGW",
        "colab_type": "code",
        "colab": {}
      },
      "source": [
        "# import numpy as np\n",
        "# objects_one_hot = np.array([[1, 0, 0, 0], [0, 1, 0, 0], [0, 0, 1, 0], [0, 1, 0, 0], \n",
        "#      [0, 0 , 0, 1], [1, 0, 0, 0], [0, 1, 0, 0], [0, 0, 1, 0], [0, 1, 0, 0]]) \n",
        "# print(objects_one_hot.shape)\n",
        "# M = np.array([[1, 1], [1, 2], [2, 2], [3,3]])\n",
        "# print(M.shape)\n",
        "# objects_one_hot.dot(M).shape"
      ],
      "execution_count": null,
      "outputs": []
    },
    {
      "cell_type": "code",
      "metadata": {
        "id": "P1xzyyqNcTxT",
        "colab_type": "code",
        "colab": {}
      },
      "source": [
        ""
      ],
      "execution_count": null,
      "outputs": []
    },
    {
      "cell_type": "code",
      "metadata": {
        "colab_type": "code",
        "id": "D865-04yh99q",
        "colab": {}
      },
      "source": [
        "num_words = len(word_2_index_inputs) + 1 #min(max_num_words, len(word_2_index_inputs) + 1)\n",
        "embedding_matrix = np.zeros((num_words, embedding_dim))\n",
        "for word, i in word_2_index_inputs.items():\n",
        "    if i < num_words:\n",
        "        embedding_vector = word2vec.get(word)\n",
        "        if embedding_vector is not None:\n",
        "            embedding_matrix[i] = embedding_vector"
      ],
      "execution_count": null,
      "outputs": []
    },
    {
      "cell_type": "code",
      "metadata": {
        "colab_type": "code",
        "id": "i-7yuuoMD_g5",
        "colab": {}
      },
      "source": [
        "# embedding_matrix[2]"
      ],
      "execution_count": null,
      "outputs": []
    },
    {
      "cell_type": "code",
      "metadata": {
        "colab_type": "code",
        "id": "vTy-UbdWF7Iz",
        "colab": {}
      },
      "source": [
        "# https://machinelearningmastery.com/use-word-embedding-layers-deep-learning-keras/\n",
        "\n",
        "# Creating am embedding layer\n",
        "\n",
        "embedding_layer = Embedding(\n",
        "  num_words,\n",
        "  embedding_dim,\n",
        "  weights=[embedding_matrix],\n",
        "  input_length=max_len_input,\n",
        "  trainable=False\n",
        ")"
      ],
      "execution_count": null,
      "outputs": []
    },
    {
      "cell_type": "code",
      "metadata": {
        "id": "ph8z1dJjD9NW",
        "colab_type": "code",
        "colab": {}
      },
      "source": [
        "# https://machinelearningmastery.com/return-sequences-and-return-states-for-lstms-in-keras/\n",
        "# from keras.models import Model\n",
        "# from keras.layers import Input\n",
        "# from keras.layers import LSTM\n",
        "# from numpy import array\n",
        "# # define model\n",
        "# inputs1 = Input(shape=(3, 1))\n",
        "# lstm1 = LSTM(1,return_sequences=True)(inputs1)# return_state=True | return_sequences=True\n",
        "# lstm2 = LSTM(1,return_state=True)(inputs1)\n",
        "# lstm3 = LSTM(1,return_sequences=True,return_state=True)(inputs1)\n",
        "# model1 = Model(inputs=inputs1, outputs=lstm1)\n",
        "# model2 = Model(inputs=inputs1, outputs=lstm2)\n",
        "# model3 = Model(inputs=inputs1, outputs=lstm3)\n",
        "# # define input data\n",
        "# data = array([0.1, 0.2, 0.3]).reshape((1,3,1))\n",
        "# # make and show prediction\n",
        "# print(model1.predict(data))\n",
        "# print(model2.predict(data))\n",
        "# print(model3.predict(data))"
      ],
      "execution_count": null,
      "outputs": []
    },
    {
      "cell_type": "code",
      "metadata": {
        "colab_type": "code",
        "id": "guOuy9DoGr6N",
        "colab": {}
      },
      "source": [
        "# creating the model\n",
        "encoder_inputs_placeholder = Input(shape=(4000,))\n",
        "x = embedding_layer(encoder_inputs_placeholder)\n",
        "encoder = LSTM(\n",
        "  encode_dim,\n",
        "  return_state=True,\n",
        "  dropout=0.5 \n",
        ")\n",
        "\n",
        "encoder_outputs, h, c = encoder(x)\n",
        "\n",
        "encoder_states = [h, c] # this states will pass to decoder\n",
        "\n",
        "decoder_inputs_placeholder = Input(shape=(max_len_target,))\n",
        "\n",
        "decoder_embedding = Embedding(num_words_output, encode_dim)\n",
        "decoder_inputs_x = decoder_embedding(decoder_inputs_placeholder)\n",
        "\n",
        "decoder_dense0 = Dense(250, activation=\"relu\")\n",
        "dense0 = decoder_dense0(decoder_inputs_x)\n",
        "dense0 = BatchNormalization()(dense0)\n",
        "\n",
        "# return_sequences=True for allowing to give the output\n",
        "decoder_lstm = LSTM(\n",
        "  encode_dim,\n",
        "  return_sequences=True,\n",
        "  return_state=True,\n",
        "  dropout=0.5 \n",
        ")\n",
        "\n",
        "decoder_outputs, _, _ = decoder_lstm(\n",
        "  dense0,\n",
        "  initial_state=encoder_states\n",
        ")\n",
        "\n",
        "decoder_dense = Dense(40, activation='softmax')\n",
        "decoder_outputs = decoder_dense(decoder_outputs)\n",
        "\n",
        "model = Model([encoder_inputs_placeholder, decoder_inputs_placeholder], decoder_outputs)\n",
        "\n",
        "model.compile(\n",
        "  optimizer='adam',\n",
        "  loss='sparse_categorical_crossentropy', # using sparse_categorical_crossentropy we can send integers as my targets to predict instead of changing to onehotencoding\n",
        "  metrics=['sparse_categorical_accuracy']\n",
        ")"
      ],
      "execution_count": null,
      "outputs": []
    },
    {
      "cell_type": "code",
      "metadata": {
        "colab_type": "code",
        "id": "C_d49Tc0JHlN",
        "colab": {
          "base_uri": "https://localhost:8080/",
          "height": 34
        },
        "outputId": "4400614a-011a-4bbe-f908-2beeccd1fa01"
      },
      "source": [
        "decoder_inputs.shape "
      ],
      "execution_count": null,
      "outputs": [
        {
          "output_type": "execute_result",
          "data": {
            "text/plain": [
              "(1000, 120)"
            ]
          },
          "metadata": {
            "tags": []
          },
          "execution_count": 58
        }
      ]
    },
    {
      "cell_type": "code",
      "metadata": {
        "colab_type": "code",
        "id": "SPKW9kbSDKGS",
        "colab": {
          "base_uri": "https://localhost:8080/",
          "height": 514
        },
        "outputId": "6f6b7c4c-5a71-44e7-d4bc-864201b5babb"
      },
      "source": [
        "model.summary()"
      ],
      "execution_count": null,
      "outputs": [
        {
          "output_type": "stream",
          "text": [
            "Model: \"model\"\n",
            "__________________________________________________________________________________________________\n",
            "Layer (type)                    Output Shape         Param #     Connected to                     \n",
            "==================================================================================================\n",
            "input_2 (InputLayer)            [(None, 120)]        0                                            \n",
            "__________________________________________________________________________________________________\n",
            "embedding_1 (Embedding)         (None, 120, 50)      1950        input_2[0][0]                    \n",
            "__________________________________________________________________________________________________\n",
            "input_1 (InputLayer)            [(None, 4000)]       0                                            \n",
            "__________________________________________________________________________________________________\n",
            "dense (Dense)                   (None, 120, 250)     12750       embedding_1[0][0]                \n",
            "__________________________________________________________________________________________________\n",
            "embedding (Embedding)           (None, 4000, 300)    11400       input_1[0][0]                    \n",
            "__________________________________________________________________________________________________\n",
            "batch_normalization (BatchNorma (None, 120, 250)     1000        dense[0][0]                      \n",
            "__________________________________________________________________________________________________\n",
            "lstm (LSTM)                     [(None, 50), (None,  70200       embedding[0][0]                  \n",
            "__________________________________________________________________________________________________\n",
            "lstm_1 (LSTM)                   [(None, 120, 50), (N 60200       batch_normalization[0][0]        \n",
            "                                                                 lstm[0][1]                       \n",
            "                                                                 lstm[0][2]                       \n",
            "__________________________________________________________________________________________________\n",
            "dense_1 (Dense)                 (None, 120, 40)      2040        lstm_1[0][0]                     \n",
            "==================================================================================================\n",
            "Total params: 159,540\n",
            "Trainable params: 147,640\n",
            "Non-trainable params: 11,900\n",
            "__________________________________________________________________________________________________\n"
          ],
          "name": "stdout"
        }
      ]
    },
    {
      "cell_type": "code",
      "metadata": {
        "colab_type": "code",
        "id": "RQ4HPtWn-ZFB",
        "colab": {
          "base_uri": "https://localhost:8080/",
          "height": 644
        },
        "outputId": "96152960-b2b9-466f-ad0c-6184e9427219"
      },
      "source": [
        "from tensorflow.keras.utils import plot_model\n",
        "plot_model(model, to_file='model.png', show_shapes=True)"
      ],
      "execution_count": null,
      "outputs": [
        {
          "output_type": "execute_result",
          "data": {
            "image/png": "[encoded data removed]",
            "text/plain": [
              "<IPython.core.display.Image object>"
            ]
          },
          "metadata": {
            "tags": []
          },
          "execution_count": 60
        }
      ]
    },
    {
      "cell_type": "code",
      "metadata": {
        "colab_type": "code",
        "id": "MAzBJ4APTYGX",
        "colab": {
          "base_uri": "https://localhost:8080/",
          "height": 87
        },
        "outputId": "491dede3-241e-4240-98dc-9fa06605a97a"
      },
      "source": [
        "print(decoder_inputs.shape)\n",
        "print(decoder_targets.shape)\n",
        "print(encoder_inputs.shape)\n",
        "print(np.expand_dims(decoder_targets, -1).shape)"
      ],
      "execution_count": null,
      "outputs": [
        {
          "output_type": "stream",
          "text": [
            "(1000, 120)\n",
            "(1000, 120)\n",
            "(1000, 4000)\n",
            "(1000, 120, 1)\n"
          ],
          "name": "stdout"
        }
      ]
    },
    {
      "cell_type": "code",
      "metadata": {
        "id": "G5Ebk7j4DTTs",
        "colab_type": "code",
        "colab": {}
      },
      "source": [
        "# decoder_inputs[:,:-1]"
      ],
      "execution_count": null,
      "outputs": []
    },
    {
      "cell_type": "code",
      "metadata": {
        "colab_type": "code",
        "id": "HfH8bgfsZlEd",
        "colab": {}
      },
      "source": [
        "#https://keras.io/callbacks/#modelcheckpoint\n",
        "from tensorflow.keras.callbacks import ModelCheckpoint,ReduceLROnPlateau,EarlyStopping\n",
        "checkpointer = ModelCheckpoint(filepath='model1.h5',monitor='loss',mode='min', verbose=1, save_best_only=True)\n",
        "es = EarlyStopping(monitor='loss',mode='min',patience=10)"
      ],
      "execution_count": null,
      "outputs": []
    },
    {
      "cell_type": "code",
      "metadata": {
        "id": "PW_KsL5WlS6A",
        "colab_type": "code",
        "colab": {
          "base_uri": "https://localhost:8080/",
          "height": 34
        },
        "outputId": "02c91aa3-a184-4bb3-bb3e-7ec9113a91b5"
      },
      "source": [
        "batch_size"
      ],
      "execution_count": null,
      "outputs": [
        {
          "output_type": "execute_result",
          "data": {
            "text/plain": [
              "512"
            ]
          },
          "metadata": {
            "tags": []
          },
          "execution_count": 64
        }
      ]
    },
    {
      "cell_type": "code",
      "metadata": {
        "colab_type": "code",
        "id": "_gFBI0Tzh99-",
        "colab": {
          "base_uri": "https://localhost:8080/",
          "height": 727
        },
        "outputId": "10ab2bb2-f97a-46e0-e316-1d823eb64d37"
      },
      "source": [
        "# https://stackoverflow.com/questions/44477489/keras-difference-between-categorical-accuracy-and-sparse-categorical-accuracy\n",
        "r = model.fit(\n",
        "  [encoder_inputs, decoder_inputs], np.expand_dims(decoder_targets, -1),\n",
        "  batch_size=batch_size,\n",
        "  epochs=10,\n",
        "  # validation_split=0.2,\n",
        "  callbacks=[checkpointer,es]\n",
        ")"
      ],
      "execution_count": null,
      "outputs": [
        {
          "output_type": "stream",
          "text": [
            "Epoch 1/10\n",
            "2/2 [==============================] - ETA: 0s - loss: 3.4802 - sparse_categorical_accuracy: 0.3264\n",
            "Epoch 00001: loss improved from inf to 3.48016, saving model to model1.h5\n",
            "2/2 [==============================] - 1s 457ms/step - loss: 3.4802 - sparse_categorical_accuracy: 0.3264\n",
            "Epoch 2/10\n",
            "2/2 [==============================] - ETA: 0s - loss: 2.9663 - sparse_categorical_accuracy: 0.6189\n",
            "Epoch 00002: loss improved from 3.48016 to 2.96628, saving model to model1.h5\n",
            "2/2 [==============================] - 1s 446ms/step - loss: 2.9663 - sparse_categorical_accuracy: 0.6189\n",
            "Epoch 3/10\n",
            "2/2 [==============================] - ETA: 0s - loss: 2.5429 - sparse_categorical_accuracy: 0.6211\n",
            "Epoch 00003: loss improved from 2.96628 to 2.54292, saving model to model1.h5\n",
            "2/2 [==============================] - 1s 444ms/step - loss: 2.5429 - sparse_categorical_accuracy: 0.6211\n",
            "Epoch 4/10\n",
            "2/2 [==============================] - ETA: 0s - loss: 2.2262 - sparse_categorical_accuracy: 0.6237\n",
            "Epoch 00004: loss improved from 2.54292 to 2.22618, saving model to model1.h5\n",
            "2/2 [==============================] - 1s 453ms/step - loss: 2.2262 - sparse_categorical_accuracy: 0.6237\n",
            "Epoch 5/10\n",
            "2/2 [==============================] - ETA: 0s - loss: 1.9821 - sparse_categorical_accuracy: 0.6282\n",
            "Epoch 00005: loss improved from 2.22618 to 1.98209, saving model to model1.h5\n",
            "2/2 [==============================] - 1s 444ms/step - loss: 1.9821 - sparse_categorical_accuracy: 0.6282\n",
            "Epoch 6/10\n",
            "2/2 [==============================] - ETA: 0s - loss: 1.7984 - sparse_categorical_accuracy: 0.6353\n",
            "Epoch 00006: loss improved from 1.98209 to 1.79843, saving model to model1.h5\n",
            "2/2 [==============================] - 1s 449ms/step - loss: 1.7984 - sparse_categorical_accuracy: 0.6353\n",
            "Epoch 7/10\n",
            "2/2 [==============================] - ETA: 0s - loss: 1.6633 - sparse_categorical_accuracy: 0.6409\n",
            "Epoch 00007: loss improved from 1.79843 to 1.66330, saving model to model1.h5\n",
            "2/2 [==============================] - 1s 444ms/step - loss: 1.6633 - sparse_categorical_accuracy: 0.6409\n",
            "Epoch 8/10\n",
            "2/2 [==============================] - ETA: 0s - loss: 1.5639 - sparse_categorical_accuracy: 0.6499\n",
            "Epoch 00008: loss improved from 1.66330 to 1.56390, saving model to model1.h5\n",
            "2/2 [==============================] - 1s 454ms/step - loss: 1.5639 - sparse_categorical_accuracy: 0.6499\n",
            "Epoch 9/10\n",
            "2/2 [==============================] - ETA: 0s - loss: 1.4930 - sparse_categorical_accuracy: 0.6595\n",
            "Epoch 00009: loss improved from 1.56390 to 1.49302, saving model to model1.h5\n",
            "2/2 [==============================] - 1s 445ms/step - loss: 1.4930 - sparse_categorical_accuracy: 0.6595\n",
            "Epoch 10/10\n",
            "2/2 [==============================] - ETA: 0s - loss: 1.4439 - sparse_categorical_accuracy: 0.6641\n",
            "Epoch 00010: loss improved from 1.49302 to 1.44390, saving model to model1.h5\n",
            "2/2 [==============================] - 1s 438ms/step - loss: 1.4439 - sparse_categorical_accuracy: 0.6641\n"
          ],
          "name": "stdout"
        }
      ]
    },
    {
      "cell_type": "code",
      "metadata": {
        "colab_type": "code",
        "id": "mE6DQ0Yqh3LE",
        "colab": {}
      },
      "source": [
        "from tensorflow.keras.models import load_model\n",
        "\n",
        "model = load_model(\"/content/model1.h5\")"
      ],
      "execution_count": null,
      "outputs": []
    },
    {
      "cell_type": "code",
      "metadata": {
        "colab_type": "code",
        "id": "EQELHxaYpisJ",
        "colab": {}
      },
      "source": [
        "# # 4-gram cumulative BLEU\n",
        "# from nltk.translate.bleu_score import sentence_bleu\n",
        "# reference = [['this', 'is', 'small', 'test']]\n",
        "# candidate = ['this', 'is', 'a', 'test']\n",
        "# score = sentence_bleu(reference, candidate, weights=(0.5,0.5,0,0))\n",
        "# print(score)"
      ],
      "execution_count": null,
      "outputs": []
    },
    {
      "cell_type": "code",
      "metadata": {
        "colab_type": "code",
        "id": "jpV2yU77h9-B",
        "colab": {
          "base_uri": "https://localhost:8080/",
          "height": 264
        },
        "outputId": "2221d65e-2723-4012-8287-b07bc9fc3a99"
      },
      "source": [
        "plt.plot(r.history['loss'], label='loss')\n",
        "# plt.plot(r.history['val_loss'], label='val_loss')\n",
        "plt.legend()\n",
        "plt.show()\n"
      ],
      "execution_count": null,
      "outputs": [
        {
          "output_type": "display_data",
          "data": {
            "image/png": "[encoded data removed]",
            "text/plain": [
              "<Figure size 432x288 with 1 Axes>"
            ]
          },
          "metadata": {
            "tags": [],
            "needs_background": "light"
          }
        }
      ]
    },
    {
      "cell_type": "code",
      "metadata": {
        "colab_type": "code",
        "id": "s9DyEEkevNiC",
        "colab": {}
      },
      "source": [
        "# encoder_inputs.shape"
      ],
      "execution_count": null,
      "outputs": []
    },
    {
      "cell_type": "code",
      "metadata": {
        "colab_type": "code",
        "id": "uHBF6KTUyeUO",
        "colab": {}
      },
      "source": [
        "\n",
        "# import datetime\n",
        "# start = datetime.datetime.now()\n",
        "# encoder_model = Model(encoder_inputs_placeholder, encoder_states)\n",
        "# corpus=[]\n",
        "# states_value = encoder_model.predict(encoder_inputs[0:0+1])\n",
        "# corpus.append(states_value[0][0])\n",
        "# print(\"Time it took: \",datetime.datetime.now()-start)"
      ],
      "execution_count": null,
      "outputs": []
    },
    {
      "cell_type": "code",
      "metadata": {
        "colab_type": "code",
        "id": "PkIpJsP42VA8",
        "colab": {
          "base_uri": "https://localhost:8080/",
          "height": 52
        },
        "outputId": "dfd660f2-70a2-4f3d-dac3-e92f1481a81b"
      },
      "source": [
        "encoder_states"
      ],
      "execution_count": null,
      "outputs": [
        {
          "output_type": "execute_result",
          "data": {
            "text/plain": [
              "[<tf.Tensor 'lstm/Identity_1:0' shape=(None, 50) dtype=float32>,\n",
              " <tf.Tensor 'lstm/Identity_2:0' shape=(None, 50) dtype=float32>]"
            ]
          },
          "metadata": {
            "tags": []
          },
          "execution_count": 67
        }
      ]
    },
    {
      "cell_type": "code",
      "metadata": {
        "colab_type": "code",
        "id": "I8BUKlS_0_g6",
        "colab": {}
      },
      "source": [
        "# import pandas as pd\n",
        "# x = pd.Series(encoder_states)\n",
        "# x.to_excel('encoder_states.xlsx')\n",
        "# y = list(pd.read_excel('encoder_states.xlsx')[0])\n",
        "# print(y)"
      ],
      "execution_count": null,
      "outputs": []
    },
    {
      "cell_type": "code",
      "metadata": {
        "colab_type": "code",
        "id": "AOZ8ybOfrpAa",
        "colab": {
          "base_uri": "https://localhost:8080/",
          "height": 34
        },
        "outputId": "2a20e9bb-ed76-4b04-9e18-677e6bbf5b3b"
      },
      "source": [
        "# vectorizing all the whole coupus from encoder model\n",
        "\n",
        "import datetime\n",
        "start = datetime.datetime.now()\n",
        "encoder_model = Model(encoder_inputs_placeholder, encoder_states)\n",
        "corpus=[]\n",
        "for i in range(len(encoder_inputs)):\n",
        "  states_value = encoder_model.predict(encoder_inputs[i:i+1])\n",
        "  corpus.append(states_value[0][0])\n",
        "print(\"Time it took: \",datetime.datetime.now()-start)"
      ],
      "execution_count": null,
      "outputs": [
        {
          "output_type": "stream",
          "text": [
            "Time it took:  0:01:15.041502\n"
          ],
          "name": "stdout"
        }
      ]
    },
    {
      "cell_type": "code",
      "metadata": {
        "id": "I1YC5Gv4YyEY",
        "colab_type": "code",
        "colab": {}
      },
      "source": [
        "pd.DataFrame(data=corpus).to_csv('corpus.csv')"
      ],
      "execution_count": null,
      "outputs": []
    },
    {
      "cell_type": "code",
      "metadata": {
        "colab_type": "code",
        "id": "t2Z1GFQWjSu3",
        "colab": {}
      },
      "source": [
        "# saving to csv\n",
        "df1=pd.read_csv(\"/content/corpus.csv\")"
      ],
      "execution_count": null,
      "outputs": []
    },
    {
      "cell_type": "code",
      "metadata": {
        "colab_type": "code",
        "id": "hsSCLUdKyWjr",
        "colab": {
          "base_uri": "https://localhost:8080/",
          "height": 34
        },
        "outputId": "67e520d4-41ea-4f03-cb6f-312cdfa5097b"
      },
      "source": [
        "df1=df1.drop(['Unnamed: 0'],axis=1)\n",
        "len(df1)"
      ],
      "execution_count": null,
      "outputs": [
        {
          "output_type": "execute_result",
          "data": {
            "text/plain": [
              "1000"
            ]
          },
          "metadata": {
            "tags": []
          },
          "execution_count": 71
        }
      ]
    },
    {
      "cell_type": "code",
      "metadata": {
        "colab_type": "code",
        "id": "--3t30EAprLn",
        "colab": {}
      },
      "source": [
        ""
      ],
      "execution_count": null,
      "outputs": []
    },
    {
      "cell_type": "code",
      "metadata": {
        "colab_type": "code",
        "id": "d4W5cip7P1AI",
        "colab": {
          "base_uri": "https://localhost:8080/",
          "height": 34
        },
        "outputId": "b1e3b6ca-0452-40c8-9677-eea3575e5cb8"
      },
      "source": [
        "corpus=df1.to_numpy()\n",
        "corpus.shape"
      ],
      "execution_count": null,
      "outputs": [
        {
          "output_type": "execute_result",
          "data": {
            "text/plain": [
              "(1000, 50)"
            ]
          },
          "metadata": {
            "tags": []
          },
          "execution_count": 72
        }
      ]
    },
    {
      "cell_type": "code",
      "metadata": {
        "colab_type": "code",
        "id": "dCTCV8tSqPTd",
        "colab": {}
      },
      "source": [
        ""
      ],
      "execution_count": null,
      "outputs": []
    },
    {
      "cell_type": "markdown",
      "metadata": {
        "colab_type": "text",
        "id": "s2-icG-w7bP0"
      },
      "source": [
        "# Testing "
      ]
    },
    {
      "cell_type": "code",
      "metadata": {
        "colab_type": "code",
        "id": "K49h8CilywCk",
        "colab": {
          "base_uri": "https://localhost:8080/",
          "height": 34
        },
        "outputId": "444e1e78-7096-46c5-dff2-4fa407d14589"
      },
      "source": [
        "string=[]\n",
        "s=input(\"Enter query \")\n",
        "string.append(s)"
      ],
      "execution_count": null,
      "outputs": [
        {
          "output_type": "stream",
          "text": [
            "Enter query best way to learn deep learning\n"
          ],
          "name": "stdout"
        }
      ]
    },
    {
      "cell_type": "code",
      "metadata": {
        "colab_type": "code",
        "id": "TPJTywjcE7yl",
        "colab": {}
      },
      "source": [
        "# best way to learn deep learning\n",
        "# logistic regression\n",
        "# difference between random forest and decision tree\n",
        "# good exercises to improve the speed\n",
        "# what are the exercise helps for running"
      ],
      "execution_count": null,
      "outputs": []
    },
    {
      "cell_type": "code",
      "metadata": {
        "colab_type": "code",
        "id": "X-hEHMCmEgwb",
        "colab": {}
      },
      "source": [
        "test_sequences=tokenizer_inputs.texts_to_sequences(string)\n",
        "encoder_inputs = pad_sequences(test_sequences, maxlen=4000) #max_len_input\n"
      ],
      "execution_count": null,
      "outputs": []
    },
    {
      "cell_type": "code",
      "metadata": {
        "colab_type": "code",
        "id": "eNGKu2AyHJHn",
        "colab": {}
      },
      "source": [
        "# encoder_inputs\n",
        "encoder_model = Model(encoder_inputs_placeholder, encoder_states)"
      ],
      "execution_count": null,
      "outputs": []
    },
    {
      "cell_type": "code",
      "metadata": {
        "id": "AODYdcZxbvOv",
        "colab_type": "code",
        "colab": {}
      },
      "source": [
        "encoder_model.save('encoder_model.h5')"
      ],
      "execution_count": null,
      "outputs": []
    },
    {
      "cell_type": "code",
      "metadata": {
        "colab_type": "code",
        "id": "Ysr9MRdwxvWI",
        "colab": {}
      },
      "source": [
        "from sklearn.metrics import pairwise_distances\n",
        "import numpy as np\n",
        "def search(query, corpus):    \n",
        "    pairwise_dist = pairwise_distances(corpus, query, metric='cosine')\n",
        "    indices = np.argsort(pairwise_dist.flatten())[0:10]\n",
        "    pdists = np.sort(pairwise_dist.flatten())[0:10]\n",
        "    df_indices = list(Questions.index[indices])\n",
        "    return df_indices"
      ],
      "execution_count": null,
      "outputs": []
    },
    {
      "cell_type": "code",
      "metadata": {
        "colab_type": "code",
        "id": "fG-q0iBT_zP4",
        "colab": {}
      },
      "source": [
        ""
      ],
      "execution_count": null,
      "outputs": []
    },
    {
      "cell_type": "code",
      "metadata": {
        "colab_type": "code",
        "id": "HhYz9DIJx0jW",
        "colab": {}
      },
      "source": [
        "li=search(encoder_model.predict(encoder_inputs[0:0+1])[0],corpus)"
      ],
      "execution_count": null,
      "outputs": []
    },
    {
      "cell_type": "code",
      "metadata": {
        "id": "DQDhPXyfWizb",
        "colab_type": "code",
        "colab": {
          "base_uri": "https://localhost:8080/",
          "height": 392
        },
        "outputId": "7f5ca1aa-3592-4d10-baa8-1572e12248a0"
      },
      "source": [
        "for i in li:\n",
        "    print(df['clean_Body'].iloc[i]) # _Body\n",
        "    print('*****************************************************************')"
      ],
      "execution_count": null,
      "outputs": [
        {
          "output_type": "stream",
          "text": [
            "would like pick topic deep learning begin topic ai working way deep learning\n",
            "*****************************************************************\n",
            "tools practices algorithms used automated text writing example lets assume access wikipedia wikinews similar websites api would like produce article data science python believe task divided two segments first would text mining second would text building less aware text mining performed lots materials internet however amount materials related automated text building seems lower plenty articles says companies using lack details common ideas text building\n",
            "*****************************************************************\n",
            "trying find equivalent hinton diagrams multilayer networks plot weights training trained network somewhat similar deep srn e high number multiple weight matrices would make simultaneous plot several hinton diagrams visually confusing anyone know good way visualize weight update process recurrent networks multiple layers not found much papers topic thinking display time related information weights per layer instead not come something e g weight delta time layer omitting use every single connection pca another possibility though would like not produce much additional computations since visualization done online training\n",
            "*****************************************************************\n",
            "huge collection objects tiny fraction class interest collection initially unlabelled labels added using expensive operation example human currently use simple generic machine learning strategy use hand crafted rules select smaller subset objects thus leaving fraction interesting ones label part smaller subset use training choosing classification algorithm parameters classify remaining objects smaller set also perhaps big set two drawbacks labeller still needs see huge number uninteresting objects therefore able label small fraction interesting ones objects not smaller set completely ignored learning phase resulting loss information classification algorithm might not work well complement seems would better use online learning e select objects show labeller based previous labels becomes no longer obvious result classification algorithm retains nice theoretical properties e statistical consistency general framework active object detection works either theoretically practically could not get complete picture wikipedia article active learning\n",
            "*****************************************************************\n",
            "data set formatted like list contains top 100 users highest threat scores generate list monthly store month list file three things would like get data 1 users consistently showing list 2 users consistently showing list high threat scores 3 users whose threat scores increasing quickly thinking visual summary would nice month somehow decide users want plot graph historic threat scores known visualization techniques deal similar requirements transforming current data achieve looking\n",
            "*****************************************************************\n",
            "used python compare results naive bayes svm found naive bayes quicker svm could anyone shed light reasons finding\n",
            "*****************************************************************\n",
            "could not quite think best title recommendations welcome goes tags not reputation use tags thought appropriate question suppose n pairs observations x model unknown parameters b estimates relationship x f x b suppose determine b using method least squares implicitly assumptions least squares satisfied parameters b random variables variance way estimate reduction increase variance b would result applying method least squares n 1 pairs observations question asked context experimentation data point costs x affirmative answer question would go long way determining whether not continue testing\n",
            "*****************************************************************\n",
            "went comparison analytic disciplines perspective machine learning not finding answers following data science related machine learning not related machine learning\n",
            "*****************************************************************\n",
            "please show step step calculation entropy ssun not understand 0 918 arrived tried get values 0 521089678 0 528771238 0 521089678 sunny windy rainy able calculate target entropy decision correctly 6 10 log 6 10 2 10 log 2 10 1 10 log 1 10 1 10 log 1 10 1 570950594 totally stuck next step request help reference please search first thing need work attribute put node top tree reach line referring\n",
            "*****************************************************************\n",
            "coding neural network recognizing tagging parts speech english written java code no errors apparent flaws nevertheless not learning train not change ability predict testing data following information done please ask update post left something important wrote neural network tested several different problems make sure network worked trained learn double numbers xor cube numbers learn sin function decent accuracy fairly confident actual algorithm working network using using sigmoid activation function learning rate 3 momentum 6 weights initialized rng nextfloat 5 4 got brown corpus data set simplified tagset universal nltk used nltk generating saving corpus dictionary data cut last 15 000 sentences corpus testing purposes used rest corpus 40 000 sentences tagged words training neural network layout follows input neuron tag output layer one output neuron tag network taking inputs 3 words first word coming word want tag second word needs tagged third word follows second word total number inputs 3x total number possible tags input values numbers 0 1 3 words fed input layer searched dictionary made 40 000 corpus corpus used training dictionary holds number times word tagged corpus part speech instance word cover tagged noun 1 time verb 3 times percentages tagged computed part speech word associated fed network particular word input neuron designated noun would receive 33 verb would receive 66 input neurons hold tags word receive input 0 0 done 3 words inputted word first word sentence first group tags 0 word last word sentence final group input neurons hold tag probabilities following word left 0s using 10 hidden nodes read number papers seems good place start testing none 15 000 testing sentences used make wouldictionary testing network partial corpus words network never seen words not recognized suffix stripped suffix searched another wouldictionary whatever probable word used inputs set started trying train network training network 40 000 sentences 1 epoch 1 forward backpropagation every word sentence 40 000 training set 1 epoch takes quite seconds knowing word probabilities network pretty well train nothing happens numbers follow epochs number correctly tagged words divided total number words first run 50 epochs 0 928218786 100 epochs 0 933130661 500 epochs 0 928614499 took around 30 minutes train tried 10 epochs 0 928953683 using 1 epoch results pretty much varied 92 93 not appear working took 55 sentences corpus used dictionary probabilities 40 000 words one trained way trained xor used 55 sentences tested trained network weights 55 sentences network able learn 55 sentences quite easily 120 epochs taking couple seconds network went tagging 3768 incorrectly 56 correctly first epochs tagging 3772 correctly 52 incorrectly 120th epoch trying debug day not figured anything\n",
            "*****************************************************************\n"
          ],
          "name": "stdout"
        }
      ]
    },
    {
      "cell_type": "code",
      "metadata": {
        "id": "qVvdzaO_Wq-L",
        "colab_type": "code",
        "colab": {
          "base_uri": "https://localhost:8080/",
          "height": 1000
        },
        "outputId": "dd3870f8-d192-4903-d6a1-fc2999010628"
      },
      "source": [
        "for i in li:\n",
        "    print(df['_Body'].iloc[i]) # _Body\n",
        "    print('*****************************************************************')"
      ],
      "execution_count": null,
      "outputs": [
        {
          "output_type": "stream",
          "text": [
            "<p>I would like to pick up on the topic of deep learning. Should I begin from the topic of AI before working my way into Deep learning?</p>\r\r\n",
            "\n",
            "*****************************************************************\n",
            "<p>What are the tools, practices and algorithms used in automated text writing?</p>\r\r\n",
            "\r\r\n",
            "<p>For example, lets assume that I have access to wikipedia/wikinews and similar websites API and I would like to produce article about \"Data Science with Python\".</p>\r\r\n",
            "\r\r\n",
            "<p>I believe that this task should be divided into two segments. First would be <strong>text mining</strong> and second would be <strong>text building</strong>. I'm more or less aware how text mining is performed and there are lots of materials about it in Internet. However, amount of materials related to automated text building seems to be lower. There are plenty of articles which says that some companies are using it, but there is lack of details. Are there any common ideas about such text building?</p>\r\r\n",
            "\n",
            "*****************************************************************\n",
            "<p>I'm trying to find an equivalent of Hinton Diagrams for multilayer networks to plot the weights during training. </p>\r\r\n",
            "\r\r\n",
            "<p>The trained network is somewhat similar to a Deep SRN, i.e. it has a high number of multiple weight matrices which would make the simultaneous plot of several Hinton Diagrams visually confusing. </p>\r\r\n",
            "\r\r\n",
            "<p>Does anyone know of a good way to visualize the weight update process for recurrent networks with multiple layers? </p>\r\r\n",
            "\r\r\n",
            "<p>I haven't found much papers on the topic. I was thinking to display time-related information on the weights per layer instead if I can't come up with something. E.g. the weight-delta over time for each layer (omitting the use of every single connection). PCA is another possibility, though I'd like to not produce much additional computations, since the visualization is done online during training.</p>\r\r\n",
            "\n",
            "*****************************************************************\n",
            "<p>I have a huge collection of objects from which only a tiny fraction are in a class of interest. The collection is initially unlabelled, but labels can be added using an expensive operation (for example, by human).</p>\r\r\n",
            "\r\r\n",
            "<p>Currently I use the simple generic machine learning strategy:</p>\r\r\n",
            "\r\r\n",
            "<ol>\r\r\n",
            "<li><p>Use hand-crafted rules to select a smaller subset of objects (thus leaving out a fraction of interesting ones).</p></li>\r\r\n",
            "<li><p>Label part of the smaller subset, and use these for training and choosing a classification algorithm and its parameters.</p></li>\r\r\n",
            "<li><p>Classify the remaining objects in the smaller set (and also perhaps in the big set).</p></li>\r\r\n",
            "</ol>\r\r\n",
            "\r\r\n",
            "<p>This has two drawbacks:</p>\r\r\n",
            "\r\r\n",
            "<ol>\r\r\n",
            "<li><p>The labeller still needs to see a huge number of uninteresting objects, and therefore is able to label only a very small fraction of interesting ones. </p></li>\r\r\n",
            "<li><p>The objects not in the smaller set are completely ignored in the learning phase, resulting in a loss of some information (the classification algorithm might not work well on this complement).</p></li>\r\r\n",
            "</ol>\r\r\n",
            "\r\r\n",
            "<p>It seems that it would be better to use online learning: i.e., select the objects to show to the labeller based on the previous labels. But then it becomes no longer obvious that the result of classification algorithm retains the nice theoretical properties (i.e., statistical consistency).</p>\r\r\n",
            "\r\r\n",
            "<p>Is there a general framework for active object detection which works either theoretically or practically (or both)? I could not get the complete picture from the Wikipedia article <a href=\"http://en.wikipedia.org/wiki/Active_learning_%28machine_learning%29\" rel=\"nofollow\">active learning</a>. </p>\r\r\n",
            "\n",
            "*****************************************************************\n",
            "<p>My data set is formatted like this:</p>\r\r\n",
            "\r\r\n",
            "<pre><code>User-id | Threat_score\r\r\n",
            "aaa       45\r\r\n",
            "bbb       32\r\r\n",
            "ccc       20\r\r\n",
            "</code></pre>\r\r\n",
            "\r\r\n",
            "<p>The list contains the top 100 users with the highest threat scores. I generate such a list monthly and store each month's list in its own file.</p>\r\r\n",
            "\r\r\n",
            "<p>There are three things I would like to get from this data:</p>\r\r\n",
            "\r\r\n",
            "<ul>1. Users who are consistently showing up in this list</ul>\r\r\n",
            "\r\r\n",
            "<ul>2. Users who are consistently showing up in this list with high threat scores</ul>\r\r\n",
            "\r\r\n",
            "<ul>3. Users whose threat scores are increasing very quickly</ul>\r\r\n",
            "\r\r\n",
            "<p>I am thinking a visual summary would be nice; each month (somehow) decide which users I want to plot on a graph of historic threat scores.</p>\r\r\n",
            "\r\r\n",
            "<p>Are there any known visualization techniques that deal with similar requirements?</p>\r\r\n",
            "\r\r\n",
            "<p>How should I be transforming my current data to achieve what I am looking for?</p>\r\r\n",
            "\n",
            "*****************************************************************\n",
            "<p>I've used <code>scikit-learn</code> in Python to compare results of naive Bayes and SVM. I've found that naive Bayes is quicker than SVM. Could anyone shed some light on reasons for such finding?</p>\r\r\n",
            "\n",
            "*****************************************************************\n",
            "<p>I couldn't quite think of how best to title this, so recommendations are welcome. Same goes for the tags (I don't have the reputation to use the tags that I thought were appropriate). The question is this:</p>\r\r\n",
            "\r\r\n",
            "<p>\"Suppose you have N pairs of observations, (x,y), and you have a model with some unknown parameters, B, that estimates the relationship between x and y, F(x,B) -> y. Now suppose you determine B using the method of least-squares (and, implicitly, that all the assumptions of least-squares are satisfied). The parameters, B, are themselves random variables, each with its own variance. Is there any way to estimate the reduction (or increase) in the variance of B that would result from applying the same method of least-squares to N+1 pairs of observations?\"</p>\r\r\n",
            "\r\r\n",
            "<p>The question is asked in the context of experimentation. If each data point costs $X, an affirmative answer to the question would go a long way in determining whether or not to continue testing.</p>\r\r\n",
            "\n",
            "*****************************************************************\n",
            "<p>I went through <a href=\"http://www.datasciencecentral.com/profiles/blogs/17-analytic-disciplines-compared\" rel=\"nofollow\">this comparison of analytic disciplines</a> and <a href=\"http://www.win-vector.com/blog/2010/10/a-personal-perspective-on-machine-learning/\" rel=\"nofollow\">this perspective of machine learning</a>, but I am not finding any answers on the following:</p>\r\r\n",
            "\r\r\n",
            "<ol>\r\r\n",
            "<li>How is Data Science related to Machine learning? </li>\r\r\n",
            "<li>How is it <strong>not</strong> related to Machine Learning? </li>\r\r\n",
            "</ol>\r\r\n",
            "\n",
            "*****************************************************************\n",
            "<p>Can you please show the step by step calculation of Entropy(Ssun)?  I do not understand how 0.918 is arrived at.</p>\r\r\n",
            "\r\r\n",
            "<p>I tried but I get the values as 0.521089678, 0.528771238, 0.521089678 for Sunny, Windy, Rainy.</p>\r\r\n",
            "\r\r\n",
            "<p>I was able to calculate the target entropy (Decision) correctly as = -(6/10)*log(6/10) + -(2/10)log(2/10) + -(1/10)log(1/10) + -(1/10)log(1/10) = 1.570950594</p>\r\r\n",
            "\r\r\n",
            "<p>I am totally stuck at the next step.  Request your help.</p>\r\r\n",
            "\r\r\n",
            "<p>Reference: <a href=\"http://www.doc.ic.ac.uk/~sgc/teaching/pre2012/v231/lecture11.html\" rel=\"nofollow\">http://www.doc.ic.ac.uk/~sgc/teaching/pre2012/v231/lecture11.html</a>\r\r\n",
            "Please search for \"The first thing we need to do is work out which attribute will be put into the node at the top of our tree:\" to reach the line I am referring to.</p>\r\r\n",
            "\n",
            "*****************************************************************\n",
            "<p>I've been coding a Neural Network for recognizing and tagging parts of speech in English (written in Java). The code itself has no 'errors' or apparent flaws. Nevertheless, it is not learning -- the more I train it does not change its ability to predict the testing data. The following is information about what I've done, please ask me to update this post if I left something important out.</p>\r\r\n",
            "\r\r\n",
            "<p>I wrote the neural network and tested it on several different problems to make sure that the network itself worked. I trained it to learn how to double numbers, XOR, cube numbers, and learn the sin function to a decent accuracy. So, I'm fairly confident that the actual algorithm is working.</p>\r\r\n",
            "\r\r\n",
            "<p>The network using using the sigmoid activation function. The learning rate is .3, Momentum is .6. The weights are initialized to rng.nextFloat() -.5) * 4</p>\r\r\n",
            "\r\r\n",
            "<p>I then got the Brown Corpus data-set and simplified the tagset to 'universal' with NLTK. I used NLTK for generating and saving all the corpus and dictionary data. I cut the last 15,000 sentences out of the corpus for testing purposes. I used the rest of the corpus (about 40,000 sentences of tagged words) for training. </p>\r\r\n",
            "\r\r\n",
            "<p>The neural network layout is as follows: There is an input neuron for each Tag. Output Layer: There is one output neuron for each tag. The network is taking inputs for 3 words: first: the word coming before the word we want to tag, second: the word that needs to be tagged, third: the word that follows the second word. So, total number of inputs are 3x(total number of possible tags). The input values are numbers between 0 and 1. Each of the 3 words being fed into the input layer is searched for in a dictionary (made up by the 40,000 corpus, the same corpus that is used for training). The dictionary holds the number of times that each word has been tagged in the corpus as what part of speech. </p>\r\r\n",
            "\r\r\n",
            "<blockquote>\r\r\n",
            "  <p>For instance, the word 'cover' is tagged as a noun 1 time and a verb 3\r\r\n",
            "  times.</p>\r\r\n",
            "</blockquote>\r\r\n",
            "\r\r\n",
            "<p>Percentages of being tagged are computed for each part of speech that the word is associated as, and this is what is fed into the network for that particular word. So, the input neuron designated as NOUN would receive .33 and VERB would receive .66. The other input neurons that hold tags for that word receive an input of 0.0. This is done for each of the 3 words to be inputted. If a word is the first word of a sentence, the first group of tags are all 0. If a word is the last word of a sentence, the final group of input neurons that hold the tag probabilities for the following word are left as 0s.\r\r\n",
            "I've been using 10 hidden nodes (I've read a number of papers and this seems to be a good place to start testing with)</p>\r\r\n",
            "\r\r\n",
            "<p>None of the 15,000 testing sentences were used to make the 'dictionary.' So, when testing the network with this partial corpus there will be some words the network has never seen. Words that are not recognized have their suffix stripped, and their suffix is searched for in another 'dictionary.' Whatever is most probable for that word is then used as inputs for it.</p>\r\r\n",
            "\r\r\n",
            "<p>This is my set-up, and I started trying to train the network. I've been training the network with all 40,000 sentences. 1 epoch = 1 forward and backpropagation of every word in each sentence of the 40,000 training-set. So, just doing 1 epoch takes quite a few seconds. Just by knowing the word probabilities the network did pretty well, but the more I train it, nothing happens. The numbers that follow the epochs are the number of correctly tagged words divided by the total number of words.</p>\r\r\n",
            "\r\r\n",
            "<p>First run 50 epochs: 0.928218786</p>\r\r\n",
            "\r\r\n",
            "<p>100 epochs:        0.933130661</p>\r\r\n",
            "\r\r\n",
            "<p>500 epochs:       0.928614499 took around 30 minutes to train this                   </p>\r\r\n",
            "\r\r\n",
            "<p>Tried 10 epochs:         0.928953683 </p>\r\r\n",
            "\r\r\n",
            "<p>Using only 1 epoch had results that pretty much varied between .92 and .93</p>\r\r\n",
            "\r\r\n",
            "<p>So, it doesn't appear to be working...</p>\r\r\n",
            "\r\r\n",
            "<p>I then took 55 sentences from the corpus and used the same dictionary that had probabilities for all 40,000 words. For this one, I trained it in the same way I trained my XOR -- I only used those 55 sentences and I only tested the trained network weights on those 55 sentences. The network was able to learn those 55 sentences quite easily. With 120 epochs (taking a couple seconds) the network went from tagging 3768 incorrectly and 56 correctly (on the first few epochs) to tagging 3772 correctly and 52 incorrectly on the 120th epoch. </p>\r\r\n",
            "\r\r\n",
            "<p>This is where I'm at, I've been trying to debug this for over a day now, and haven't figured anything out.</p>\r\r\n",
            "\n",
            "*****************************************************************\n"
          ],
          "name": "stdout"
        }
      ]
    },
    {
      "cell_type": "code",
      "metadata": {
        "id": "1Ie9rBTMeuK0",
        "colab_type": "code",
        "colab": {
          "base_uri": "https://localhost:8080/",
          "height": 392
        },
        "outputId": "9d56794e-af0f-477c-cab4-312134638294"
      },
      "source": [
        "for i in li:\n",
        "    print(df['clean_Body'].iloc[i]) # _Body\n",
        "    print('*****************************************************************')"
      ],
      "execution_count": null,
      "outputs": [
        {
          "output_type": "stream",
          "text": [
            "would like pick topic deep learning begin topic ai working way deep learning\n",
            "*****************************************************************\n",
            "tools practices algorithms used automated text writing example lets assume access wikipedia wikinews similar websites api would like produce article data science python believe task divided two segments first would text mining second would text building less aware text mining performed lots materials internet however amount materials related automated text building seems lower plenty articles says companies using lack details common ideas text building\n",
            "*****************************************************************\n",
            "trying find equivalent hinton diagrams multilayer networks plot weights training trained network somewhat similar deep srn e high number multiple weight matrices would make simultaneous plot several hinton diagrams visually confusing anyone know good way visualize weight update process recurrent networks multiple layers not found much papers topic thinking display time related information weights per layer instead not come something e g weight delta time layer omitting use every single connection pca another possibility though would like not produce much additional computations since visualization done online training\n",
            "*****************************************************************\n",
            "huge collection objects tiny fraction class interest collection initially unlabelled labels added using expensive operation example human currently use simple generic machine learning strategy use hand crafted rules select smaller subset objects thus leaving fraction interesting ones label part smaller subset use training choosing classification algorithm parameters classify remaining objects smaller set also perhaps big set two drawbacks labeller still needs see huge number uninteresting objects therefore able label small fraction interesting ones objects not smaller set completely ignored learning phase resulting loss information classification algorithm might not work well complement seems would better use online learning e select objects show labeller based previous labels becomes no longer obvious result classification algorithm retains nice theoretical properties e statistical consistency general framework active object detection works either theoretically practically could not get complete picture wikipedia article active learning\n",
            "*****************************************************************\n",
            "data set formatted like list contains top 100 users highest threat scores generate list monthly store month list file three things would like get data 1 users consistently showing list 2 users consistently showing list high threat scores 3 users whose threat scores increasing quickly thinking visual summary would nice month somehow decide users want plot graph historic threat scores known visualization techniques deal similar requirements transforming current data achieve looking\n",
            "*****************************************************************\n",
            "used python compare results naive bayes svm found naive bayes quicker svm could anyone shed light reasons finding\n",
            "*****************************************************************\n",
            "could not quite think best title recommendations welcome goes tags not reputation use tags thought appropriate question suppose n pairs observations x model unknown parameters b estimates relationship x f x b suppose determine b using method least squares implicitly assumptions least squares satisfied parameters b random variables variance way estimate reduction increase variance b would result applying method least squares n 1 pairs observations question asked context experimentation data point costs x affirmative answer question would go long way determining whether not continue testing\n",
            "*****************************************************************\n",
            "went comparison analytic disciplines perspective machine learning not finding answers following data science related machine learning not related machine learning\n",
            "*****************************************************************\n",
            "please show step step calculation entropy ssun not understand 0 918 arrived tried get values 0 521089678 0 528771238 0 521089678 sunny windy rainy able calculate target entropy decision correctly 6 10 log 6 10 2 10 log 2 10 1 10 log 1 10 1 10 log 1 10 1 570950594 totally stuck next step request help reference please search first thing need work attribute put node top tree reach line referring\n",
            "*****************************************************************\n",
            "coding neural network recognizing tagging parts speech english written java code no errors apparent flaws nevertheless not learning train not change ability predict testing data following information done please ask update post left something important wrote neural network tested several different problems make sure network worked trained learn double numbers xor cube numbers learn sin function decent accuracy fairly confident actual algorithm working network using using sigmoid activation function learning rate 3 momentum 6 weights initialized rng nextfloat 5 4 got brown corpus data set simplified tagset universal nltk used nltk generating saving corpus dictionary data cut last 15 000 sentences corpus testing purposes used rest corpus 40 000 sentences tagged words training neural network layout follows input neuron tag output layer one output neuron tag network taking inputs 3 words first word coming word want tag second word needs tagged third word follows second word total number inputs 3x total number possible tags input values numbers 0 1 3 words fed input layer searched dictionary made 40 000 corpus corpus used training dictionary holds number times word tagged corpus part speech instance word cover tagged noun 1 time verb 3 times percentages tagged computed part speech word associated fed network particular word input neuron designated noun would receive 33 verb would receive 66 input neurons hold tags word receive input 0 0 done 3 words inputted word first word sentence first group tags 0 word last word sentence final group input neurons hold tag probabilities following word left 0s using 10 hidden nodes read number papers seems good place start testing none 15 000 testing sentences used make wouldictionary testing network partial corpus words network never seen words not recognized suffix stripped suffix searched another wouldictionary whatever probable word used inputs set started trying train network training network 40 000 sentences 1 epoch 1 forward backpropagation every word sentence 40 000 training set 1 epoch takes quite seconds knowing word probabilities network pretty well train nothing happens numbers follow epochs number correctly tagged words divided total number words first run 50 epochs 0 928218786 100 epochs 0 933130661 500 epochs 0 928614499 took around 30 minutes train tried 10 epochs 0 928953683 using 1 epoch results pretty much varied 92 93 not appear working took 55 sentences corpus used dictionary probabilities 40 000 words one trained way trained xor used 55 sentences tested trained network weights 55 sentences network able learn 55 sentences quite easily 120 epochs taking couple seconds network went tagging 3768 incorrectly 56 correctly first epochs tagging 3772 correctly 52 incorrectly 120th epoch trying debug day not figured anything\n",
            "*****************************************************************\n"
          ],
          "name": "stdout"
        }
      ]
    },
    {
      "cell_type": "code",
      "metadata": {
        "colab_type": "code",
        "id": "wLEzOIljHThM",
        "colab": {}
      },
      "source": [
        "# for i in li:\n",
        "#     print(df['clean_Body'].iloc[i]) # _Body\n",
        "#     print('*****************************************************************')"
      ],
      "execution_count": null,
      "outputs": []
    },
    {
      "cell_type": "code",
      "metadata": {
        "colab_type": "code",
        "id": "8fLfGlVOzZ32",
        "colab": {}
      },
      "source": [
        ""
      ],
      "execution_count": null,
      "outputs": []
    },
    {
      "cell_type": "code",
      "metadata": {
        "colab_type": "code",
        "id": "z_Vp7CxSxxvt",
        "colab": {}
      },
      "source": [
        ""
      ],
      "execution_count": null,
      "outputs": []
    },
    {
      "cell_type": "code",
      "metadata": {
        "colab_type": "code",
        "id": "1l62L_pCh9-E",
        "colab": {}
      },
      "source": [
        "\n",
        "encoder_model = Model(encoder_inputs_placeholder, encoder_states)\n",
        "\n",
        "decoder_state_input_h = Input(shape=(encode_dim,))\n",
        "decoder_state_input_c = Input(shape=(encode_dim,))\n",
        "decoder_states_inputs = [decoder_state_input_h, decoder_state_input_c]\n",
        "\n",
        "decoder_inputs_single = Input(shape=(1,))\n",
        "decoder_inputs_single_x = decoder_embedding(decoder_inputs_single)\n",
        "\n",
        "decoder_outputs, h, c = decoder_lstm(\n",
        "  decoder_inputs_single_x,\n",
        "  initial_state=decoder_states_inputs\n",
        ")\n",
        "\n",
        "decoder_states = [h, c]\n",
        "decoder_outputs = decoder_dense(decoder_outputs)\n",
        "\n",
        "decoder_model = Model(\n",
        "  [decoder_inputs_single] + decoder_states_inputs, \n",
        "  [decoder_outputs] + decoder_states\n",
        ")\n",
        "\n",
        "idx2word_eng = {v:k for k, v in word_2_index_inputs.items()}\n",
        "idx2word_trans = {v:k for k, v in word_2_index_outputs.items()}"
      ],
      "execution_count": null,
      "outputs": []
    },
    {
      "cell_type": "code",
      "metadata": {
        "colab_type": "code",
        "id": "HhRmw6ZrFNVG",
        "colab": {}
      },
      "source": [
        ""
      ],
      "execution_count": null,
      "outputs": []
    },
    {
      "cell_type": "code",
      "metadata": {
        "colab_type": "code",
        "id": "Gq6MoqT8h9-H",
        "colab": {}
      },
      "source": [
        "def decode_sequence(input_seq):\n",
        "    print(input_seq)\n",
        "    states_value = encoder_model.predict(input_seq)\n",
        "    print(len(states_value))\n",
        "    print(states_value[0].shape)\n",
        "    print(states_value[1].shape)\n",
        "    target_seq = np.zeros((1, 1))\n",
        "\n",
        "    target_seq[0, 0] = word_2_index_outputs['<start>']\n",
        "\n",
        "    eos = word_2_index_outputs['<end>']\n",
        "\n",
        "    output_sentence = []\n",
        "    for _ in range(max_len_target):\n",
        "        output_tokens, h, c = decoder_model.predict([target_seq] + states_value)\n",
        "        idx = np.argmax(output_tokens[0, 0, :])\n",
        "\n",
        "        if eos == idx:\n",
        "            break\n",
        "\n",
        "        word = ''\n",
        "        if idx > 0:\n",
        "            word = idx2word_trans[idx]\n",
        "            output_sentence.append(word)\n",
        "\n",
        "        target_seq[0, 0] = idx\n",
        "\n",
        "        states_value = [h, c]\n",
        "\n",
        "    return ' '.join(output_sentence)"
      ],
      "execution_count": null,
      "outputs": []
    },
    {
      "cell_type": "code",
      "metadata": {
        "colab_type": "code",
        "id": "JvJWJDI3McpL",
        "colab": {}
      },
      "source": [
        "input_seqgood exercises to improve the speed"
      ],
      "execution_count": null,
      "outputs": []
    },
    {
      "cell_type": "code",
      "metadata": {
        "colab_type": "code",
        "id": "yjkb4auxh9-K",
        "colab": {}
      },
      "source": [
        "while True:\n",
        "  # Do some test translations\n",
        "    i = np.random.choice(18000)\n",
        "    input_seq = encoder_inputs[i:i+1]\n",
        "    translation = decode_sequence(input_seq)\n",
        "    print('-')\n",
        "    print('Input:', input_texts[i])\n",
        "    print('target_texts:',target_texts[i])\n",
        "    print('Translation:', translation)\n",
        "\n",
        "    ans = input(\"Continue? [Y/n]\")\n",
        "    if ans and ans.lower().startswith('n'):\n",
        "        break\n"
      ],
      "execution_count": null,
      "outputs": []
    },
    {
      "cell_type": "code",
      "metadata": {
        "colab_type": "code",
        "id": "GDKruE9gh9-N",
        "colab": {}
      },
      "source": [
        "input_seq = encoder_inputs[0:0+1]\n",
        "translation = decode_sequence(input_seq)\n",
        "print('-')\n",
        "print('Input:', input_texts[0])\n",
        "print('target_texts:',target_texts[0])\n",
        "print('Translation:', translation)"
      ],
      "execution_count": null,
      "outputs": []
    },
    {
      "cell_type": "code",
      "metadata": {
        "colab_type": "code",
        "id": "pHyEbE-B3QqI",
        "colab": {}
      },
      "source": [
        "encoder_inputs[0:0+1]"
      ],
      "execution_count": null,
      "outputs": []
    },
    {
      "cell_type": "code",
      "metadata": {
        "colab_type": "code",
        "id": "4Oz7QEQ53Sit",
        "colab": {}
      },
      "source": [
        ""
      ],
      "execution_count": null,
      "outputs": []
    },
    {
      "cell_type": "code",
      "metadata": {
        "colab_type": "code",
        "id": "5bWXZkvgrBK0",
        "colab": {}
      },
      "source": [
        "states_value = encoder_model.predict(input_seq)"
      ],
      "execution_count": null,
      "outputs": []
    },
    {
      "cell_type": "code",
      "metadata": {
        "colab_type": "code",
        "id": "zuLYT5kg2v-u",
        "colab": {}
      },
      "source": [
        "# states_value[0]\n",
        "encoder_inputs.shape"
      ],
      "execution_count": null,
      "outputs": []
    },
    {
      "cell_type": "code",
      "metadata": {
        "colab_type": "code",
        "id": "FDW6Mb5j1YMY",
        "colab": {}
      },
      "source": [
        "a=[]\n",
        "a=map(lambda x: encoder_model.predict(encoder_inputs)[0],encoder_inputs)"
      ],
      "execution_count": null,
      "outputs": []
    },
    {
      "cell_type": "code",
      "metadata": {
        "colab_type": "code",
        "id": "8hhN35w2DWfb",
        "colab": {}
      },
      "source": [
        "# b=list(a)[0]"
      ],
      "execution_count": null,
      "outputs": []
    },
    {
      "cell_type": "code",
      "metadata": {
        "colab_type": "code",
        "id": "yIEx7OuCjdpY",
        "colab": {}
      },
      "source": [
        ""
      ],
      "execution_count": null,
      "outputs": []
    },
    {
      "cell_type": "code",
      "metadata": {
        "colab_type": "code",
        "id": "8n04WZK-2VHM",
        "colab": {}
      },
      "source": [
        "# encoder_inputs\n",
        "x = [20, 30, 40, 50, 60]\n",
        "y = []\n",
        "y = map(lambda x: x * 5,x)"
      ],
      "execution_count": null,
      "outputs": []
    },
    {
      "cell_type": "code",
      "metadata": {
        "colab_type": "code",
        "id": "pcaME41oCcnl",
        "colab": {}
      },
      "source": [
        "list(y)"
      ],
      "execution_count": null,
      "outputs": []
    },
    {
      "cell_type": "code",
      "metadata": {
        "colab_type": "code",
        "id": "9hI0CV_lta3K",
        "colab": {}
      },
      "source": [
        "# np.array(states_value[0][0])"
      ],
      "execution_count": null,
      "outputs": []
    },
    {
      "cell_type": "code",
      "metadata": {
        "colab_type": "code",
        "id": "Lm27MVNq7I3n",
        "colab": {}
      },
      "source": [
        "search(encoder_inputs[0:0+1],encoder_inputs)"
      ],
      "execution_count": null,
      "outputs": []
    },
    {
      "cell_type": "code",
      "metadata": {
        "colab_type": "code",
        "id": "5xvyqTnzqvFU",
        "colab": {}
      },
      "source": [
        "from sklearn.metrics import pairwise_distances\n",
        "import numpy as np\n",
        "def search(query, corpus):\n",
        "#     query = process_query(query)\n",
        "    # query_trans = vectorizer.transform(query)\n",
        "    \n",
        "    pairwise_dist = pairwise_distances(corpus, query_trans, metric='cosine')\n",
        "    \n",
        "    indices = np.argsort(pairwise_dist.flatten())[0:20]\n",
        "    pdists = np.sort(pairwise_dist.flatten())[0:20]\n",
        "    print(pdists)\n",
        "    df_indices = list(Questions.index[indices])\n",
        "    return df_indices"
      ],
      "execution_count": null,
      "outputs": []
    },
    {
      "cell_type": "code",
      "metadata": {
        "colab_type": "code",
        "id": "s6AquLtj1rJ2",
        "colab": {}
      },
      "source": [
        "encoder_inputs[0]"
      ],
      "execution_count": null,
      "outputs": []
    },
    {
      "cell_type": "code",
      "metadata": {
        "colab_type": "code",
        "id": "irwDZnt81sEd",
        "colab": {}
      },
      "source": [
        ""
      ],
      "execution_count": null,
      "outputs": []
    }
  ]
}