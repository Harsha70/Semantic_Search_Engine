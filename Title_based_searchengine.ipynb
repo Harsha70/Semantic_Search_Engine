{
 "cells": [
  {
   "cell_type": "code",
   "execution_count": 96,
   "metadata": {},
   "outputs": [],
   "source": [
    "import pandas as pd\n",
    "df1=pd.read_csv(r'C:\\Users\\Abhishek\\Desktop\\CaseStudy1\\stack4\\Hinduism_posts.csv',encoding='latin1')"
   ]
  },
  {
   "cell_type": "code",
   "execution_count": null,
   "metadata": {},
   "outputs": [],
   "source": []
  },
  {
   "cell_type": "code",
   "execution_count": 97,
   "metadata": {},
   "outputs": [
    {
     "data": {
      "text/plain": [
       "Index(['_Id', '_PostTypeId', '_AcceptedAnswerId', '_CreationDate', '_Score',\n",
       "       '_ViewCount', '_Body', '_OwnerUserId', '_LastActivityDate', '_Title',\n",
       "       '_Tags', '_AnswerCount', '_CommentCount', '_FavoriteCount',\n",
       "       '_LastEditorUserId', '_LastEditDate', '_OwnerDisplayName', '_ParentId',\n",
       "       '_LastEditorDisplayName', '_ClosedDate', '_CommunityOwnedDate'],\n",
       "      dtype='object')"
      ]
     },
     "execution_count": 97,
     "metadata": {},
     "output_type": "execute_result"
    }
   ],
   "source": [
    "df1.columns"
   ]
  },
  {
   "cell_type": "code",
   "execution_count": null,
   "metadata": {},
   "outputs": [],
   "source": []
  },
  {
   "cell_type": "code",
   "execution_count": 98,
   "metadata": {},
   "outputs": [
    {
     "name": "stdout",
     "output_type": "stream",
     "text": [
      "<class 'pandas.core.frame.DataFrame'>\n",
      "RangeIndex: 28462 entries, 0 to 28461\n",
      "Data columns (total 21 columns):\n",
      "_Id                       23924 non-null float64\n",
      "_PostTypeId               23924 non-null float64\n",
      "_AcceptedAnswerId         3693 non-null float64\n",
      "_CreationDate             23924 non-null object\n",
      "_Score                    23924 non-null float64\n",
      "_ViewCount                10923 non-null float64\n",
      "_Body                     23924 non-null object\n",
      "_OwnerUserId              22492 non-null float64\n",
      "_LastActivityDate         23918 non-null object\n",
      "_Title                    10923 non-null object\n",
      "_Tags                     10923 non-null object\n",
      "_AnswerCount              10923 non-null float64\n",
      "_CommentCount             23918 non-null float64\n",
      "_FavoriteCount            4090 non-null float64\n",
      "_LastEditorUserId         14570 non-null float64\n",
      "_LastEditDate             15364 non-null object\n",
      "_OwnerDisplayName         1440 non-null object\n",
      "_ParentId                 12995 non-null float64\n",
      "_LastEditorDisplayName    839 non-null object\n",
      "_ClosedDate               1438 non-null object\n",
      "_CommunityOwnedDate       54 non-null object\n",
      "dtypes: float64(11), object(10)\n",
      "memory usage: 4.6+ MB\n"
     ]
    }
   ],
   "source": [
    "df1.info()"
   ]
  },
  {
   "cell_type": "code",
   "execution_count": 99,
   "metadata": {},
   "outputs": [],
   "source": [
    "df2 = df1[pd.notnull(df1['_Id'])]"
   ]
  },
  {
   "cell_type": "code",
   "execution_count": 100,
   "metadata": {},
   "outputs": [
    {
     "name": "stdout",
     "output_type": "stream",
     "text": [
      "<class 'pandas.core.frame.DataFrame'>\n",
      "Int64Index: 23924 entries, 0 to 28461\n",
      "Data columns (total 21 columns):\n",
      "_Id                       23924 non-null float64\n",
      "_PostTypeId               23924 non-null float64\n",
      "_AcceptedAnswerId         3693 non-null float64\n",
      "_CreationDate             23924 non-null object\n",
      "_Score                    23924 non-null float64\n",
      "_ViewCount                10923 non-null float64\n",
      "_Body                     23924 non-null object\n",
      "_OwnerUserId              22492 non-null float64\n",
      "_LastActivityDate         23918 non-null object\n",
      "_Title                    10923 non-null object\n",
      "_Tags                     10923 non-null object\n",
      "_AnswerCount              10923 non-null float64\n",
      "_CommentCount             23918 non-null float64\n",
      "_FavoriteCount            4090 non-null float64\n",
      "_LastEditorUserId         14570 non-null float64\n",
      "_LastEditDate             15364 non-null object\n",
      "_OwnerDisplayName         1440 non-null object\n",
      "_ParentId                 12995 non-null float64\n",
      "_LastEditorDisplayName    839 non-null object\n",
      "_ClosedDate               1438 non-null object\n",
      "_CommunityOwnedDate       54 non-null object\n",
      "dtypes: float64(11), object(10)\n",
      "memory usage: 4.0+ MB\n"
     ]
    }
   ],
   "source": [
    "df2.info()"
   ]
  },
  {
   "cell_type": "code",
   "execution_count": 101,
   "metadata": {},
   "outputs": [
    {
     "data": {
      "text/plain": [
       "23924"
      ]
     },
     "execution_count": 101,
     "metadata": {},
     "output_type": "execute_result"
    }
   ],
   "source": [
    "len(df2)"
   ]
  },
  {
   "cell_type": "code",
   "execution_count": 102,
   "metadata": {},
   "outputs": [],
   "source": [
    "df2=df2[['_Id','_PostTypeId','_AcceptedAnswerId','_ParentId','_Score','_ViewCount','_Body','_Title','_Tags','_AnswerCount']]"
   ]
  },
  {
   "cell_type": "code",
   "execution_count": 95,
   "metadata": {},
   "outputs": [
    {
     "name": "stdout",
     "output_type": "stream",
     "text": [
      "(28462, 21)\n",
      "(25492, 21)\n",
      "(53954, 21)\n"
     ]
    },
    {
     "name": "stderr",
     "output_type": "stream",
     "text": [
      "C:\\Users\\Abhishek\\Anaconda32\\lib\\site-packages\\pandas\\core\\frame.py:6201: FutureWarning: Sorting because non-concatenation axis is not aligned. A future version\n",
      "of pandas will change to not sort by default.\n",
      "\n",
      "To accept the future behavior, pass 'sort=True'.\n",
      "\n",
      "To retain the current behavior and silence the warning, pass sort=False\n",
      "\n",
      "  sort=sort)\n"
     ]
    }
   ],
   "source": [
    "df1=pd.read_csv(r'C:\\Users\\Abhishek\\Desktop\\CaseStudy1\\stack4\\Hinduism_posts.csv',encoding='latin1')\n",
    "df2=pd.read_csv(r'C:\\Users\\Abhishek\\Desktop\\CaseStudy1\\stack4\\fitess_posts.csv')\n",
    "df=df1.append(df2)\n",
    "\n",
    "print(df1.shape)\n",
    "print(df2.shape)\n",
    "print(df.shape)"
   ]
  },
  {
   "cell_type": "code",
   "execution_count": 10,
   "metadata": {},
   "outputs": [],
   "source": [
    "df=df[pd.notnull(df['_Id'])]"
   ]
  },
  {
   "cell_type": "code",
   "execution_count": 11,
   "metadata": {},
   "outputs": [],
   "source": [
    "df2=df[['_Id','_PostTypeId','_AcceptedAnswerId','_ParentId','_Score','_ViewCount','_Body','_Title','_Tags','_AnswerCount']]"
   ]
  },
  {
   "cell_type": "code",
   "execution_count": 12,
   "metadata": {},
   "outputs": [],
   "source": [
    "# df2.head(5)"
   ]
  },
  {
   "cell_type": "code",
   "execution_count": 13,
   "metadata": {},
   "outputs": [
    {
     "data": {
      "text/plain": [
       "(19386, 10)"
      ]
     },
     "execution_count": 13,
     "metadata": {},
     "output_type": "execute_result"
    }
   ],
   "source": [
    "df2[df2['_PostTypeId']==1].shape"
   ]
  },
  {
   "cell_type": "code",
   "execution_count": 14,
   "metadata": {},
   "outputs": [],
   "source": [
    "Questions=df2[df2['_PostTypeId']==1]\n",
    "Answers=df2[df2['_PostTypeId']==2]"
   ]
  },
  {
   "cell_type": "code",
   "execution_count": 15,
   "metadata": {},
   "outputs": [
    {
     "name": "stdout",
     "output_type": "stream",
     "text": [
      "(49115, 21)\n",
      "19386\n",
      "29729\n"
     ]
    }
   ],
   "source": [
    "print(df.shape)\n",
    "print(len(Questions))\n",
    "print(len(Answers))"
   ]
  },
  {
   "cell_type": "code",
   "execution_count": 16,
   "metadata": {},
   "outputs": [],
   "source": [
    "# Questions=Questions.drop(['index','_ParentId'], axis = 1)\n",
    "# Questions.reset_index(inplace=True)"
   ]
  },
  {
   "cell_type": "code",
   "execution_count": 17,
   "metadata": {},
   "outputs": [
    {
     "name": "stdout",
     "output_type": "stream",
     "text": [
      "<class 'pandas.core.frame.DataFrame'>\n",
      "Int64Index: 19386 entries, 0 to 25490\n",
      "Data columns (total 10 columns):\n",
      "_Id                  19386 non-null float64\n",
      "_PostTypeId          19386 non-null float64\n",
      "_AcceptedAnswerId    7966 non-null float64\n",
      "_ParentId            0 non-null float64\n",
      "_Score               19386 non-null float64\n",
      "_ViewCount           19386 non-null float64\n",
      "_Body                19386 non-null object\n",
      "_Title               19386 non-null object\n",
      "_Tags                19386 non-null object\n",
      "_AnswerCount         19386 non-null float64\n",
      "dtypes: float64(7), object(3)\n",
      "memory usage: 1.6+ MB\n"
     ]
    }
   ],
   "source": [
    "Questions.info()"
   ]
  },
  {
   "cell_type": "code",
   "execution_count": 18,
   "metadata": {},
   "outputs": [],
   "source": [
    "Questions=Questions.drop(['_ParentId'], axis = 1)\n",
    "# Questions.reset_index(inplace=True)"
   ]
  },
  {
   "cell_type": "code",
   "execution_count": 19,
   "metadata": {},
   "outputs": [],
   "source": [
    "Questions.reset_index(inplace=True)"
   ]
  },
  {
   "cell_type": "code",
   "execution_count": 20,
   "metadata": {},
   "outputs": [
    {
     "data": {
      "text/plain": [
       "19386"
      ]
     },
     "execution_count": 20,
     "metadata": {},
     "output_type": "execute_result"
    }
   ],
   "source": [
    "len(Questions)"
   ]
  },
  {
   "cell_type": "code",
   "execution_count": 34,
   "metadata": {
    "scrolled": true
   },
   "outputs": [],
   "source": [
    "# Answers.info()"
   ]
  },
  {
   "cell_type": "code",
   "execution_count": 33,
   "metadata": {},
   "outputs": [],
   "source": [
    "# Answers=Answers.drop(['_AcceptedAnswerId','_ViewCount','_Title','_Tags','_AnswerCount'], axis = 1)\n",
    "# Answers.reset_index(inplace=True)"
   ]
  },
  {
   "cell_type": "code",
   "execution_count": 32,
   "metadata": {},
   "outputs": [],
   "source": [
    "# Questions.head()"
   ]
  },
  {
   "cell_type": "code",
   "execution_count": 31,
   "metadata": {},
   "outputs": [],
   "source": [
    "# Questions[\"_Body\"][0]"
   ]
  },
  {
   "cell_type": "code",
   "execution_count": 30,
   "metadata": {},
   "outputs": [],
   "source": [
    "# Answers.head()"
   ]
  },
  {
   "cell_type": "code",
   "execution_count": 29,
   "metadata": {},
   "outputs": [],
   "source": [
    "# Answers['_Body'][4]"
   ]
  },
  {
   "cell_type": "code",
   "execution_count": 26,
   "metadata": {},
   "outputs": [],
   "source": [
    "# l=[]\n",
    "# for i in range(len(Questions)):\n",
    "#     a=Answers['_Body'][Answers['_ParentId']==Questions[\"_Id\"][i]]\n",
    "#     if Questions[\"_Id\"][i]==4:\n",
    "#         print('Check ',len(a))\n",
    "#     l.append(''.join(map(str, list(a))))"
   ]
  },
  {
   "cell_type": "code",
   "execution_count": 27,
   "metadata": {},
   "outputs": [],
   "source": [
    "# len(l)"
   ]
  },
  {
   "cell_type": "code",
   "execution_count": 27,
   "metadata": {},
   "outputs": [],
   "source": [
    "# Questions['Ans']=l"
   ]
  },
  {
   "cell_type": "code",
   "execution_count": 28,
   "metadata": {},
   "outputs": [],
   "source": [
    "# Questions.head()"
   ]
  },
  {
   "cell_type": "code",
   "execution_count": 35,
   "metadata": {},
   "outputs": [],
   "source": [
    "Questions['Title+Body']=Questions['_Title']+\" \"+Questions['_Body']"
   ]
  },
  {
   "cell_type": "code",
   "execution_count": null,
   "metadata": {},
   "outputs": [],
   "source": []
  },
  {
   "cell_type": "code",
   "execution_count": null,
   "metadata": {},
   "outputs": [],
   "source": []
  },
  {
   "cell_type": "code",
   "execution_count": null,
   "metadata": {},
   "outputs": [],
   "source": []
  },
  {
   "cell_type": "code",
   "execution_count": null,
   "metadata": {},
   "outputs": [],
   "source": []
  },
  {
   "cell_type": "code",
   "execution_count": 48,
   "metadata": {},
   "outputs": [
    {
     "data": {
      "text/plain": [
       "19386"
      ]
     },
     "execution_count": 48,
     "metadata": {},
     "output_type": "execute_result"
    }
   ],
   "source": [
    "len(Questions)"
   ]
  },
  {
   "cell_type": "markdown",
   "metadata": {},
   "source": [
    "### Data Preprocessing\n"
   ]
  },
  {
   "cell_type": "code",
   "execution_count": 36,
   "metadata": {},
   "outputs": [],
   "source": [
    "# https://stackoverflow.com/questions/9662346/python-code-to-remove-html-tags-from-a-string\n",
    "import re\n",
    "def cleanhtml(raw_html):\n",
    "        cleanr = re.compile('<.*?>')\n",
    "        cleantext = re.sub(cleanr, '', raw_html)\n",
    "        cleanr = re.compile('<.*?>|&([a-z0-9]+|#[0-9]{1,6}|#x[0-9a-f]{1,6});')\n",
    "        cleantext = re.sub(cleanr, '', cleantext)\n",
    "        return cleantext.lower()"
   ]
  },
  {
   "cell_type": "code",
   "execution_count": 37,
   "metadata": {},
   "outputs": [],
   "source": [
    "# \n",
    "# for i in range(0,20000,1000):\n",
    "#     print(df['Q_Body'][i])\n",
    "#     print(cleanhtml(df['Q_Body'][i]))\n",
    "#     print('------------------------------------------------------------------------------------------------------------')\n",
    "    "
   ]
  },
  {
   "cell_type": "code",
   "execution_count": 38,
   "metadata": {},
   "outputs": [],
   "source": [
    "Questions['Title+Body']=Questions['Title+Body'].apply(lambda x: cleanhtml(x))"
   ]
  },
  {
   "cell_type": "code",
   "execution_count": 39,
   "metadata": {},
   "outputs": [
    {
     "name": "stdout",
     "output_type": "stream",
     "text": [
      "['is', 'there', 'solid', 'proof', 'of', 'hindu', 'scripture?', 'is', 'there', 'solid', 'proof', 'of', 'hindu', 'scripture--namely,', 'the', 'sruti', '(à¤¶à¥\\x8dà¤°à¥\\x81à¤¤à¤¿)', 'scriptures', 'like', 'the', 'vedas', '(à¤µà¥\\x87à¤¦à¤¾à¤\\x83)', 'and', 'the', 'upanishads', '(à¤\\x89à¤ªà¤¨à¤¿à¤·à¤¦à¤\\x83)?', 'how', 'do', 'we', 'know', 'what', 'they', 'say', 'is', 'correct?', 'some', 'of', 'you', 'might', 'say--\"hindu', 'scripture', 'agrees', 'perfectly', 'with', 'science', 'and', 'has', 'references', 'to', 'several', 'modern', 'scientific', 'discoveries.\"', 'this', 'may', 'be', 'true,', 'but', 'this', 'does', 'not', 'prove', 'the', 'theological', 'validity', 'of', 'hindu', 'scripture.', 'so', 'is', 'there', 'any', 'proof', 'of', 'such', 'a', 'kind?']\n"
     ]
    }
   ],
   "source": [
    "print(Questions['Title+Body'][1000].split())"
   ]
  },
  {
   "cell_type": "code",
   "execution_count": 40,
   "metadata": {},
   "outputs": [
    {
     "name": "stdout",
     "output_type": "stream",
     "text": [
      "is there an orthodox hinduism? orthodoxy in christianity is the holding to the oldest beliefs.  it is of course impossible for the religion not to evolve at all as new questions and there answer have to addressed. the \"orthodox\" version is often considered to be the least evolved sect of a religion.  does the concept of orthodox apply in hinduism? \r\n",
      "\n",
      "-----------------------------------------------------------------\n",
      "is there solid proof of hindu scripture? is there solid proof of hindu scripture--namely, the sruti (à¤¶à¥à¤°à¥à¤¤à¤¿) scriptures like the vedas (à¤µà¥à¤¦à¤¾à¤) and the upanishads (à¤à¤ªà¤¨à¤¿à¤·à¤¦à¤)?\r\n",
      "\r\n",
      "how do we know what they say is correct?\r\n",
      "\r\n",
      "some of you might say--\"hindu scripture agrees perfectly with science and has references to several modern scientific discoveries.\" \r\n",
      "\r\n",
      "this may be true, but this does not prove the theological validity of hindu scripture. so is there any proof of such a kind?\r\n",
      "\n",
      "-----------------------------------------------------------------\n",
      "different brahmalokas? the earth is situated in the middle of the 'fourteen planes of existence', of which 'brahmaloka' is the highest plane. \r\n",
      "\r\n",
      "but on the earth, atop the mountain meru, there is a city of brahma, called 'shatakaumbhi', which resembles a mountain of gold. surrounding it are the citadels of the various 'lokapalas', namely, indra, agni, yama, nirruti, varuna, vayu, kubera and ishana. this solves the problem of how can there be lokapalas for the universe, because these 'lokapalas' are now confined to 'bhuloka'. surrounding these cities are the various residences of devas and asuras.\r\n",
      "\r\n",
      "the question is, are all these different cities from the actual 'lokas' of the devas?\r\n",
      "\r\n",
      "like do we have two brahmas, two indras, agnis and so on, including double the number of devas and asuras per city? \r\n",
      "\r\n",
      "or are all these portals to the various other planes of existence?\r\n",
      "\n",
      "-----------------------------------------------------------------\n",
      "why is the poison that came out of samudra manthana called halahalam and kaalakootam? this question discusses how poison was the first thing that came out of samudra manthana. shiva drank that poison to save everyone and is known as neelakantha. the poison itself is called à¤¹à¤²à¤¾à¤¹à¤²à¤ (halahalam) or à¤à¤¾à¤²à¤à¥à¤à¤ (kaalakootam).\r\n",
      "\r\n",
      "i heard that the word à¤¹à¤²à¤¾à¤¹à¤²à¤ is mentioned in different forms in different texts.\r\n",
      "\r\n",
      "also, this wiki article describes (maybe not correctly) two of the meanings of kaalakootam as 'black mass' or 'time puzzle'.\r\n",
      "\r\n",
      "why is the poison given these two names - à¤¹à¤²à¤¾à¤¹à¤²à¤ and à¤à¤¾à¤²à¤à¥à¤à¤ ? is there any hidden symbolism behind it?\r\n",
      "\n",
      "-----------------------------------------------------------------\n",
      "what is duration of tithi according to hindu panchang? what is duration of tithi according to hindu panchang?\r\n",
      "\n",
      "-----------------------------------------------------------------\n",
      "which shloka explains this statement related to shiva if a person falls in dangerous situations such as in front of dangerous animals, then if such person says \"shiva\", then the total situation comes under control and the animals don't harm that person.\r\n",
      "\r\n",
      "which hindu scripture contains this?\r\n",
      "\n",
      "-----------------------------------------------------------------\n",
      "whose avatar was sri vedanta desikan? one of the accomplished vedanta philosopher and acharya desikan is famous in southern india.\r\n",
      "\r\n",
      "whose avatara is he believed to be?\r\n",
      "\n",
      "-----------------------------------------------------------------\n",
      "what is the story of revelation of shiva sutras to sage sri vasugupta? shiva sutras are core text of kashmir shaiva agamas.\r\n",
      "\r\n",
      "what is the story behind lord vasugupta getting the revelation of shiva sutras?\r\n",
      "\n",
      "-----------------------------------------------------------------\n",
      "what happens to deities at the end of their life cycle? what happens to different deities we worship at the end of their life cycle. will they merge back into parabrahma?\r\n",
      "\n",
      "-----------------------------------------------------------------\n",
      "what is the present time in hinduism? in kaala, manvantara ,mahayug, etc. \r\n",
      "calculating these things are proving to be difficult for me. \r\n",
      "\n",
      "-----------------------------------------------------------------\n",
      "is rama a naishtika brahmachari? it is known that krishna, narada etc., are married naishtika brahmacharis.\r\n",
      "\r\n",
      "is rama a naishtika brahmachari?â \r\n",
      "\n",
      "-----------------------------------------------------------------\n",
      "what is a \"runners high\"? there have been a few times in my life, where i believe i have experienced the phenomenon called \"runners high\", or the euphoric state during a run where you feel like you can keep running for forever.  \r\n",
      "\r\n",
      "my question is two fold:  \r\n",
      "\r\n",
      "\r\n",
      "what exactly is this sensation?  \r\n",
      "are there ways to 'train' your body to get into this state quicker?\r\n",
      "\r\n",
      "\n",
      "-----------------------------------------------------------------\n",
      "can one prevent bleeding knuckles while boxing? i'm not generally a fit person, but i started riding a bike to work two years ago when a colleague of mine sold me an slightly used one really cheap. now in winter i can't (safely) do that so i bought myself a boxing bag to at least have a way of training inside (and because i thought it would be a good way to \"externalize daily frustration\").\r\n",
      "\r\n",
      "now my problem is (winter approaching) that even while wearing padded boxing gloves, i get bleeding knuckles within 15 minutes of training. and since it takes over a week for them to heal, i can't see how i could train regularly without having to wear bandages on my hands permanently (which looks stupid and attract unwanted attention).\r\n",
      "\r\n",
      "i sometimes saw real boxers on tv wearing bandages before they put their gloves on. are those meant to prevent bleeding, or just prevent that the blood gets in the gloves?\r\n",
      "\n",
      "-----------------------------------------------------------------\n",
      "jogging: tibialis anterior muscle tense up whenever i jog \r\n",
      "\r\n",
      "whenever i jog for 10 minutes, tibialis anterior muscle start to tense up to the point where it hurts. it's preventing me from doing long distance jogging.\r\n",
      "\r\n",
      "i am not sure why this is happening. i usually walk for 5 minutes before i jog, giving it a bit of warning. but it doesn't seem to help.\r\n",
      "\r\n",
      "i am 6' and 165 lbs. my left knee joint is slightly weak, so i try to jog softly, but that actually accelerates the process of tibialis tense-up.\r\n",
      "\r\n",
      "does anyone know why this is happening? has anyone solved this problem before?\r\n",
      "\r\n",
      "image from http://en.wikipedia.org/wiki/file:tibialis.png\r\n",
      "\n",
      "-----------------------------------------------------------------\n",
      "how is energy derived from muscle, fat and glucose at different intensities? i have learned that during aerobic exercising the body converts different sources of energy: glucose, fat and muscle. however, different ratios are used in different situations. \r\n",
      "\r\n",
      "so what are the ratios by intensity? i once had a link to a page where this was explained, the wikipedia article about exercise intensity lacks muscle tissue as energy source.\r\n",
      "\r\n",
      "also, the ratio of these sources changes with time of activity. i heard that after about 30-40 min of cardio the main source of energy switches from glucose to fat. how does this affect the amount of muscles burned?\r\n",
      "\n",
      "-----------------------------------------------------------------\n",
      "ways to improve a glute/leg workout? i am female, 145 pounds and 170cm tall.\r\n",
      "i go to gym 4 times a week and do split training.\r\n",
      "i have noticed quite some gains on my legs but not really my ass.\r\n",
      "here is my workout: (i am not sure of what weight i use, hence if i don't mention it... i don't know- but its heavy to the point where my 9th or 10th rep is basically impossible)\r\n",
      "\r\n",
      "seated leg press (100kg, 3 sets, 10 reps per set)\r\n",
      "\r\n",
      "squats (20kg- cant go up as i find it to hard to get the bar over my head, 3 sets, 10 reps per set)\r\n",
      "\r\n",
      "leg extension (3 sets, 10 reps)\r\n",
      "\r\n",
      "leg press (5 sets, begin at 70kg and go up to 100kg and then back down again- is called doing a pyramid)\r\n",
      "\r\n",
      "then go onto do calves....\r\n",
      "\r\n",
      "is my butt just taking its time to grow? or are these exercises not adequately working my butt?\r\n",
      "\r\n",
      "i get enough protein, sleep and nutrition :)\r\n",
      "\n",
      "-----------------------------------------------------------------\n",
      "will cardio compromise mass if i'm in a caloric surplus? i am aware that it's not black and white simple. \r\n",
      "if i consume enough (90%clean) calories, will cardio still compromise mass? or is a deficit the main cannibalistic factor?\r\n",
      "\n",
      "-----------------------------------------------------------------\n",
      "right abs are more worked (and possibly poor posture), how can i correct that? recently i've been jogging and working my arms with some exercises. although i feel both legs and arms more or less equally tired i also feel i have much more strength with my leg and right arm. i also feel that the right side of my abs are more tired (one or two days after the exercise), besides this i can see that my right shoes are more worn... so i was worried about this. now that i'm starting to do more exercise i would like to have both sides of my body more or less equally developed. what should i do? should i try to put more effort in my left side consciously?\r\n",
      "\n",
      "-----------------------------------------------------------------\n",
      "hitting a plateau in exercises i've been training for 4 months now and for certain exercises i feel like i'm hitting a plateau. i'm planning to change my program so it contains new exercises.\r\n",
      "\r\n",
      "for new exercises i will start from lower weights so i can go up gradually, but what worries me is to lose muscles mass because of going down on weights.\r\n",
      "\r\n",
      "what can i do to make sure i don't lose the muscle mass that i've gained over the last 4 months?\r\n",
      "\n",
      "-----------------------------------------------------------------\n"
     ]
    }
   ],
   "source": [
    "for i in range(0,19000,1000):\n",
    "    print(Questions['Title+Body'][i])\n",
    "    print('-----------------------------------------------------------------')"
   ]
  },
  {
   "cell_type": "code",
   "execution_count": 41,
   "metadata": {},
   "outputs": [],
   "source": [
    "import re\n",
    "def cleanurls(x):\n",
    "    result = re.sub(r\"http\\S+\", \"\", x)\n",
    "    return result\n",
    "    "
   ]
  },
  {
   "cell_type": "code",
   "execution_count": 42,
   "metadata": {},
   "outputs": [],
   "source": [
    "Questions['Title+Body']=Questions['Title+Body'].apply(lambda x: cleanurls(x))"
   ]
  },
  {
   "cell_type": "code",
   "execution_count": 43,
   "metadata": {},
   "outputs": [
    {
     "name": "stdout",
     "output_type": "stream",
     "text": [
      "is there an orthodox hinduism? orthodoxy in christianity is the holding to the oldest beliefs.  it is of course impossible for the religion not to evolve at all as new questions and there answer have to addressed. the \"orthodox\" version is often considered to be the least evolved sect of a religion.  does the concept of orthodox apply in hinduism? \r\n",
      "\n",
      "-----------------------------------------------------------------\n",
      "is there solid proof of hindu scripture? is there solid proof of hindu scripture--namely, the sruti (à¤¶à¥à¤°à¥à¤¤à¤¿) scriptures like the vedas (à¤µà¥à¤¦à¤¾à¤) and the upanishads (à¤à¤ªà¤¨à¤¿à¤·à¤¦à¤)?\r\n",
      "\r\n",
      "how do we know what they say is correct?\r\n",
      "\r\n",
      "some of you might say--\"hindu scripture agrees perfectly with science and has references to several modern scientific discoveries.\" \r\n",
      "\r\n",
      "this may be true, but this does not prove the theological validity of hindu scripture. so is there any proof of such a kind?\r\n",
      "\n",
      "-----------------------------------------------------------------\n",
      "different brahmalokas? the earth is situated in the middle of the 'fourteen planes of existence', of which 'brahmaloka' is the highest plane. \r\n",
      "\r\n",
      "but on the earth, atop the mountain meru, there is a city of brahma, called 'shatakaumbhi', which resembles a mountain of gold. surrounding it are the citadels of the various 'lokapalas', namely, indra, agni, yama, nirruti, varuna, vayu, kubera and ishana. this solves the problem of how can there be lokapalas for the universe, because these 'lokapalas' are now confined to 'bhuloka'. surrounding these cities are the various residences of devas and asuras.\r\n",
      "\r\n",
      "the question is, are all these different cities from the actual 'lokas' of the devas?\r\n",
      "\r\n",
      "like do we have two brahmas, two indras, agnis and so on, including double the number of devas and asuras per city? \r\n",
      "\r\n",
      "or are all these portals to the various other planes of existence?\r\n",
      "\n",
      "-----------------------------------------------------------------\n",
      "why is the poison that came out of samudra manthana called halahalam and kaalakootam? this question discusses how poison was the first thing that came out of samudra manthana. shiva drank that poison to save everyone and is known as neelakantha. the poison itself is called à¤¹à¤²à¤¾à¤¹à¤²à¤ (halahalam) or à¤à¤¾à¤²à¤à¥à¤à¤ (kaalakootam).\r\n",
      "\r\n",
      "i heard that the word à¤¹à¤²à¤¾à¤¹à¤²à¤ is mentioned in different forms in different texts.\r\n",
      "\r\n",
      "also, this wiki article describes (maybe not correctly) two of the meanings of kaalakootam as 'black mass' or 'time puzzle'.\r\n",
      "\r\n",
      "why is the poison given these two names - à¤¹à¤²à¤¾à¤¹à¤²à¤ and à¤à¤¾à¤²à¤à¥à¤à¤ ? is there any hidden symbolism behind it?\r\n",
      "\n",
      "-----------------------------------------------------------------\n",
      "what is duration of tithi according to hindu panchang? what is duration of tithi according to hindu panchang?\r\n",
      "\n",
      "-----------------------------------------------------------------\n",
      "which shloka explains this statement related to shiva if a person falls in dangerous situations such as in front of dangerous animals, then if such person says \"shiva\", then the total situation comes under control and the animals don't harm that person.\r\n",
      "\r\n",
      "which hindu scripture contains this?\r\n",
      "\n",
      "-----------------------------------------------------------------\n",
      "whose avatar was sri vedanta desikan? one of the accomplished vedanta philosopher and acharya desikan is famous in southern india.\r\n",
      "\r\n",
      "whose avatara is he believed to be?\r\n",
      "\n",
      "-----------------------------------------------------------------\n",
      "what is the story of revelation of shiva sutras to sage sri vasugupta? shiva sutras are core text of kashmir shaiva agamas.\r\n",
      "\r\n",
      "what is the story behind lord vasugupta getting the revelation of shiva sutras?\r\n",
      "\n",
      "-----------------------------------------------------------------\n",
      "what happens to deities at the end of their life cycle? what happens to different deities we worship at the end of their life cycle. will they merge back into parabrahma?\r\n",
      "\n",
      "-----------------------------------------------------------------\n",
      "what is the present time in hinduism? in kaala, manvantara ,mahayug, etc. \r\n",
      "calculating these things are proving to be difficult for me. \r\n",
      "\n",
      "-----------------------------------------------------------------\n",
      "is rama a naishtika brahmachari? it is known that krishna, narada etc., are married naishtika brahmacharis.\r\n",
      "\r\n",
      "is rama a naishtika brahmachari?â \r\n",
      "\n",
      "-----------------------------------------------------------------\n",
      "what is a \"runners high\"? there have been a few times in my life, where i believe i have experienced the phenomenon called \"runners high\", or the euphoric state during a run where you feel like you can keep running for forever.  \r\n",
      "\r\n",
      "my question is two fold:  \r\n",
      "\r\n",
      "\r\n",
      "what exactly is this sensation?  \r\n",
      "are there ways to 'train' your body to get into this state quicker?\r\n",
      "\r\n",
      "\n",
      "-----------------------------------------------------------------\n",
      "can one prevent bleeding knuckles while boxing? i'm not generally a fit person, but i started riding a bike to work two years ago when a colleague of mine sold me an slightly used one really cheap. now in winter i can't (safely) do that so i bought myself a boxing bag to at least have a way of training inside (and because i thought it would be a good way to \"externalize daily frustration\").\r\n",
      "\r\n",
      "now my problem is (winter approaching) that even while wearing padded boxing gloves, i get bleeding knuckles within 15 minutes of training. and since it takes over a week for them to heal, i can't see how i could train regularly without having to wear bandages on my hands permanently (which looks stupid and attract unwanted attention).\r\n",
      "\r\n",
      "i sometimes saw real boxers on tv wearing bandages before they put their gloves on. are those meant to prevent bleeding, or just prevent that the blood gets in the gloves?\r\n",
      "\n",
      "-----------------------------------------------------------------\n",
      "jogging: tibialis anterior muscle tense up whenever i jog \r\n",
      "\r\n",
      "whenever i jog for 10 minutes, tibialis anterior muscle start to tense up to the point where it hurts. it's preventing me from doing long distance jogging.\r\n",
      "\r\n",
      "i am not sure why this is happening. i usually walk for 5 minutes before i jog, giving it a bit of warning. but it doesn't seem to help.\r\n",
      "\r\n",
      "i am 6' and 165 lbs. my left knee joint is slightly weak, so i try to jog softly, but that actually accelerates the process of tibialis tense-up.\r\n",
      "\r\n",
      "does anyone know why this is happening? has anyone solved this problem before?\r\n",
      "\r\n",
      "image from \r\n",
      "\n",
      "-----------------------------------------------------------------\n",
      "how is energy derived from muscle, fat and glucose at different intensities? i have learned that during aerobic exercising the body converts different sources of energy: glucose, fat and muscle. however, different ratios are used in different situations. \r\n",
      "\r\n",
      "so what are the ratios by intensity? i once had a link to a page where this was explained, the wikipedia article about exercise intensity lacks muscle tissue as energy source.\r\n",
      "\r\n",
      "also, the ratio of these sources changes with time of activity. i heard that after about 30-40 min of cardio the main source of energy switches from glucose to fat. how does this affect the amount of muscles burned?\r\n",
      "\n",
      "-----------------------------------------------------------------\n",
      "ways to improve a glute/leg workout? i am female, 145 pounds and 170cm tall.\r\n",
      "i go to gym 4 times a week and do split training.\r\n",
      "i have noticed quite some gains on my legs but not really my ass.\r\n",
      "here is my workout: (i am not sure of what weight i use, hence if i don't mention it... i don't know- but its heavy to the point where my 9th or 10th rep is basically impossible)\r\n",
      "\r\n",
      "seated leg press (100kg, 3 sets, 10 reps per set)\r\n",
      "\r\n",
      "squats (20kg- cant go up as i find it to hard to get the bar over my head, 3 sets, 10 reps per set)\r\n",
      "\r\n",
      "leg extension (3 sets, 10 reps)\r\n",
      "\r\n",
      "leg press (5 sets, begin at 70kg and go up to 100kg and then back down again- is called doing a pyramid)\r\n",
      "\r\n",
      "then go onto do calves....\r\n",
      "\r\n",
      "is my butt just taking its time to grow? or are these exercises not adequately working my butt?\r\n",
      "\r\n",
      "i get enough protein, sleep and nutrition :)\r\n",
      "\n",
      "-----------------------------------------------------------------\n",
      "will cardio compromise mass if i'm in a caloric surplus? i am aware that it's not black and white simple. \r\n",
      "if i consume enough (90%clean) calories, will cardio still compromise mass? or is a deficit the main cannibalistic factor?\r\n",
      "\n",
      "-----------------------------------------------------------------\n",
      "right abs are more worked (and possibly poor posture), how can i correct that? recently i've been jogging and working my arms with some exercises. although i feel both legs and arms more or less equally tired i also feel i have much more strength with my leg and right arm. i also feel that the right side of my abs are more tired (one or two days after the exercise), besides this i can see that my right shoes are more worn... so i was worried about this. now that i'm starting to do more exercise i would like to have both sides of my body more or less equally developed. what should i do? should i try to put more effort in my left side consciously?\r\n",
      "\n",
      "-----------------------------------------------------------------\n",
      "hitting a plateau in exercises i've been training for 4 months now and for certain exercises i feel like i'm hitting a plateau. i'm planning to change my program so it contains new exercises.\r\n",
      "\r\n",
      "for new exercises i will start from lower weights so i can go up gradually, but what worries me is to lose muscles mass because of going down on weights.\r\n",
      "\r\n",
      "what can i do to make sure i don't lose the muscle mass that i've gained over the last 4 months?\r\n",
      "\n",
      "-----------------------------------------------------------------\n"
     ]
    }
   ],
   "source": [
    "for i in range(0,19000,1000):\n",
    "    print(Questions['Title+Body'][i])\n",
    "    print('-----------------------------------------------------------------')"
   ]
  },
  {
   "cell_type": "code",
   "execution_count": 44,
   "metadata": {},
   "outputs": [],
   "source": [
    "# result"
   ]
  },
  {
   "cell_type": "code",
   "execution_count": 45,
   "metadata": {},
   "outputs": [
    {
     "name": "stdout",
     "output_type": "stream",
     "text": [
      "how should hindus treat people of other religions? what are the teachings of hinduism for dealing with other religions and their followers? to be more precise, what does hinduism teach its followers about how to treat other people like muslims and christians?\r\n",
      "\n"
     ]
    }
   ],
   "source": [
    "print(Questions['Title+Body'][10])"
   ]
  },
  {
   "cell_type": "code",
   "execution_count": 46,
   "metadata": {},
   "outputs": [],
   "source": [
    "from nltk.corpus import stopwords"
   ]
  },
  {
   "cell_type": "code",
   "execution_count": 47,
   "metadata": {},
   "outputs": [],
   "source": [
    "stopwords= ['i', 'me', 'my', 'myself', 'we', 'our', 'ours', 'ourselves', 'you',\n",
    "\"you're\", \"you've\",\"you'll\", \"you'd\", 'your', 'yours', 'yourself', 'yourselves', 'he',\n",
    "'him', 'his', 'himself', 'she', \"she's\", 'her', 'hers', 'herself', 'it', \"it's\", 'its', 'itself', 'they',\n",
    "'them', 'their','theirs', 'themselves', 'what', 'which', 'who', 'whom', 'this', 'that', \"that'll\", 'these', 'those',\n",
    "'am', 'is', 'are', 'was', 'were', 'be', 'been', 'being', 'have', 'has', 'had', 'having', 'do', 'does', \n",
    "'did', 'doing', 'a', 'an', 'the', 'and', 'but', 'if', 'or', 'because', 'as', 'until', 'while', 'of', \n",
    "'at', 'by', 'for', 'with', 'about', 'against', 'between', 'into','through', 'during', 'before', 'after',\n",
    "'above', 'below', 'to', 'from', 'up', 'down', 'in', 'out', 'on', 'off', 'over', 'under', 'again', 'further',\n",
    "'then', 'once', 'here', 'there', 'when', 'where', 'why', 'how', 'all', 'any', 'both', 'each', 'few', 'more',\n",
    "'most', 'other', 'some', 'such', 'only', 'own', 'same', 'so', 'than', 'too', 'very',\n",
    "            's', 't', 'can', 'will', 'just', 'don', \"don't\", 'should', \"should've\", 'now', 'd', 'll', 'm', 'o', 're',\n",
    "'ve', 'y', 'ain', 'aren', \"aren't\", 'couldn', \"couldn't\", 'didn',\"didn't\", 'doesn', \"doesn't\", 'hadn',\n",
    "\"hadn't\", 'hasn', \"hasn't\", 'haven', \"haven't\", 'isn', \"isn't\", 'ma', 'mightn', \"mightn't\", 'mustn',\n",
    "            \"mustn't\", 'needn', \"needn't\", 'shan', \"shan't\", 'shouldn', \"shouldn't\", 'wasn', \"wasn't\", 'weren', \"weren't\", \n",
    "'won', \"won't\", 'wouldn', \"wouldn't\"]"
   ]
  },
  {
   "cell_type": "code",
   "execution_count": 49,
   "metadata": {},
   "outputs": [],
   "source": [
    "import re\n",
    "def decontracted(phrase):\n",
    "    # specific\n",
    "    phrase = re.sub(r\"won't\", \"will not\", phrase)\n",
    "    phrase = re.sub(r\"can\\'t\", \"can not\", phrase)\n",
    "    # general\n",
    "    phrase = re.sub(r\"n\\'t\", \" not\", phrase)\n",
    "    phrase = re.sub(r\"\\'re\", \" are\", phrase)\n",
    "    phrase = re.sub(r\"\\'s\", \" is\", phrase)\n",
    "    phrase = re.sub(r\"\\'d\", \" would\", phrase)\n",
    "    phrase = re.sub(r\"\\'ll\", \" will\", phrase)\n",
    "    phrase = re.sub(r\"\\'t\", \" not\", phrase)\n",
    "    phrase = re.sub(r\"\\'ve\", \" have\", phrase)\n",
    "    phrase = re.sub(r\"\\'m\", \" am\", phrase)\n",
    "    return phrase"
   ]
  },
  {
   "cell_type": "code",
   "execution_count": 50,
   "metadata": {},
   "outputs": [],
   "source": [
    "# ! pip install tqdm"
   ]
  },
  {
   "cell_type": "code",
   "execution_count": 51,
   "metadata": {},
   "outputs": [],
   "source": [
    "# import tqdm\n",
    "clean_Title_Body = []\n",
    "for titles in Questions['Title+Body'].values:\n",
    "    title = decontracted(titles)\n",
    "    title = title.replace('\\\\r', ' ')\n",
    "    title = title.replace('\\\\\"', ' ')\n",
    "    title = title.replace('\\\\n', ' ')\n",
    "    title = re.sub('[^A-Za-z0-9]+', ' ', title)\n",
    "    title = ' '.join(f for f in title.split() if f not in stopwords)\n",
    "    clean_Title_Body.append(title.lower().strip())\n"
   ]
  },
  {
   "cell_type": "code",
   "execution_count": 52,
   "metadata": {},
   "outputs": [],
   "source": [
    "Questions['clean_Title_Body'] = clean_Title_Body"
   ]
  },
  {
   "cell_type": "code",
   "execution_count": 53,
   "metadata": {},
   "outputs": [
    {
     "name": "stdout",
     "output_type": "stream",
     "text": [
      "orthodox hinduism orthodoxy christianity holding oldest beliefs course impossible religion not evolve new questions answer addressed orthodox version often considered least evolved sect religion concept orthodox apply hinduism\n",
      "-----------------------------------------------------------------\n",
      "solid proof hindu scripture solid proof hindu scripture namely sruti scriptures like vedas upanishads know say correct might say hindu scripture agrees perfectly science references several modern scientific discoveries may true not prove theological validity hindu scripture proof kind\n",
      "-----------------------------------------------------------------\n",
      "different brahmalokas earth situated middle fourteen planes existence brahmaloka highest plane earth atop mountain meru city brahma called ishatakaumbhi resembles mountain gold surrounding citadels various lokapalas namely indra agni yama nirruti varuna vayu kubera ishana solves problem lokapalas universe lokapalas confined bhuloka surrounding cities various residences devas asuras question different cities actual lokas devas like two brahmas two indras agnis including double number devas asuras per city portals various planes existence\n",
      "-----------------------------------------------------------------\n",
      "poison came samudra manthana called halahalam kaalakootam question discusses poison first thing came samudra manthana shiva drank poison save everyone known neelakantha poison called halahalam kaalakootam heard word mentioned different forms different texts also wiki article describes maybe not correctly two meanings kaalakootam black mass notime puzzle poison given two names hidden symbolism behind\n",
      "-----------------------------------------------------------------\n",
      "duration tithi according hindu panchang duration tithi according hindu panchang\n",
      "-----------------------------------------------------------------\n",
      "shloka explains statement related shiva person falls dangerous situations front dangerous animals person says shiva total situation comes control animals not harm person hindu scripture contains\n",
      "-----------------------------------------------------------------\n",
      "whose avatar sri vedanta desikan one accomplished vedanta philosopher acharya desikan famous southern india whose avatara believed\n",
      "-----------------------------------------------------------------\n",
      "story revelation shiva sutras sage sri vasugupta shiva sutras core text kashmir shaiva agamas story behind lord vasugupta getting revelation shiva sutras\n",
      "-----------------------------------------------------------------\n",
      "happens deities end life cycle happens different deities worship end life cycle merge back parabrahma\n",
      "-----------------------------------------------------------------\n",
      "present time hinduism kaala manvantara mahayug etc calculating things proving difficult\n",
      "-----------------------------------------------------------------\n",
      "rama naishtika brahmachari known krishna narada etc married naishtika brahmacharis rama naishtika brahmachari\n",
      "-----------------------------------------------------------------\n",
      "runners high times life believe experienced phenomenon called runners high euphoric state run feel like keep running forever question two fold exactly sensation ways notrain body get state quicker\n",
      "-----------------------------------------------------------------\n",
      "one prevent bleeding knuckles boxing not generally fit person started riding bike work two years ago colleague mine sold slightly used one really cheap winter not safely bought boxing bag least way training inside thought would good way externalize daily frustration problem winter approaching even wearing padded boxing gloves get bleeding knuckles within 15 minutes training since takes week heal not see could train regularly without wear bandages hands permanently looks stupid attract unwanted attention sometimes saw real boxers tv wearing bandages put gloves meant prevent bleeding prevent blood gets gloves\n",
      "-----------------------------------------------------------------\n",
      "jogging tibialis anterior muscle tense whenever jog whenever jog 10 minutes tibialis anterior muscle start tense point hurts preventing long distance jogging not sure happening usually walk 5 minutes jog giving bit warning not seem help 6 165 lbs left knee joint slightly weak try jog softly actually accelerates process tibialis tense anyone know happening anyone solved problem image\n",
      "-----------------------------------------------------------------\n",
      "energy derived muscle fat glucose different intensities learned aerobic exercising body converts different sources energy glucose fat muscle however different ratios used different situations ratios intensity link page explained wikipedia article exercise intensity lacks muscle tissue energy source also ratio sources changes time activity heard 30 40 min cardio main source energy switches glucose fat affect amount muscles burned\n",
      "-----------------------------------------------------------------\n",
      "ways improve glute leg workout female 145 pounds 170cm tall go gym 4 times week split training noticed quite gains legs not really ass workout not sure weight use hence not mention not know heavy point 9th 10th rep basically impossible seated leg press 100kg 3 sets 10 reps per set squats 20kg cant go find hard get bar head 3 sets 10 reps per set leg extension 3 sets 10 reps leg press 5 sets begin 70kg go 100kg back called pyramid go onto calves butt taking time grow exercises not adequately working butt get enough protein sleep nutrition\n",
      "-----------------------------------------------------------------\n",
      "cardio compromise mass caloric surplus aware not black white simple consume enough 90 clean calories cardio still compromise mass deficit main cannibalistic factor\n",
      "-----------------------------------------------------------------\n",
      "right abs worked possibly poor posture correct recently jogging working arms exercises although feel legs arms less equally tired also feel much strength leg right arm also feel right side abs tired one two days exercise besides see right shoes worn worried starting exercise would like sides body less equally developed try put effort left side consciously\n",
      "-----------------------------------------------------------------\n",
      "hitting plateau exercises training 4 months certain exercises feel like hitting plateau planning change program contains new exercises new exercises start lower weights go gradually worries lose muscles mass going weights make sure not lose muscle mass gained last 4 months\n",
      "-----------------------------------------------------------------\n"
     ]
    }
   ],
   "source": [
    "for i in range(0,19000,1000):\n",
    "    print(Questions['clean_Title_Body'][i])\n",
    "    print('-----------------------------------------------------------------')"
   ]
  },
  {
   "cell_type": "code",
   "execution_count": 54,
   "metadata": {},
   "outputs": [
    {
     "name": "stdout",
     "output_type": "stream",
     "text": [
      "<class 'pandas.core.frame.DataFrame'>\n",
      "RangeIndex: 19386 entries, 0 to 19385\n",
      "Data columns (total 12 columns):\n",
      "index                19386 non-null int64\n",
      "_Id                  19386 non-null float64\n",
      "_PostTypeId          19386 non-null float64\n",
      "_AcceptedAnswerId    7966 non-null float64\n",
      "_Score               19386 non-null float64\n",
      "_ViewCount           19386 non-null float64\n",
      "_Body                19386 non-null object\n",
      "_Title               19386 non-null object\n",
      "_Tags                19386 non-null object\n",
      "_AnswerCount         19386 non-null float64\n",
      "Title+Body           19386 non-null object\n",
      "clean_Title_Body     19386 non-null object\n",
      "dtypes: float64(6), int64(1), object(5)\n",
      "memory usage: 1.8+ MB\n"
     ]
    }
   ],
   "source": [
    "Questions.info()"
   ]
  },
  {
   "cell_type": "code",
   "execution_count": 55,
   "metadata": {},
   "outputs": [
    {
     "data": {
      "text/plain": [
       "(19386, 54632)"
      ]
     },
     "execution_count": 55,
     "metadata": {},
     "output_type": "execute_result"
    }
   ],
   "source": [
    "from sklearn.feature_extraction.text import CountVectorizer\n",
    "vectorizer = CountVectorizer()\n",
    "bow = vectorizer.fit_transform(Questions['clean_Title_Body'])\n",
    "bow.get_shape()"
   ]
  },
  {
   "cell_type": "code",
   "execution_count": 56,
   "metadata": {},
   "outputs": [
    {
     "data": {
      "text/plain": [
       "(19386, 54632)"
      ]
     },
     "execution_count": 56,
     "metadata": {},
     "output_type": "execute_result"
    }
   ],
   "source": [
    "from sklearn.feature_extraction.text import TfidfVectorizer\n",
    "\n",
    "\n",
    "tfidf_vectorizer = TfidfVectorizer(min_df = 0)\n",
    "tfidf = tfidf_vectorizer.fit_transform(Questions['clean_Title_Body'])\n",
    "tfidf.get_shape()"
   ]
  },
  {
   "cell_type": "code",
   "execution_count": 57,
   "metadata": {},
   "outputs": [],
   "source": [
    "from gensim.models import Word2Vec\n",
    "from gensim.models import KeyedVectors\n",
    "import pickle"
   ]
  },
  {
   "cell_type": "code",
   "execution_count": 58,
   "metadata": {},
   "outputs": [],
   "source": [
    "# tfidf"
   ]
  },
  {
   "cell_type": "code",
   "execution_count": 59,
   "metadata": {},
   "outputs": [],
   "source": [
    "e=[\"How long did Bhishma live, after He fell asleep in the arrow in Mahabharata?\"]\n",
    "# vectorizer.transform(e)\n",
    "# cardio compromise mass caloric surplus aware not black white simple consume enough 90 clean calories cardio still compromise mass deficit main cannibalistic factor"
   ]
  },
  {
   "cell_type": "code",
   "execution_count": 60,
   "metadata": {},
   "outputs": [],
   "source": [
    "\n",
    "# def process_query(query):\n",
    "    "
   ]
  },
  {
   "cell_type": "code",
   "execution_count": 61,
   "metadata": {},
   "outputs": [],
   "source": [
    "from sklearn.metrics import pairwise_distances\n",
    "import numpy as np\n",
    "def search(vectorizer, query, corpus):\n",
    "#     query = process_query(query)\n",
    "    query_trans = vectorizer.transform(query)\n",
    "    pairwise_dist = pairwise_distances(corpus, query_trans, metric='cosine')\n",
    "    \n",
    "    indices = np.argsort(pairwise_dist.flatten())[0:20]\n",
    "    pdists = np.sort(pairwise_dist.flatten())[0:20]\n",
    "    print(pdists)\n",
    "    df_indices = list(Questions.index[indices])\n",
    "    return df_indices"
   ]
  },
  {
   "cell_type": "code",
   "execution_count": null,
   "metadata": {},
   "outputs": [],
   "source": []
  },
  {
   "cell_type": "code",
   "execution_count": 62,
   "metadata": {},
   "outputs": [
    {
     "name": "stdout",
     "output_type": "stream",
     "text": [
      "[0.46547752 0.67677003 0.69762842 0.70485933 0.72499045 0.72527887\n",
      " 0.74071851 0.75944609 0.75999232 0.76335681 0.76356688 0.76854498\n",
      " 0.77082538 0.77462553 0.77762521 0.77875116 0.77881302 0.77947286\n",
      " 0.78178211 0.78178211]\n"
     ]
    }
   ],
   "source": [
    "b=search(vectorizer,e,bow)"
   ]
  },
  {
   "cell_type": "code",
   "execution_count": 63,
   "metadata": {},
   "outputs": [
    {
     "name": "stdout",
     "output_type": "stream",
     "text": [
      "How long did Bhishma live, after He fell asleep in the arrow in Mahabharata?\n",
      "What did Bhishma do when he was on the bed of arrows?\n",
      "For what and why Bhishma took pratigna (oath) in Mahabharata\n",
      "Which warrior can be considered the reason for the death of Bhishma?\n",
      "If Mahabharata happened after Ramayana where were the descendants of Rama during Mahabharata?\n",
      "How were all the arrows removed from Bhishmaâs body, before the last rites (Antima Sanskara) were performed?\n",
      "Age difference between Bhishma & Abhimanyu\n",
      "The Karmic reason why Grandsire Bhishma had to spend the final days of his life on a Bed of Arrows\n",
      "What were the ages of Pandavas & other characters during the Mahabharata war?\n",
      "How could Lord Krishna kill Bhishma even if he wanted to?\n",
      "Metre(s) in Mahabharata\n",
      "What is the story of Indra going to Nara-Narayana Rishis for aid, as mentioned in Mahabharata?\n",
      "Why was oath so important for Bhishma Pitamaha?\n",
      "How did the Ramayana and Mahabharata wars officially end?\n",
      "Are there any hidden Vedantic or any other philosophical teachings in the stories of Mahabharata?\n",
      "Exact lyrics and meaning of the eulogy to Bhishma in Mahabharata\n",
      "Beliefs on the chronology of Mahabharata\n",
      "I live in North America - how can I live a pious life?\n",
      "Who shot the first arrows to start the battles of the Ramayana and Mahabharata?\n",
      "Why did Bhishma fight with Lord Parashurama?\n"
     ]
    }
   ],
   "source": [
    "for i in b:\n",
    "    print(Questions['_Title'][i])"
   ]
  },
  {
   "cell_type": "code",
   "execution_count": 64,
   "metadata": {},
   "outputs": [
    {
     "name": "stdout",
     "output_type": "stream",
     "text": [
      "[0.36769982 0.62649061 0.71022564 0.72916926 0.7544479  0.7591068\n",
      " 0.75950288 0.76408587 0.76914849 0.77900344 0.78284534 0.78895972\n",
      " 0.79308436 0.79866017 0.79923432 0.80266044 0.80367822 0.80474269\n",
      " 0.81305066 0.81525651]\n"
     ]
    }
   ],
   "source": [
    "t=search(tfidf_vectorizer,e,tfidf)"
   ]
  },
  {
   "cell_type": "code",
   "execution_count": 65,
   "metadata": {},
   "outputs": [
    {
     "name": "stdout",
     "output_type": "stream",
     "text": [
      "How long did Bhishma live, after He fell asleep in the arrow in Mahabharata?\n",
      "What did Bhishma do when he was on the bed of arrows?\n",
      "Which warrior can be considered the reason for the death of Bhishma?\n",
      "How were all the arrows removed from Bhishmaâs body, before the last rites (Antima Sanskara) were performed?\n",
      "Who shot the first arrows to start the battles of the Ramayana and Mahabharata?\n",
      "Is there any story behind Lord Krishna's death?\n",
      "How could Lord Krishna kill Bhishma even if he wanted to?\n",
      "Age difference between Bhishma & Abhimanyu\n",
      "Does Bhishma know past, present and future?\n",
      "Why did Lord Krishna attack Bhishma?\n",
      "The Karmic reason why Grandsire Bhishma had to spend the final days of his life on a Bed of Arrows\n",
      "What led Bhishma Pitamah to arrow bed in Mahabharat battle?\n",
      "Why did Bhishma fight with Lord Parashurama?\n",
      "Was Karna in the Bhishma parva?\n",
      "Krishna Rushing at Bhishma With a Chariot Wheel\n",
      "What is the story of Indra going to Nara-Narayana Rishis for aid, as mentioned in Mahabharata?\n",
      "Why was oath so important for Bhishma Pitamaha?\n",
      "Why Bhishma had to suffer the most in MahaBharat war?\n",
      "What are the details of the illustrious Bhishma's birth as the son of King Shantanu and Ganga?\n",
      "I live in North America - how can I live a pious life?\n"
     ]
    }
   ],
   "source": [
    "for i in t:\n",
    "    print(Questions['_Title'][i])"
   ]
  },
  {
   "cell_type": "code",
   "execution_count": null,
   "metadata": {},
   "outputs": [],
   "source": []
  },
  {
   "cell_type": "code",
   "execution_count": 66,
   "metadata": {},
   "outputs": [],
   "source": [
    "# for i in li:\n",
    "#     print(Questions['_Title'][i])"
   ]
  },
  {
   "cell_type": "code",
   "execution_count": 298,
   "metadata": {},
   "outputs": [],
   "source": [
    "# Reading glove vectors in python: https://stackoverflow.com/a/38230349/4084039\n",
    "def loadGloveModel(gloveFile):\n",
    "    print (\"Loading Glove Model\")\n",
    "    f = open(gloveFile,'r',encoding=\"utf8\")\n",
    "    model = {}\n",
    "    for line in f: #tqdm\n",
    "        splitLine = line.split()\n",
    "        word = splitLine[0]\n",
    "        embedding = np.array([float(val) for val in splitLine[1:]])\n",
    "        model[word] = embedding\n",
    "    print (\"Done.\",len(model),\" words loaded!\")\n",
    "    return model\n"
   ]
  },
  {
   "cell_type": "code",
   "execution_count": 299,
   "metadata": {},
   "outputs": [
    {
     "name": "stdout",
     "output_type": "stream",
     "text": [
      "Loading Glove Model\n",
      "Done. 1917495  words loaded!\n"
     ]
    }
   ],
   "source": [
    "# model = loadGloveModel('glove.42B.300d.txt')"
   ]
  },
  {
   "cell_type": "code",
   "execution_count": 303,
   "metadata": {},
   "outputs": [
    {
     "name": "stdout",
     "output_type": "stream",
     "text": [
      "All the words in the corpus 1283092\n"
     ]
    }
   ],
   "source": [
    "# words_title = [] \n",
    "# for i in Questions['clean_Title_Body'] :\n",
    "#     words_title.extend(i.split(' '))\n",
    "# print(\"All the words in the corpus\", len(words_title))\n"
   ]
  },
  {
   "cell_type": "code",
   "execution_count": 304,
   "metadata": {},
   "outputs": [
    {
     "name": "stdout",
     "output_type": "stream",
     "text": [
      "the unique words in the corpus 54660\n"
     ]
    }
   ],
   "source": [
    "# ## Find the unique words in this set of words\n",
    "# words_title = set(words_title)\n",
    "# print(\"the unique words in the corpus\", len(words_title))"
   ]
  },
  {
   "cell_type": "code",
   "execution_count": 305,
   "metadata": {},
   "outputs": [
    {
     "name": "stdout",
     "output_type": "stream",
     "text": [
      "The number of words that are present in both glove vectors and our corpus are 37911 which is nearly 69.0% \n"
     ]
    }
   ],
   "source": [
    "## Find the words present in both Glove Vectors as well as our corpus.\n",
    "# inter_words = set(model.keys()).intersection(words_title)\n",
    "# print(\"The number of words that are present in both glove vectors and our corpus are {} which is nearly {}% \".format(len(inter_words), np.round((float(len(inter_words))/len(words_title))*100)))\n"
   ]
  },
  {
   "cell_type": "code",
   "execution_count": 306,
   "metadata": {},
   "outputs": [],
   "source": [
    "# model['harsha']"
   ]
  },
  {
   "cell_type": "code",
   "execution_count": 307,
   "metadata": {},
   "outputs": [
    {
     "name": "stdout",
     "output_type": "stream",
     "text": [
      "word 2 vec length 37911\n"
     ]
    }
   ],
   "source": [
    "# words_corpus = {}\n",
    "# words_glove = set(model.keys())\n",
    "# for i in words_title:\n",
    "#     if i in words_glove:\n",
    "#         words_corpus[i] = model[i]\n",
    "# print(\"word 2 vec length\", len(words_corpus))\n"
   ]
  },
  {
   "cell_type": "code",
   "execution_count": 308,
   "metadata": {},
   "outputs": [],
   "source": [
    "# stronging variables into pickle files python: http://www.jessicayung.com/howto-use-pickle-to-save-and-load-variables-in-python/\n",
    "# import pickle\n",
    "# with open('glove_vectors', 'wb') as f:\n",
    "#     pickle.dump(words_corpus, f)"
   ]
  },
  {
   "cell_type": "code",
   "execution_count": null,
   "metadata": {},
   "outputs": [],
   "source": [
    "\n"
   ]
  },
  {
   "cell_type": "code",
   "execution_count": 68,
   "metadata": {},
   "outputs": [],
   "source": [
    "# stronging variables into pickle files python: http://www.jessicayung.com/howto-use-pickle-to-save-and-load-variables-in-python/\n",
    "# make sure you have the glove_vectors file\n",
    "with open('glove_vectors', 'rb') as f:\n",
    "    model = pickle.load(f)\n",
    "    glove_words = set(model.keys())\n"
   ]
  },
  {
   "cell_type": "code",
   "execution_count": 69,
   "metadata": {},
   "outputs": [
    {
     "name": "stdout",
     "output_type": "stream",
     "text": [
      "19386\n",
      "300\n"
     ]
    }
   ],
   "source": [
    "avg_w2v_vectors = [];\n",
    "for sentence in Questions['clean_Title_Body']: # for each review/sentence\n",
    "    vector = np.zeros(300) # as word vectors are of zero length\n",
    "    cnt_words =0; # num of words with a valid vector in the sentence/review\n",
    "    for word in sentence.split(): # for each word in a review/sentence\n",
    "        if word in glove_words:\n",
    "            vector += model[word]\n",
    "            cnt_words += 1\n",
    "    if cnt_words != 0:\n",
    "        vector /= cnt_words\n",
    "    avg_w2v_vectors.append(vector)\n",
    "print(len(avg_w2v_vectors))\n",
    "print(len(avg_w2v_vectors[0]))\n"
   ]
  },
  {
   "cell_type": "code",
   "execution_count": 70,
   "metadata": {},
   "outputs": [],
   "source": [
    "# a=search(vectorizer,e,bow)\n",
    "# for i in b:\n",
    "#     print(Questions['_Title'][i])"
   ]
  },
  {
   "cell_type": "code",
   "execution_count": null,
   "metadata": {},
   "outputs": [],
   "source": []
  },
  {
   "cell_type": "code",
   "execution_count": 71,
   "metadata": {},
   "outputs": [],
   "source": [
    "from sklearn.metrics import pairwise_distances\n",
    "import numpy as np\n",
    "def semantic_search(query, corpus):\n",
    "#     query = process_query(query)\n",
    "    #query_trans = vectorizer.transform(query)\n",
    "    vector = [np.zeros(300)] # as word vectors are of zero length\n",
    "    cnt_words =0;\n",
    "    for word in query.split(): # for each word in a review/sentence\n",
    "        if word in glove_words:\n",
    "            vector[0] += model[word]\n",
    "            cnt_words += 1\n",
    "    if cnt_words != 0:\n",
    "        vector[0] /= cnt_words\n",
    "#         print(vector)\n",
    "    pairwise_dist = pairwise_distances(corpus, vector, metric='cosine')\n",
    "    \n",
    "    indices = np.argsort(pairwise_dist.flatten())[0:20]\n",
    "    pdists = np.sort(pairwise_dist.flatten())[0:20]\n",
    "    print(pdists)\n",
    "    df_indices = list(Questions.index[indices])\n",
    "    return df_indices"
   ]
  },
  {
   "cell_type": "code",
   "execution_count": 72,
   "metadata": {},
   "outputs": [
    {
     "name": "stdout",
     "output_type": "stream",
     "text": [
      "class:  ndarray\n",
      "shape:  (19386, 300)\n",
      "strides:  (2400, 8)\n",
      "itemsize:  8\n",
      "aligned:  True\n",
      "contiguous:  True\n",
      "fortran:  False\n",
      "data pointer: 0x25b6b0fe040\n",
      "byteorder:  little\n",
      "byteswap:  False\n",
      "type: float64\n"
     ]
    },
    {
     "data": {
      "text/plain": [
       "2"
      ]
     },
     "execution_count": 72,
     "metadata": {},
     "output_type": "execute_result"
    }
   ],
   "source": [
    "import numpy as np\n",
    "dim=np.array(avg_w2v_vectors)\n",
    "np.info(dim)\n",
    "dim.ndim"
   ]
  },
  {
   "cell_type": "code",
   "execution_count": 73,
   "metadata": {},
   "outputs": [
    {
     "data": {
      "text/plain": [
       "1"
      ]
     },
     "execution_count": 73,
     "metadata": {},
     "output_type": "execute_result"
    }
   ],
   "source": [
    "t=[1,2,3]\n",
    "np.array(t).ndim"
   ]
  },
  {
   "cell_type": "code",
   "execution_count": 74,
   "metadata": {},
   "outputs": [
    {
     "name": "stdout",
     "output_type": "stream",
     "text": [
      "[0.15532816 0.17308016 0.18222252 0.1835641  0.18425158 0.18536349\n",
      " 0.18578695 0.18585041 0.18662915 0.18973381 0.18994025 0.19166554\n",
      " 0.19183833 0.1922952  0.19257324 0.19271781 0.19286211 0.19321232\n",
      " 0.19343099 0.19343924]\n"
     ]
    }
   ],
   "source": [
    "a=semantic_search(\"How long did Bhishma live, after He fell asleep in the arrow in Mahabharata?\",np.array(avg_w2v_vectors))"
   ]
  },
  {
   "cell_type": "code",
   "execution_count": 75,
   "metadata": {},
   "outputs": [
    {
     "name": "stdout",
     "output_type": "stream",
     "text": [
      "How long did Bhishma live, after He fell asleep in the arrow in Mahabharata?\n",
      "What did Bhishma do when he was on the bed of arrows?\n",
      "What does a lizard crawling up from left foot and climb down from the same foot(man) on thursday night around 10 pm signify?\n",
      "Re: Touching your toes (not mentioned in 30)\n",
      "How to correct bad sleep posture\n",
      "Weakness in shoulder a few days after archery. Why did I get weaker why?\n",
      "How should the shoulder blades move when swimming breast stroke?\n",
      "What can I do to strengthen my hand?\n",
      "How to sleep while sore\n",
      "Why did my legs give way?\n",
      "I can't stop sleeping?\n",
      "How long someone can stay awake?\n",
      "Is it really King Chitrabhanu of Ikshvaku race that's mentioned in the legend of Maha Shivaratri?\n",
      "Why can't I extend forearm after working out?\n",
      "How were all the arrows removed from Bhishmaâs body, before the last rites (Antima Sanskara) were performed?\n",
      "Does proper incline bench form require pinched shoulder blades?\n",
      "How do I exercise on the plane?\n",
      "One side stronger than the other in pull-ups\n",
      "Felt dizziness half an hour after running for 7 minutes\n",
      "How do I sit properly and why?\n"
     ]
    }
   ],
   "source": [
    "for i in a:\n",
    "    print(Questions['_Title'][i])"
   ]
  },
  {
   "cell_type": "code",
   "execution_count": null,
   "metadata": {},
   "outputs": [],
   "source": []
  },
  {
   "cell_type": "code",
   "execution_count": 76,
   "metadata": {},
   "outputs": [],
   "source": [
    "# S = [\"abc def pqr\", \"def def def abc\", \"pqr pqr def\"]\n",
    "tfidf_model = TfidfVectorizer()\n",
    "tfidf_model.fit(Questions['clean_Title_Body'])\n",
    "# we are converting a dictionary with word as a key, and the idf as a value\n",
    "dictionary = dict(zip(tfidf_model.get_feature_names(), list(tfidf_model.idf_)))\n",
    "tfidf_words = set(tfidf_model.get_feature_names())\n"
   ]
  },
  {
   "cell_type": "code",
   "execution_count": 77,
   "metadata": {},
   "outputs": [
    {
     "name": "stdout",
     "output_type": "stream",
     "text": [
      "19386\n",
      "300\n"
     ]
    }
   ],
   "source": [
    "# average Word2Vec\n",
    "# compute average word2vec for each review.\n",
    "tfidf_w2v_vectors = []; # the avg-w2v for each sentence/review is stored in this list\n",
    "for sentence in Questions['clean_Title_Body']: # for each review/sentence\n",
    "    vector = np.zeros(300) # as word vectors are of zero length\n",
    "    tf_idf_weight =0; # num of words with a valid vector in the sentence/review\n",
    "    for word in sentence.split(): # for each word in a review/sentence\n",
    "        if (word in glove_words) and (word in tfidf_words):\n",
    "            vec = model[word] # getting the vector for each word\n",
    "            # here we are multiplying idf value(dictionary[word]) and the tf value((sentence.count(word)/len(sentence.split())))\n",
    "            tf_idf = dictionary[word]*(sentence.count(word)/len(sentence.split())) # getting the tfidf value for each word\n",
    "            vector += (vec * tf_idf) # calculating tfidf weighted w2v\n",
    "            tf_idf_weight += tf_idf\n",
    "    if tf_idf_weight != 0:\n",
    "        vector /= tf_idf_weight\n",
    "    tfidf_w2v_vectors.append(vector)\n",
    "print(len(tfidf_w2v_vectors))\n",
    "print(len(tfidf_w2v_vectors[0]))\n"
   ]
  },
  {
   "cell_type": "code",
   "execution_count": 78,
   "metadata": {},
   "outputs": [],
   "source": [
    "from sklearn.metrics import pairwise_distances\n",
    "import numpy as np\n",
    "def semantic_search_tfidf_w2v(query, corpus):\n",
    "    pairwise_dist = pairwise_distances(corpus, query, metric='cosine')\n",
    "    \n",
    "    indices = np.argsort(pairwise_dist.flatten())[0:20]\n",
    "    pdists = np.sort(pairwise_dist.flatten())[0:20]\n",
    "    print(pdists)\n",
    "    df_indices = list(Questions.index[indices])\n",
    "    return df_indices"
   ]
  },
  {
   "cell_type": "code",
   "execution_count": null,
   "metadata": {},
   "outputs": [],
   "source": []
  },
  {
   "cell_type": "code",
   "execution_count": 79,
   "metadata": {},
   "outputs": [],
   "source": [
    "# import numpy as np\n",
    "# dim=np.array(tfidf_w2v_vectors)\n",
    "# np.info(dim)\n",
    "# dim.ndim"
   ]
  },
  {
   "cell_type": "code",
   "execution_count": 80,
   "metadata": {},
   "outputs": [
    {
     "data": {
      "text/plain": [
       "2"
      ]
     },
     "execution_count": 80,
     "metadata": {},
     "output_type": "execute_result"
    }
   ],
   "source": [
    "e[0].count('in')"
   ]
  },
  {
   "cell_type": "code",
   "execution_count": 103,
   "metadata": {},
   "outputs": [],
   "source": [
    "test_e = []\n",
    "for titles in e:\n",
    "    title = decontracted(titles)\n",
    "    title = title.replace('\\\\r', ' ')\n",
    "    title = title.replace('\\\\\"', ' ')\n",
    "    title = title.replace('\\\\n', ' ')\n",
    "    title = re.sub('[^A-Za-z0-9]+', ' ', title)\n",
    "    title = ' '.join(f for f in title.split() if f not in stopwords)\n",
    "    test_e.append(title.lower().strip())"
   ]
  },
  {
   "cell_type": "code",
   "execution_count": 104,
   "metadata": {},
   "outputs": [],
   "source": [
    "vector = np.zeros(300) # as word vectors are of zero length\n",
    "tf_idf_weight =0; # num of words with a valid vector in the sentence/review\n",
    "for word in test_e[0].split(): # for each word in a review/sentence\n",
    "    if (word in glove_words) and (word in tfidf_words):\n",
    "        vec = model[word] # getting the vector for each word\n",
    "        # here we are multiplying idf value(dictionary[word]) and the tf value((sentence.count(word)/len(sentence.split())))\n",
    "        tf_idf = dictionary[word]*(test_e[0].count(word)/len(test_e[0].split())) # getting the tfidf value for each word\n",
    "        vector += (vec * tf_idf) # calculating tfidf weighted w2v\n",
    "        tf_idf_weight += tf_idf\n",
    "if tf_idf_weight != 0:\n",
    "    vector /= tf_idf_weight\n",
    "test_tfidf_w2v_vector=vector"
   ]
  },
  {
   "cell_type": "code",
   "execution_count": 105,
   "metadata": {},
   "outputs": [
    {
     "data": {
      "text/plain": [
       "2"
      ]
     },
     "execution_count": 105,
     "metadata": {},
     "output_type": "execute_result"
    }
   ],
   "source": [
    "np.array([test_tfidf_w2v_vector]).ndim"
   ]
  },
  {
   "cell_type": "code",
   "execution_count": 106,
   "metadata": {},
   "outputs": [
    {
     "name": "stdout",
     "output_type": "stream",
     "text": [
      "[0.12619368 0.15104468 0.16203719 0.16266526 0.16950548 0.19386726\n",
      " 0.20450403 0.21546961 0.22113515 0.22821515 0.22976909 0.23153177\n",
      " 0.23435725 0.2345988  0.23579599 0.23881478 0.23909268 0.23915926\n",
      " 0.23932648 0.23978511]\n"
     ]
    }
   ],
   "source": [
    "tw=semantic_search_tfidf_w2v(np.array([test_tfidf_w2v_vector]),np.array(tfidf_w2v_vectors))"
   ]
  },
  {
   "cell_type": "code",
   "execution_count": 85,
   "metadata": {},
   "outputs": [
    {
     "name": "stdout",
     "output_type": "stream",
     "text": [
      "How long did Bhishma live, after He fell asleep in the arrow in Mahabharata?\n",
      "How to sleep while sore\n",
      "How can I make myself get enough sleep?\n",
      "Trouble falling asleep after a workout at night\n",
      "I can't stop sleeping?\n",
      "How long someone can stay awake?\n",
      "Was Hanuman ever shot in the leg by an arrow?\n",
      "I pulled my toddler in a wagon almost all day yesterday\n",
      "How do I deal with episodic insomnia during puberty\n",
      "What did Bhishma do when he was on the bed of arrows?\n",
      "Weakness in shoulder a few days after archery. Why did I get weaker why?\n",
      "The strongest warrior of all time in the time of Mahabharatha\n",
      "How to correct bad sleep posture\n",
      "Felt dizziness half an hour after running for 7 minutes\n",
      "When I wake up after a two hour nap I feel like I was hit by a truck.\n",
      "What is a \"suitcase\" fall?\n",
      "Why did my legs give way?\n",
      "How to train arms for being the head in lion dancing?\n",
      "Is standing for long hours harmful to your knees and feet?\n",
      "What can I do to strengthen my hand?\n"
     ]
    }
   ],
   "source": [
    "for i in tw:\n",
    "    print(Questions['_Title'][i])"
   ]
  },
  {
   "cell_type": "code",
   "execution_count": 107,
   "metadata": {},
   "outputs": [
    {
     "name": "stdout",
     "output_type": "stream",
     "text": [
      "How long did Bhishma live, after He fell asleep in the arrow in Mahabharata?\n",
      "What did Bhishma do when he was on the bed of arrows?\n",
      "What led Bhishma Pitamah to arrow bed in Mahabharat battle?\n",
      "The Karmic reason why Grandsire Bhishma had to spend the final days of his life on a Bed of Arrows\n",
      "How were all the arrows removed from Bhishmaâs body, before the last rites (Antima Sanskara) were performed?\n",
      "The strongest warrior of all time in the time of Mahabharatha\n",
      "Is the notion of Bhishma preferring Arjuna's bed of arrows to pillows brought in by Duryodhana authentic?\n",
      "Was Hanuman ever shot in the leg by an arrow?\n",
      "Is it really King Chitrabhanu of Ikshvaku race that's mentioned in the legend of Maha Shivaratri?\n",
      "Who shot the first arrows to start the battles of the Ramayana and Mahabharata?\n",
      "Did Krishna warn Bhishma not to interrupt any actions of Kauravas and Pandavas during the game of dice?\n",
      "Which king Janamejaya killed a Brahmin woman?\n",
      "In which chapter of the Mahabharatha the story of Bhisma giving five arrows to Duryodhana for killing the Pandavas is found?\n",
      "Why didn't Bhishma choose to end his own life?\n",
      "Why Bhishma had to suffer the most in MahaBharat war?\n",
      "How could Lord Krishna kill Bhishma even if he wanted to?\n",
      "Where did Duryodhana and the Pandavas go after their death?\n",
      "Does Shatapatha BrAhmaNa explicitly mention about leelas of Lord Vishnu?\n",
      "Krishna Draupadi conversation\n",
      "How did Satyavati die and how old was she at the time?\n"
     ]
    }
   ],
   "source": [
    "for i in tw:\n",
    "    print(Questions['_Title'][i])"
   ]
  },
  {
   "cell_type": "code",
   "execution_count": null,
   "metadata": {},
   "outputs": [],
   "source": []
  },
  {
   "cell_type": "code",
   "execution_count": null,
   "metadata": {},
   "outputs": [],
   "source": []
  },
  {
   "cell_type": "code",
   "execution_count": null,
   "metadata": {},
   "outputs": [],
   "source": []
  },
  {
   "cell_type": "code",
   "execution_count": null,
   "metadata": {},
   "outputs": [],
   "source": []
  },
  {
   "cell_type": "code",
   "execution_count": null,
   "metadata": {},
   "outputs": [],
   "source": []
  },
  {
   "cell_type": "code",
   "execution_count": null,
   "metadata": {},
   "outputs": [],
   "source": []
  },
  {
   "cell_type": "code",
   "execution_count": null,
   "metadata": {},
   "outputs": [],
   "source": []
  }
 ],
 "metadata": {
  "kernelspec": {
   "display_name": "Python 3",
   "language": "python",
   "name": "python3"
  },
  "language_info": {
   "codemirror_mode": {
    "name": "ipython",
    "version": 3
   },
   "file_extension": ".py",
   "mimetype": "text/x-python",
   "name": "python",
   "nbconvert_exporter": "python",
   "pygments_lexer": "ipython3",
   "version": "3.6.5"
  }
 },
 "nbformat": 4,
 "nbformat_minor": 2
}
