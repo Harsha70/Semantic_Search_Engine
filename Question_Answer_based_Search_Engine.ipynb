{
 "cells": [
  {
   "cell_type": "code",
   "execution_count": 1,
   "metadata": {
    "scrolled": true
   },
   "outputs": [
    {
     "name": "stdout",
     "output_type": "stream",
     "text": [
      "(20502, 13)\n",
      "(8463, 13)\n",
      "(28965, 13)\n"
     ]
    }
   ],
   "source": [
    "import pandas as pd\n",
    "df1=pd.read_csv(r'C:\\Users\\Abhishek\\Desktop\\CaseStudy1\\stack4\\datascience_Question_with_Ans.csv',encoding='latin1')\n",
    "df2=pd.read_csv(r'C:\\Users\\Abhishek\\Desktop\\CaseStudy1\\stack4\\Fitness_Question_with_Ans.csv')\n",
    "Questions=df1.append(df2)\n",
    "\n",
    "print(df1.shape)\n",
    "print(df2.shape)\n",
    "print(Questions.shape)"
   ]
  },
  {
   "cell_type": "code",
   "execution_count": 2,
   "metadata": {
    "collapsed": true
   },
   "outputs": [],
   "source": [
    "Questions.reset_index(inplace=True)"
   ]
  },
  {
   "cell_type": "markdown",
   "metadata": {},
   "source": [
    "### Data Preprocessing\n"
   ]
  },
  {
   "cell_type": "code",
   "execution_count": 3,
   "metadata": {},
   "outputs": [
    {
     "data": {
      "text/html": [
       "<div>\n",
       "<style scoped>\n",
       "    .dataframe tbody tr th:only-of-type {\n",
       "        vertical-align: middle;\n",
       "    }\n",
       "\n",
       "    .dataframe tbody tr th {\n",
       "        vertical-align: top;\n",
       "    }\n",
       "\n",
       "    .dataframe thead th {\n",
       "        text-align: right;\n",
       "    }\n",
       "</style>\n",
       "<table border=\"1\" class=\"dataframe\">\n",
       "  <thead>\n",
       "    <tr style=\"text-align: right;\">\n",
       "      <th></th>\n",
       "      <th>Unnamed: 0</th>\n",
       "      <th>index</th>\n",
       "      <th>_Id</th>\n",
       "      <th>_PostTypeId</th>\n",
       "      <th>_AcceptedAnswerId</th>\n",
       "      <th>_Score</th>\n",
       "      <th>_ViewCount</th>\n",
       "      <th>_Body</th>\n",
       "      <th>_Title</th>\n",
       "      <th>_Tags</th>\n",
       "      <th>_AnswerCount</th>\n",
       "      <th>Ans</th>\n",
       "      <th>Title+Body+Ans</th>\n",
       "    </tr>\n",
       "  </thead>\n",
       "  <tbody>\n",
       "    <tr>\n",
       "      <th>0</th>\n",
       "      <td>0</td>\n",
       "      <td>0</td>\n",
       "      <td>2.0</td>\n",
       "      <td>1.0</td>\n",
       "      <td>16.0</td>\n",
       "      <td>17.0</td>\n",
       "      <td>2222.0</td>\n",
       "      <td>&lt;p&gt;What's the difference? I'm looking at shake...</td>\n",
       "      <td>What's the difference between Whey Isolate and...</td>\n",
       "      <td>&lt;protein&gt;&lt;nutrition&gt;</td>\n",
       "      <td>1.0</td>\n",
       "      <td>&lt;p&gt;The main difference is in the \"purity\", how...</td>\n",
       "      <td>What's the difference between Whey Isolate and...</td>\n",
       "    </tr>\n",
       "    <tr>\n",
       "      <th>1</th>\n",
       "      <td>1</td>\n",
       "      <td>1</td>\n",
       "      <td>3.0</td>\n",
       "      <td>1.0</td>\n",
       "      <td>39.0</td>\n",
       "      <td>54.0</td>\n",
       "      <td>10243.0</td>\n",
       "      <td>&lt;p&gt;Provided that I'm not hungry, should I eat ...</td>\n",
       "      <td>Breakfast before or after jogging?</td>\n",
       "      <td>&lt;nutrition&gt;&lt;food&gt;&lt;jogging&gt;</td>\n",
       "      <td>9.0</td>\n",
       "      <td>&lt;p&gt;You should have at least some protein prior...</td>\n",
       "      <td>Breakfast before or after jogging? &lt;p&gt;Provided...</td>\n",
       "    </tr>\n",
       "  </tbody>\n",
       "</table>\n",
       "</div>"
      ],
      "text/plain": [
       "   Unnamed: 0  index  _Id  _PostTypeId  _AcceptedAnswerId  _Score  _ViewCount  \\\n",
       "0           0      0  2.0          1.0               16.0    17.0      2222.0   \n",
       "1           1      1  3.0          1.0               39.0    54.0     10243.0   \n",
       "\n",
       "                                               _Body  \\\n",
       "0  <p>What's the difference? I'm looking at shake...   \n",
       "1  <p>Provided that I'm not hungry, should I eat ...   \n",
       "\n",
       "                                              _Title  \\\n",
       "0  What's the difference between Whey Isolate and...   \n",
       "1                 Breakfast before or after jogging?   \n",
       "\n",
       "                        _Tags  _AnswerCount  \\\n",
       "0        <protein><nutrition>           1.0   \n",
       "1  <nutrition><food><jogging>           9.0   \n",
       "\n",
       "                                                 Ans  \\\n",
       "0  <p>The main difference is in the \"purity\", how...   \n",
       "1  <p>You should have at least some protein prior...   \n",
       "\n",
       "                                      Title+Body+Ans  \n",
       "0  What's the difference between Whey Isolate and...  \n",
       "1  Breakfast before or after jogging? <p>Provided...  "
      ]
     },
     "execution_count": 3,
     "metadata": {},
     "output_type": "execute_result"
    }
   ],
   "source": [
    "df2.head(2)"
   ]
  },
  {
   "cell_type": "code",
   "execution_count": 4,
   "metadata": {},
   "outputs": [
    {
     "data": {
      "text/html": [
       "<div>\n",
       "<style scoped>\n",
       "    .dataframe tbody tr th:only-of-type {\n",
       "        vertical-align: middle;\n",
       "    }\n",
       "\n",
       "    .dataframe tbody tr th {\n",
       "        vertical-align: top;\n",
       "    }\n",
       "\n",
       "    .dataframe thead th {\n",
       "        text-align: right;\n",
       "    }\n",
       "</style>\n",
       "<table border=\"1\" class=\"dataframe\">\n",
       "  <thead>\n",
       "    <tr style=\"text-align: right;\">\n",
       "      <th></th>\n",
       "      <th>Unnamed: 0</th>\n",
       "      <th>index</th>\n",
       "      <th>_Id</th>\n",
       "      <th>_PostTypeId</th>\n",
       "      <th>_AcceptedAnswerId</th>\n",
       "      <th>_Score</th>\n",
       "      <th>_ViewCount</th>\n",
       "      <th>_Body</th>\n",
       "      <th>_Title</th>\n",
       "      <th>_Tags</th>\n",
       "      <th>_AnswerCount</th>\n",
       "      <th>Ans</th>\n",
       "      <th>Title+Body+Ans</th>\n",
       "    </tr>\n",
       "  </thead>\n",
       "  <tbody>\n",
       "    <tr>\n",
       "      <th>0</th>\n",
       "      <td>0</td>\n",
       "      <td>0</td>\n",
       "      <td>5.0</td>\n",
       "      <td>1.0</td>\n",
       "      <td>NaN</td>\n",
       "      <td>8.0</td>\n",
       "      <td>643.0</td>\n",
       "      <td>&lt;p&gt;I've always been interested in machine lear...</td>\n",
       "      <td>How can I do simple machine learning without h...</td>\n",
       "      <td>&lt;machine-learning&gt;</td>\n",
       "      <td>1.0</td>\n",
       "      <td>&lt;p&gt;Not sure if this fits the scope of this SE,...</td>\n",
       "      <td>How can I do simple machine learning without h...</td>\n",
       "    </tr>\n",
       "    <tr>\n",
       "      <th>1</th>\n",
       "      <td>1</td>\n",
       "      <td>1</td>\n",
       "      <td>7.0</td>\n",
       "      <td>1.0</td>\n",
       "      <td>10.0</td>\n",
       "      <td>4.0</td>\n",
       "      <td>429.0</td>\n",
       "      <td>&lt;p&gt;As a researcher and instructor, I'm looking...</td>\n",
       "      <td>What open-source books (or other materials) pr...</td>\n",
       "      <td>&lt;education&gt;&lt;open-source&gt;</td>\n",
       "      <td>3.0</td>\n",
       "      <td>&lt;p&gt;One book that's freely available is \"The El...</td>\n",
       "      <td>What open-source books (or other materials) pr...</td>\n",
       "    </tr>\n",
       "  </tbody>\n",
       "</table>\n",
       "</div>"
      ],
      "text/plain": [
       "   Unnamed: 0  index  _Id  _PostTypeId  _AcceptedAnswerId  _Score  _ViewCount  \\\n",
       "0           0      0  5.0          1.0                NaN     8.0       643.0   \n",
       "1           1      1  7.0          1.0               10.0     4.0       429.0   \n",
       "\n",
       "                                               _Body  \\\n",
       "0  <p>I've always been interested in machine lear...   \n",
       "1  <p>As a researcher and instructor, I'm looking...   \n",
       "\n",
       "                                              _Title  \\\n",
       "0  How can I do simple machine learning without h...   \n",
       "1  What open-source books (or other materials) pr...   \n",
       "\n",
       "                      _Tags  _AnswerCount  \\\n",
       "0        <machine-learning>           1.0   \n",
       "1  <education><open-source>           3.0   \n",
       "\n",
       "                                                 Ans  \\\n",
       "0  <p>Not sure if this fits the scope of this SE,...   \n",
       "1  <p>One book that's freely available is \"The El...   \n",
       "\n",
       "                                      Title+Body+Ans  \n",
       "0  How can I do simple machine learning without h...  \n",
       "1  What open-source books (or other materials) pr...  "
      ]
     },
     "execution_count": 4,
     "metadata": {},
     "output_type": "execute_result"
    }
   ],
   "source": [
    "df1.head(2)"
   ]
  },
  {
   "cell_type": "code",
   "execution_count": 5,
   "metadata": {},
   "outputs": [
    {
     "data": {
      "text/html": [
       "<div>\n",
       "<style scoped>\n",
       "    .dataframe tbody tr th:only-of-type {\n",
       "        vertical-align: middle;\n",
       "    }\n",
       "\n",
       "    .dataframe tbody tr th {\n",
       "        vertical-align: top;\n",
       "    }\n",
       "\n",
       "    .dataframe thead th {\n",
       "        text-align: right;\n",
       "    }\n",
       "</style>\n",
       "<table border=\"1\" class=\"dataframe\">\n",
       "  <thead>\n",
       "    <tr style=\"text-align: right;\">\n",
       "      <th></th>\n",
       "      <th>level_0</th>\n",
       "      <th>Unnamed: 0</th>\n",
       "      <th>index</th>\n",
       "      <th>_Id</th>\n",
       "      <th>_PostTypeId</th>\n",
       "      <th>_AcceptedAnswerId</th>\n",
       "      <th>_Score</th>\n",
       "      <th>_ViewCount</th>\n",
       "      <th>_Body</th>\n",
       "      <th>_Title</th>\n",
       "      <th>_Tags</th>\n",
       "      <th>_AnswerCount</th>\n",
       "      <th>Ans</th>\n",
       "      <th>Title+Body+Ans</th>\n",
       "    </tr>\n",
       "  </thead>\n",
       "  <tbody>\n",
       "    <tr>\n",
       "      <th>0</th>\n",
       "      <td>0</td>\n",
       "      <td>0</td>\n",
       "      <td>0</td>\n",
       "      <td>5.0</td>\n",
       "      <td>1.0</td>\n",
       "      <td>NaN</td>\n",
       "      <td>8.0</td>\n",
       "      <td>643.0</td>\n",
       "      <td>&lt;p&gt;I've always been interested in machine lear...</td>\n",
       "      <td>How can I do simple machine learning without h...</td>\n",
       "      <td>&lt;machine-learning&gt;</td>\n",
       "      <td>1.0</td>\n",
       "      <td>&lt;p&gt;Not sure if this fits the scope of this SE,...</td>\n",
       "      <td>How can I do simple machine learning without h...</td>\n",
       "    </tr>\n",
       "    <tr>\n",
       "      <th>1</th>\n",
       "      <td>1</td>\n",
       "      <td>1</td>\n",
       "      <td>1</td>\n",
       "      <td>7.0</td>\n",
       "      <td>1.0</td>\n",
       "      <td>10.0</td>\n",
       "      <td>4.0</td>\n",
       "      <td>429.0</td>\n",
       "      <td>&lt;p&gt;As a researcher and instructor, I'm looking...</td>\n",
       "      <td>What open-source books (or other materials) pr...</td>\n",
       "      <td>&lt;education&gt;&lt;open-source&gt;</td>\n",
       "      <td>3.0</td>\n",
       "      <td>&lt;p&gt;One book that's freely available is \"The El...</td>\n",
       "      <td>What open-source books (or other materials) pr...</td>\n",
       "    </tr>\n",
       "  </tbody>\n",
       "</table>\n",
       "</div>"
      ],
      "text/plain": [
       "   level_0  Unnamed: 0  index  _Id  _PostTypeId  _AcceptedAnswerId  _Score  \\\n",
       "0        0           0      0  5.0          1.0                NaN     8.0   \n",
       "1        1           1      1  7.0          1.0               10.0     4.0   \n",
       "\n",
       "   _ViewCount                                              _Body  \\\n",
       "0       643.0  <p>I've always been interested in machine lear...   \n",
       "1       429.0  <p>As a researcher and instructor, I'm looking...   \n",
       "\n",
       "                                              _Title  \\\n",
       "0  How can I do simple machine learning without h...   \n",
       "1  What open-source books (or other materials) pr...   \n",
       "\n",
       "                      _Tags  _AnswerCount  \\\n",
       "0        <machine-learning>           1.0   \n",
       "1  <education><open-source>           3.0   \n",
       "\n",
       "                                                 Ans  \\\n",
       "0  <p>Not sure if this fits the scope of this SE,...   \n",
       "1  <p>One book that's freely available is \"The El...   \n",
       "\n",
       "                                      Title+Body+Ans  \n",
       "0  How can I do simple machine learning without h...  \n",
       "1  What open-source books (or other materials) pr...  "
      ]
     },
     "execution_count": 5,
     "metadata": {},
     "output_type": "execute_result"
    }
   ],
   "source": [
    "Questions.head(2)"
   ]
  },
  {
   "cell_type": "code",
   "execution_count": 9,
   "metadata": {
    "collapsed": true
   },
   "outputs": [],
   "source": [
    "# https://stackoverflow.com/questions/9662346/python-code-to-remove-html-tags-from-a-string\n",
    "\n",
    "def cleancode(question):\n",
    "    code = str(re.findall(r'<code>(.*?)</code>', question, flags=re.DOTALL))\n",
    "    # print(code)\n",
    "    # print(\"******************************\")\n",
    "    question=re.sub('<code>(.*?)</code>', '', question, flags=re.MULTILINE|re.DOTALL)\n",
    "    # print(question)\n",
    "    return question\n",
    "\n",
    "# it removes the html tags\n",
    "def cleanhtml(raw_html):\n",
    "    cleanr = re.compile('<.*?>') \n",
    "    cleantext = re.sub(cleanr, '', raw_html)\n",
    "    cleanr = re.compile('<.*?>|&([a-z0-9]+|#[0-9]{1,6}|#x[0-9a-f]{1,6});')\n",
    "    cleantext = re.sub(cleanr, '', cleantext)\n",
    "    return cleantext.lower()\n",
    "\n",
    "# it removes the urls \n",
    "def cleanurls(x):\n",
    "    result = re.sub(r\"http\\S+\", \"\", x)\n",
    "    return result\n",
    "\n",
    "from nltk.corpus import stopwords\n",
    "\n",
    "stopwords= ['i', 'me', 'my', 'myself', 'we', 'our', 'ours', 'ourselves', 'you',\n",
    "\"you're\", \"you've\",\"you'll\", \"you'd\", 'your', 'yours', 'yourself', 'yourselves', 'he',\n",
    "'him', 'his', 'himself', 'she', \"she's\", 'her', 'hers', 'herself', 'it', \"it's\", 'its', 'itself', 'they',\n",
    "'them', 'their','theirs', 'themselves', 'what', 'which', 'who', 'whom', 'this', 'that', \"that'll\", 'these', 'those',\n",
    "'am', 'is', 'are', 'was', 'were', 'be', 'been', 'being', 'have', 'has', 'had', 'having', 'do', 'does', \n",
    "'did', 'doing', 'a', 'an', 'the', 'and', 'but', 'if', 'or', 'because', 'as', 'until', 'while', 'of', \n",
    "'at', 'by', 'for', 'with', 'about', 'against', 'between', 'into','through', 'during', 'before', 'after',\n",
    "'above', 'below', 'to', 'from', 'up', 'down', 'in', 'out', 'on', 'off', 'over', 'under', 'again', 'further',\n",
    "'then', 'once', 'here', 'there', 'when', 'where', 'why', 'how', 'all', 'any', 'both', 'each', 'few', 'more',\n",
    "'most', 'other', 'some', 'such', 'only', 'own', 'same', 'so', 'than', 'too', 'very',\n",
    "            's', 't', 'can', 'will', 'just', 'don', \"don't\", 'should', \"should've\", 'now', 'd', 'll', 'm', 'o', 're',\n",
    "'ve', 'y', 'ain', 'aren', \"aren't\", 'couldn', \"couldn't\", 'didn',\"didn't\", 'doesn', \"doesn't\", 'hadn',\n",
    "\"hadn't\", 'hasn', \"hasn't\", 'haven', \"haven't\", 'isn', \"isn't\", 'ma', 'mightn', \"mightn't\", 'mustn',\n",
    "            \"mustn't\", 'needn', \"needn't\", 'shan', \"shan't\", 'shouldn', \"shouldn't\", 'wasn', \"wasn't\", 'weren', \"weren't\", \n",
    "'won', \"won't\", 'wouldn', \"wouldn't\"]\n",
    "\n",
    "def decontracted(phrase):\n",
    "    # specific\n",
    "    phrase = re.sub(r\"won't\", \"will not\", phrase)\n",
    "    phrase = re.sub(r\"can\\'t\", \"can not\", phrase)\n",
    "    # general\n",
    "    phrase = re.sub(r\"n\\'t\", \" not\", phrase)\n",
    "    phrase = re.sub(r\"\\'re\", \" are\", phrase)\n",
    "    phrase = re.sub(r\"\\'s\", \" is\", phrase)\n",
    "    phrase = re.sub(r\"\\'d\", \" would\", phrase)\n",
    "    phrase = re.sub(r\"\\'ll\", \" will\", phrase)\n",
    "    phrase = re.sub(r\"\\'t\", \" not\", phrase)\n",
    "    phrase = re.sub(r\"\\'ve\", \" have\", phrase)\n",
    "    phrase = re.sub(r\"\\'m\", \" am\", phrase)\n",
    "    return phrase\n",
    "\n",
    "\n",
    "def col_decontracted(col):\n",
    "    clean_Title_Body_Ans = []\n",
    "    for titles in Questions[col].values:\n",
    "        title = decontracted(titles)\n",
    "        title = title.replace('\\\\r', ' ')\n",
    "        title = title.replace('\\\\\"', ' ')\n",
    "        title = title.replace('\\\\n', ' ')\n",
    "        title = re.sub('[^A-Za-z0-9]+', ' ', title)\n",
    "        title = ' '.join(f for f in title.split() if f not in stopwords)\n",
    "        clean_Title_Body_Ans.append(title.lower().strip())\n",
    "    return clean_Title_Body_Ans\n",
    "\n"
   ]
  },
  {
   "cell_type": "code",
   "execution_count": 10,
   "metadata": {
    "collapsed": true
   },
   "outputs": [],
   "source": [
    "Questions['clean_Title_Body_Ans']=Questions['Title+Body+Ans'].apply(lambda x: cleanhtml(x))\n",
    "Questions['clean_Title_Body_Ans']=Questions['clean_Title_Body_Ans'].apply(lambda x: cleanurls(x))\n",
    "Questions['clean_Title_Body_Ans'] =col_decontracted(\"clean_Title_Body_Ans\")"
   ]
  },
  {
   "cell_type": "code",
   "execution_count": 11,
   "metadata": {
    "collapsed": true
   },
   "outputs": [],
   "source": [
    "Questions['clean_Title']=Questions['_Title'].apply(lambda x: cleanhtml(x))\n",
    "Questions['clean_Title']=Questions['clean_Title'].apply(lambda x: cleanurls(x))\n",
    "Questions['clean_Title'] =col_decontracted(\"clean_Title\")"
   ]
  },
  {
   "cell_type": "code",
   "execution_count": 12,
   "metadata": {
    "collapsed": true
   },
   "outputs": [],
   "source": [
    "Questions['~code_Body']=Questions['_Body'].apply(lambda x: cleancode(x))\n",
    "Questions['clean_Body']=Questions['~code_Body'].apply(lambda x: cleanhtml(x))\n",
    "# Questions['clean_Body']=Questions['_Body'].apply(lambda x: cleanhtml(x))\n",
    "Questions['clean_Body']=Questions['clean_Body'].apply(lambda x: cleanurls(x))\n",
    "Questions['clean_Body'] =col_decontracted(\"clean_Body\")"
   ]
  },
  {
   "cell_type": "code",
   "execution_count": 13,
   "metadata": {},
   "outputs": [
    {
     "data": {
      "text/html": [
       "<div>\n",
       "<style scoped>\n",
       "    .dataframe tbody tr th:only-of-type {\n",
       "        vertical-align: middle;\n",
       "    }\n",
       "\n",
       "    .dataframe tbody tr th {\n",
       "        vertical-align: top;\n",
       "    }\n",
       "\n",
       "    .dataframe thead th {\n",
       "        text-align: right;\n",
       "    }\n",
       "</style>\n",
       "<table border=\"1\" class=\"dataframe\">\n",
       "  <thead>\n",
       "    <tr style=\"text-align: right;\">\n",
       "      <th></th>\n",
       "      <th>level_0</th>\n",
       "      <th>Unnamed: 0</th>\n",
       "      <th>index</th>\n",
       "      <th>_Id</th>\n",
       "      <th>_PostTypeId</th>\n",
       "      <th>_AcceptedAnswerId</th>\n",
       "      <th>_Score</th>\n",
       "      <th>_ViewCount</th>\n",
       "      <th>_Body</th>\n",
       "      <th>_Title</th>\n",
       "      <th>_Tags</th>\n",
       "      <th>_AnswerCount</th>\n",
       "      <th>Ans</th>\n",
       "      <th>Title+Body+Ans</th>\n",
       "      <th>clean_Title_Body_Ans</th>\n",
       "      <th>clean_Title</th>\n",
       "      <th>~code_Body</th>\n",
       "      <th>clean_Body</th>\n",
       "    </tr>\n",
       "  </thead>\n",
       "  <tbody>\n",
       "    <tr>\n",
       "      <th>0</th>\n",
       "      <td>0</td>\n",
       "      <td>0</td>\n",
       "      <td>0</td>\n",
       "      <td>5.0</td>\n",
       "      <td>1.0</td>\n",
       "      <td>NaN</td>\n",
       "      <td>8.0</td>\n",
       "      <td>643.0</td>\n",
       "      <td>&lt;p&gt;I've always been interested in machine lear...</td>\n",
       "      <td>How can I do simple machine learning without h...</td>\n",
       "      <td>&lt;machine-learning&gt;</td>\n",
       "      <td>1.0</td>\n",
       "      <td>&lt;p&gt;Not sure if this fits the scope of this SE,...</td>\n",
       "      <td>How can I do simple machine learning without h...</td>\n",
       "      <td>simple machine learning without hard coding be...</td>\n",
       "      <td>simple machine learning without hard coding be...</td>\n",
       "      <td>&lt;p&gt;I've always been interested in machine lear...</td>\n",
       "      <td>always interested machine learning not figure ...</td>\n",
       "    </tr>\n",
       "    <tr>\n",
       "      <th>1</th>\n",
       "      <td>1</td>\n",
       "      <td>1</td>\n",
       "      <td>1</td>\n",
       "      <td>7.0</td>\n",
       "      <td>1.0</td>\n",
       "      <td>10.0</td>\n",
       "      <td>4.0</td>\n",
       "      <td>429.0</td>\n",
       "      <td>&lt;p&gt;As a researcher and instructor, I'm looking...</td>\n",
       "      <td>What open-source books (or other materials) pr...</td>\n",
       "      <td>&lt;education&gt;&lt;open-source&gt;</td>\n",
       "      <td>3.0</td>\n",
       "      <td>&lt;p&gt;One book that's freely available is \"The El...</td>\n",
       "      <td>What open-source books (or other materials) pr...</td>\n",
       "      <td>open source books materials provide relatively...</td>\n",
       "      <td>open source books materials provide relatively...</td>\n",
       "      <td>&lt;p&gt;As a researcher and instructor, I'm looking...</td>\n",
       "      <td>researcher instructor looking open source book...</td>\n",
       "    </tr>\n",
       "    <tr>\n",
       "      <th>2</th>\n",
       "      <td>2</td>\n",
       "      <td>2</td>\n",
       "      <td>4</td>\n",
       "      <td>14.0</td>\n",
       "      <td>1.0</td>\n",
       "      <td>29.0</td>\n",
       "      <td>22.0</td>\n",
       "      <td>1542.0</td>\n",
       "      <td>&lt;p&gt;I am sure data science as will be discussed...</td>\n",
       "      <td>Is Data Science the Same as Data Mining?</td>\n",
       "      <td>&lt;data-mining&gt;&lt;definitions&gt;</td>\n",
       "      <td>4.0</td>\n",
       "      <td>&lt;p&gt;&lt;a href=\"https://datascience.stackexchange....</td>\n",
       "      <td>Is Data Science the Same as Data Mining? &lt;p&gt;I ...</td>\n",
       "      <td>data science data mining sure data science dis...</td>\n",
       "      <td>data science data mining</td>\n",
       "      <td>&lt;p&gt;I am sure data science as will be discussed...</td>\n",
       "      <td>sure data science discussed forum several syno...</td>\n",
       "    </tr>\n",
       "    <tr>\n",
       "      <th>3</th>\n",
       "      <td>3</td>\n",
       "      <td>3</td>\n",
       "      <td>5</td>\n",
       "      <td>15.0</td>\n",
       "      <td>1.0</td>\n",
       "      <td>NaN</td>\n",
       "      <td>1.0</td>\n",
       "      <td>636.0</td>\n",
       "      <td>&lt;p&gt;In which situations would one system be pre...</td>\n",
       "      <td>What are the advantages and disadvantages of S...</td>\n",
       "      <td>&lt;databases&gt;</td>\n",
       "      <td>0.0</td>\n",
       "      <td>NaN</td>\n",
       "      <td>What are the advantages and disadvantages of S...</td>\n",
       "      <td>advantages disadvantages sql versus nosql data...</td>\n",
       "      <td>advantages disadvantages sql versus nosql data...</td>\n",
       "      <td>&lt;p&gt;In which situations would one system be pre...</td>\n",
       "      <td>situations would one system preferred relative...</td>\n",
       "    </tr>\n",
       "    <tr>\n",
       "      <th>4</th>\n",
       "      <td>4</td>\n",
       "      <td>4</td>\n",
       "      <td>6</td>\n",
       "      <td>16.0</td>\n",
       "      <td>1.0</td>\n",
       "      <td>46.0</td>\n",
       "      <td>16.0</td>\n",
       "      <td>350.0</td>\n",
       "      <td>&lt;p&gt;I use &lt;a href=\"http://www.csie.ntu.edu.tw/~...</td>\n",
       "      <td>Use liblinear on big data for semantic analysis</td>\n",
       "      <td>&lt;machine-learning&gt;&lt;bigdata&gt;&lt;libsvm&gt;</td>\n",
       "      <td>2.0</td>\n",
       "      <td>&lt;p&gt;Note that there is an early version of LIBL...</td>\n",
       "      <td>Use liblinear on big data for semantic analysi...</td>\n",
       "      <td>use liblinear big data semantic analysis use l...</td>\n",
       "      <td>use liblinear big data semantic analysis</td>\n",
       "      <td>&lt;p&gt;I use &lt;a href=\"http://www.csie.ntu.edu.tw/~...</td>\n",
       "      <td>use libsvm train data predict classification s...</td>\n",
       "    </tr>\n",
       "  </tbody>\n",
       "</table>\n",
       "</div>"
      ],
      "text/plain": [
       "   level_0  Unnamed: 0  index   _Id  _PostTypeId  _AcceptedAnswerId  _Score  \\\n",
       "0        0           0      0   5.0          1.0                NaN     8.0   \n",
       "1        1           1      1   7.0          1.0               10.0     4.0   \n",
       "2        2           2      4  14.0          1.0               29.0    22.0   \n",
       "3        3           3      5  15.0          1.0                NaN     1.0   \n",
       "4        4           4      6  16.0          1.0               46.0    16.0   \n",
       "\n",
       "   _ViewCount                                              _Body  \\\n",
       "0       643.0  <p>I've always been interested in machine lear...   \n",
       "1       429.0  <p>As a researcher and instructor, I'm looking...   \n",
       "2      1542.0  <p>I am sure data science as will be discussed...   \n",
       "3       636.0  <p>In which situations would one system be pre...   \n",
       "4       350.0  <p>I use <a href=\"http://www.csie.ntu.edu.tw/~...   \n",
       "\n",
       "                                              _Title  \\\n",
       "0  How can I do simple machine learning without h...   \n",
       "1  What open-source books (or other materials) pr...   \n",
       "2           Is Data Science the Same as Data Mining?   \n",
       "3  What are the advantages and disadvantages of S...   \n",
       "4    Use liblinear on big data for semantic analysis   \n",
       "\n",
       "                                 _Tags  _AnswerCount  \\\n",
       "0                   <machine-learning>           1.0   \n",
       "1             <education><open-source>           3.0   \n",
       "2           <data-mining><definitions>           4.0   \n",
       "3                          <databases>           0.0   \n",
       "4  <machine-learning><bigdata><libsvm>           2.0   \n",
       "\n",
       "                                                 Ans  \\\n",
       "0  <p>Not sure if this fits the scope of this SE,...   \n",
       "1  <p>One book that's freely available is \"The El...   \n",
       "2  <p><a href=\"https://datascience.stackexchange....   \n",
       "3                                                NaN   \n",
       "4  <p>Note that there is an early version of LIBL...   \n",
       "\n",
       "                                      Title+Body+Ans  \\\n",
       "0  How can I do simple machine learning without h...   \n",
       "1  What open-source books (or other materials) pr...   \n",
       "2  Is Data Science the Same as Data Mining? <p>I ...   \n",
       "3  What are the advantages and disadvantages of S...   \n",
       "4  Use liblinear on big data for semantic analysi...   \n",
       "\n",
       "                                clean_Title_Body_Ans  \\\n",
       "0  simple machine learning without hard coding be...   \n",
       "1  open source books materials provide relatively...   \n",
       "2  data science data mining sure data science dis...   \n",
       "3  advantages disadvantages sql versus nosql data...   \n",
       "4  use liblinear big data semantic analysis use l...   \n",
       "\n",
       "                                         clean_Title  \\\n",
       "0  simple machine learning without hard coding be...   \n",
       "1  open source books materials provide relatively...   \n",
       "2                           data science data mining   \n",
       "3  advantages disadvantages sql versus nosql data...   \n",
       "4           use liblinear big data semantic analysis   \n",
       "\n",
       "                                          ~code_Body  \\\n",
       "0  <p>I've always been interested in machine lear...   \n",
       "1  <p>As a researcher and instructor, I'm looking...   \n",
       "2  <p>I am sure data science as will be discussed...   \n",
       "3  <p>In which situations would one system be pre...   \n",
       "4  <p>I use <a href=\"http://www.csie.ntu.edu.tw/~...   \n",
       "\n",
       "                                          clean_Body  \n",
       "0  always interested machine learning not figure ...  \n",
       "1  researcher instructor looking open source book...  \n",
       "2  sure data science discussed forum several syno...  \n",
       "3  situations would one system preferred relative...  \n",
       "4  use libsvm train data predict classification s...  "
      ]
     },
     "execution_count": 13,
     "metadata": {},
     "output_type": "execute_result"
    }
   ],
   "source": [
    "Questions.head()"
   ]
  },
  {
   "cell_type": "code",
   "execution_count": 73,
   "metadata": {},
   "outputs": [
    {
     "data": {
      "text/plain": [
       "(28965, 45198)"
      ]
     },
     "execution_count": 73,
     "metadata": {},
     "output_type": "execute_result"
    }
   ],
   "source": [
    "from sklearn.feature_extraction.text import CountVectorizer\n",
    "vectorizer = CountVectorizer()\n",
    "bow = vectorizer.fit_transform(Questions['clean_Body'])\n",
    "bow.get_shape()"
   ]
  },
  {
   "cell_type": "code",
   "execution_count": 74,
   "metadata": {},
   "outputs": [
    {
     "data": {
      "text/plain": [
       "(28965, 45198)"
      ]
     },
     "execution_count": 74,
     "metadata": {},
     "output_type": "execute_result"
    }
   ],
   "source": [
    "from sklearn.feature_extraction.text import TfidfVectorizer\n",
    "\n",
    "\n",
    "tfidf_vectorizer = TfidfVectorizer(min_df = 0)\n",
    "tfidf = tfidf_vectorizer.fit_transform(Questions['clean_Body'])\n",
    "tfidf.get_shape()"
   ]
  },
  {
   "cell_type": "code",
   "execution_count": 75,
   "metadata": {
    "collapsed": true
   },
   "outputs": [],
   "source": [
    "from gensim.models import Word2Vec\n",
    "from gensim.models import KeyedVectors\n",
    "import pickle"
   ]
  },
  {
   "cell_type": "code",
   "execution_count": 76,
   "metadata": {
    "collapsed": true
   },
   "outputs": [],
   "source": [
    "# tfidf"
   ]
  },
  {
   "cell_type": "code",
   "execution_count": 77,
   "metadata": {
    "collapsed": true
   },
   "outputs": [],
   "source": [
    "# best way to learn deep learning\n",
    "# logistic regression\n",
    "# difference between random forest and decision tree\n",
    "# good exercises to improve the speed\n",
    "# what are the exercise helps for running"
   ]
  },
  {
   "cell_type": "code",
   "execution_count": 78,
   "metadata": {},
   "outputs": [
    {
     "name": "stdout",
     "output_type": "stream",
     "text": [
      "search a query: what are the exercise helps for running\n"
     ]
    }
   ],
   "source": [
    "# e=[\"How long did Bhishma live, after He fell asleep in the arrow in Mahabharata?\"]\n",
    "# vectorizer.transform(e)\n",
    "e=[]\n",
    "e.append(input(\"search a query: \"))\n"
   ]
  },
  {
   "cell_type": "code",
   "execution_count": 25,
   "metadata": {
    "collapsed": true
   },
   "outputs": [],
   "source": [
    "# def process_query(query):\n",
    "    "
   ]
  },
  {
   "cell_type": "code",
   "execution_count": 85,
   "metadata": {
    "collapsed": true
   },
   "outputs": [],
   "source": [
    "from sklearn.metrics import pairwise_distances\n",
    "import numpy as np\n",
    "def search(vectorizer, query, corpus):\n",
    "#     query = process_query(query)\n",
    "    query_trans = vectorizer.transform(query)\n",
    "    pairwise_dist = pairwise_distances(corpus, query_trans, metric='cosine')\n",
    "    \n",
    "    indices = np.argsort(pairwise_dist.flatten())[0:10]\n",
    "    pdists = np.sort(pairwise_dist.flatten())[0:10]\n",
    "    print(pdists)\n",
    "    df_indices = list(Questions.index[indices])\n",
    "    return df_indices"
   ]
  },
  {
   "cell_type": "code",
   "execution_count": 86,
   "metadata": {
    "collapsed": true
   },
   "outputs": [],
   "source": [
    "test_e = []\n",
    "for titles in e:\n",
    "    title = decontracted(titles)\n",
    "    title = title.replace('\\\\r', ' ')\n",
    "    title = title.replace('\\\\\"', ' ')\n",
    "    title = title.replace('\\\\n', ' ')\n",
    "    title = re.sub('[^A-Za-z0-9]+', ' ', title)\n",
    "    title = ' '.join(f for f in title.split() if f not in stopwords)\n",
    "    test_e.append(title.lower().strip())"
   ]
  },
  {
   "cell_type": "code",
   "execution_count": 87,
   "metadata": {},
   "outputs": [
    {
     "data": {
      "text/plain": [
       "['exercise helps running']"
      ]
     },
     "execution_count": 87,
     "metadata": {},
     "output_type": "execute_result"
    }
   ],
   "source": [
    "test_e"
   ]
  },
  {
   "cell_type": "code",
   "execution_count": 88,
   "metadata": {},
   "outputs": [
    {
     "name": "stdout",
     "output_type": "stream",
     "text": [
      "[0.46394373 0.51961554 0.51961554 0.52859548 0.5728789  0.60264029\n",
      " 0.61509982 0.61976545 0.6203368  0.63338221]\n"
     ]
    }
   ],
   "source": [
    "b=search(vectorizer,test_e,bow)"
   ]
  },
  {
   "cell_type": "code",
   "execution_count": 89,
   "metadata": {},
   "outputs": [
    {
     "name": "stdout",
     "output_type": "stream",
     "text": [
      "looking bodyweight exercise improving long distance running winter coming northern hemisphere still running outside sometimes weather really bad recommandation exercises helps improve running\n",
      "****************\n",
      "running daily morning routine want know best surface running helps fit\n",
      "****************\n",
      "stretching done exercise type exercise running weight training swimming affect answer\n",
      "****************\n",
      "need wear underwear skipping exercise running\n",
      "****************\n",
      "read site full workout consists pushing exercise pulling exercise legs exercise pushing exercise bench presses legs exercise weighted squats pulling exercise mainly concerned dead lift read somewhere first time felt like dead lift legs exercise appropriate exercise fill pull slot workout would pull exercise could use instead deadlift not meet pull criteria\n",
      "****************\n",
      "wall sit roman chair exercise designed strengthen quadriceps increase muscle mass however exercise consistently affect running e slow\n",
      "****************\n",
      "name exercise machine nunes using exercise punches\n",
      "****************\n",
      "people different opinions running jogging even walking somethings want cleared looked lot could not satisfy time days per week one go running respect evening workout schedule long much running effects knees long run need track specific like grass roadside exercise coordinated workout running silly one rather milk enough cope running extra supplements required prevent knee wearing tearing\n",
      "****************\n",
      "running knees hurting stop running still want lose weight start running mostly alternate running walking would 30 minutes not run anymore walk useful burning fat\n",
      "****************\n",
      "wondering speed walk much plenty endurance walk good paces long times anytime endure running lose breath instantly not speedwalking pressure heart running mean somewhat degree exercise makes heart pump blood increase oxygen need right running even running slower speed walking tire speedwalking\n",
      "****************\n"
     ]
    }
   ],
   "source": [
    "for i in b:\n",
    "    print(Questions['clean_Body'][i])\n",
    "    print('****************')"
   ]
  },
  {
   "cell_type": "code",
   "execution_count": null,
   "metadata": {
    "collapsed": true
   },
   "outputs": [],
   "source": []
  },
  {
   "cell_type": "code",
   "execution_count": 90,
   "metadata": {},
   "outputs": [
    {
     "name": "stdout",
     "output_type": "stream",
     "text": [
      "[0.51007206 0.60947432 0.64294467 0.69620326 0.73074331 0.73416813\n",
      " 0.73775948 0.74192226 0.74204403 0.75002686]\n"
     ]
    }
   ],
   "source": [
    "t=search(tfidf_vectorizer,e,tfidf)"
   ]
  },
  {
   "cell_type": "code",
   "execution_count": 92,
   "metadata": {},
   "outputs": [
    {
     "name": "stdout",
     "output_type": "stream",
     "text": [
      "running daily morning routine want know best surface running helps fit\n",
      "looking bodyweight exercise improving long distance running winter coming northern hemisphere still running outside sometimes weather really bad recommandation exercises helps improve running\n",
      "stretching done exercise type exercise running weight training swimming affect answer\n",
      "read site full workout consists pushing exercise pulling exercise legs exercise pushing exercise bench presses legs exercise weighted squats pulling exercise mainly concerned dead lift read somewhere first time felt like dead lift legs exercise appropriate exercise fill pull slot workout would pull exercise could use instead deadlift not meet pull criteria\n",
      "running knees hurting stop running still want lose weight start running mostly alternate running walking would 30 minutes not run anymore walk useful burning fat\n",
      "always heard people saying lifting heavier weights helps build muscle mass repetitions helps improve muscle definition no trouble understanding former one rationalize latter past used think repetitions helps burn away fat target area thereby making muscle looks define reading answers question seems common consensus no way target fat loss repetitions make muscle looks define myth\n",
      "relation eating not exercise rather times better worse others exercise day example better worse exercise morning morning eat wait eat exercise night better worse exercise go bed better worse supper maybe not clearest question hopefully someone understand asking basically day taking sleeping eating account preferable exercise not exercise\n",
      "important heard helps stabilize shoulderblades not get\n",
      "started running lately mainly build stamina play sports like soccer tennis etc far running cross trainers get 5km feet start hurt probably unfit not used running probably get friend recommended get proper running shoes think running shoes definitely better running good idea running get better something else would not feet get conditioned comfort cushioning running shoes play sports feet not used running without bear pain try condition feet run run actual real world environments\n",
      "would like start running someone told minimize belly running not trained asking far start running beginning thanks response\n"
     ]
    }
   ],
   "source": [
    "for i in t:\n",
    "    print(Questions['clean_Body'][i])"
   ]
  },
  {
   "cell_type": "code",
   "execution_count": null,
   "metadata": {
    "collapsed": true
   },
   "outputs": [],
   "source": []
  },
  {
   "cell_type": "code",
   "execution_count": 93,
   "metadata": {
    "collapsed": true
   },
   "outputs": [],
   "source": [
    "# for i in li:\n",
    "#     print(Questions['_Title'][i])"
   ]
  },
  {
   "cell_type": "code",
   "execution_count": 94,
   "metadata": {
    "collapsed": true
   },
   "outputs": [],
   "source": [
    "# Reading glove vectors in python: https://stackoverflow.com/a/38230349/4084039\n",
    "def loadGloveModel(gloveFile):\n",
    "    print (\"Loading Glove Model\")\n",
    "    f = open(gloveFile,'r',encoding=\"utf8\")\n",
    "    model = {}\n",
    "    for line in f: #tqdm\n",
    "        splitLine = line.split()\n",
    "        word = splitLine[0]\n",
    "        embedding = np.array([float(val) for val in splitLine[1:]])\n",
    "        model[word] = embedding\n",
    "    print (\"Done.\",len(model),\" words loaded!\")\n",
    "    return model\n"
   ]
  },
  {
   "cell_type": "code",
   "execution_count": 95,
   "metadata": {},
   "outputs": [
    {
     "name": "stdout",
     "output_type": "stream",
     "text": [
      "Loading Glove Model\n",
      "Done. 1917495  words loaded!\n"
     ]
    }
   ],
   "source": [
    "model = loadGloveModel('C:/Users/Abhishek/Desktop/CaseStudy1/glove.42B.300d.txt')"
   ]
  },
  {
   "cell_type": "code",
   "execution_count": 96,
   "metadata": {},
   "outputs": [
    {
     "name": "stdout",
     "output_type": "stream",
     "text": [
      "All the words in the corpus 1917528\n"
     ]
    }
   ],
   "source": [
    "words_title = [] \n",
    "for i in Questions['clean_Body'] :\n",
    "    words_title.extend(i.split(' '))\n",
    "print(\"All the words in the corpus\", len(words_title))\n"
   ]
  },
  {
   "cell_type": "code",
   "execution_count": 97,
   "metadata": {},
   "outputs": [
    {
     "name": "stdout",
     "output_type": "stream",
     "text": [
      "the unique words in the corpus 45227\n"
     ]
    }
   ],
   "source": [
    "## Find the unique words in this set of words\n",
    "words_title = set(words_title)\n",
    "print(\"the unique words in the corpus\", len(words_title))"
   ]
  },
  {
   "cell_type": "code",
   "execution_count": 98,
   "metadata": {},
   "outputs": [
    {
     "name": "stdout",
     "output_type": "stream",
     "text": [
      "The number of words that are present in both glove vectors and our corpus are 36970 which is nearly 82.0% \n"
     ]
    }
   ],
   "source": [
    "## Find the words present in both Glove Vectors as well as our corpus.\n",
    "inter_words = set(model.keys()).intersection(words_title)\n",
    "print(\"The number of words that are present in both glove vectors and our corpus are {} which is nearly {}% \".format(len(inter_words), np.round((float(len(inter_words))/len(words_title))*100)))\n"
   ]
  },
  {
   "cell_type": "code",
   "execution_count": 99,
   "metadata": {
    "collapsed": true
   },
   "outputs": [],
   "source": [
    "# model['harsha']"
   ]
  },
  {
   "cell_type": "code",
   "execution_count": 100,
   "metadata": {},
   "outputs": [
    {
     "name": "stdout",
     "output_type": "stream",
     "text": [
      "word 2 vec length 36970\n"
     ]
    }
   ],
   "source": [
    "words_corpus = {}\n",
    "words_glove = set(model.keys())\n",
    "for i in words_title:\n",
    "    if i in words_glove:\n",
    "        words_corpus[i] = model[i]\n",
    "print(\"word 2 vec length\", len(words_corpus))\n"
   ]
  },
  {
   "cell_type": "code",
   "execution_count": 101,
   "metadata": {
    "collapsed": true
   },
   "outputs": [],
   "source": [
    "# stronging variables into pickle files python: http://www.jessicayung.com/howto-use-pickle-to-save-and-load-variables-in-python/\n",
    "import pickle\n",
    "with open('glove_vectors1_dsf', 'wb') as f:\n",
    "    pickle.dump(words_corpus, f)"
   ]
  },
  {
   "cell_type": "code",
   "execution_count": null,
   "metadata": {
    "collapsed": true
   },
   "outputs": [],
   "source": []
  },
  {
   "cell_type": "code",
   "execution_count": 102,
   "metadata": {
    "collapsed": true
   },
   "outputs": [],
   "source": [
    "# stronging variables into pickle files python: http://www.jessicayung.com/howto-use-pickle-to-save-and-load-variables-in-python/\n",
    "# make sure you have the glove_vectors file\n",
    "with open('glove_vectors1_dsf', 'rb') as f:\n",
    "    model = pickle.load(f)\n",
    "    glove_words = set(model.keys())\n"
   ]
  },
  {
   "cell_type": "code",
   "execution_count": 103,
   "metadata": {},
   "outputs": [
    {
     "name": "stdout",
     "output_type": "stream",
     "text": [
      "28965\n",
      "300\n"
     ]
    }
   ],
   "source": [
    "avg_w2v_vectors = [];\n",
    "for sentence in Questions['clean_Body']: # for each review/sentence\n",
    "    vector = np.zeros(300) # as word vectors are of zero length\n",
    "    cnt_words =0; # num of words with a valid vector in the sentence/review\n",
    "    for word in sentence.split(): # for each word in a review/sentence\n",
    "        if word in glove_words:\n",
    "            vector += model[word]\n",
    "            cnt_words += 1\n",
    "    if cnt_words != 0:\n",
    "        vector /= cnt_words\n",
    "    avg_w2v_vectors.append(vector)\n",
    "print(len(avg_w2v_vectors))\n",
    "print(len(avg_w2v_vectors[0]))\n"
   ]
  },
  {
   "cell_type": "code",
   "execution_count": 104,
   "metadata": {
    "collapsed": true
   },
   "outputs": [],
   "source": [
    "# a=search(vectorizer,e,bow)\n",
    "# for i in b:\n",
    "#     print(Questions['_Title'][i])"
   ]
  },
  {
   "cell_type": "code",
   "execution_count": null,
   "metadata": {
    "collapsed": true
   },
   "outputs": [],
   "source": []
  },
  {
   "cell_type": "code",
   "execution_count": 105,
   "metadata": {
    "collapsed": true
   },
   "outputs": [],
   "source": [
    "from sklearn.metrics import pairwise_distances\n",
    "import numpy as np\n",
    "def semantic_search(query, corpus):\n",
    "#     query = process_query(query)\n",
    "    #query_trans = vectorizer.transform(query)\n",
    "    vector = [np.zeros(300)] # as word vectors are of zero length\n",
    "    cnt_words =0;\n",
    "    for word in query.split(): # for each word in a review/sentence\n",
    "        if word in glove_words:\n",
    "            vector[0] += model[word]\n",
    "            cnt_words += 1\n",
    "    if cnt_words != 0:\n",
    "        vector[0] /= cnt_words\n",
    "#         print(vector)\n",
    "    pairwise_dist = pairwise_distances(corpus, vector, metric='cosine')\n",
    "    \n",
    "    indices = np.argsort(pairwise_dist.flatten())[0:10]\n",
    "    pdists = np.sort(pairwise_dist.flatten())[0:10]\n",
    "    print(pdists)\n",
    "    df_indices = list(Questions.index[indices])\n",
    "    return df_indices"
   ]
  },
  {
   "cell_type": "code",
   "execution_count": 67,
   "metadata": {},
   "outputs": [
    {
     "name": "stdout",
     "output_type": "stream",
     "text": [
      "class:  ndarray\n",
      "shape:  (28965, 300)\n",
      "strides:  (2400, 8)\n",
      "itemsize:  8\n",
      "aligned:  True\n",
      "contiguous:  True\n",
      "fortran:  False\n",
      "data pointer: 0x238895b0040\n",
      "byteorder:  little\n",
      "byteswap:  False\n",
      "type: float64\n"
     ]
    },
    {
     "data": {
      "text/plain": [
       "2"
      ]
     },
     "execution_count": 67,
     "metadata": {},
     "output_type": "execute_result"
    }
   ],
   "source": [
    "import numpy as np\n",
    "dim=np.array(avg_w2v_vectors)\n",
    "np.info(dim)\n",
    "dim.ndim"
   ]
  },
  {
   "cell_type": "code",
   "execution_count": 68,
   "metadata": {},
   "outputs": [
    {
     "data": {
      "text/plain": [
       "1"
      ]
     },
     "execution_count": 68,
     "metadata": {},
     "output_type": "execute_result"
    }
   ],
   "source": [
    "t=[1,2,3]\n",
    "np.array(t).ndim"
   ]
  },
  {
   "cell_type": "code",
   "execution_count": 71,
   "metadata": {},
   "outputs": [
    {
     "name": "stdout",
     "output_type": "stream",
     "text": [
      "Enter a query: exercise helps for running\n",
      "[0.09710713 0.09888198 0.1064724  0.10867813 0.10984028 0.10999497\n",
      " 0.11024878 0.11026054 0.11034548 0.11097133 0.1113285  0.11187431\n",
      " 0.1121906  0.11236292 0.11239677 0.11301146 0.11302819 0.11319484\n",
      " 0.11396377 0.11431495]\n"
     ]
    }
   ],
   "source": [
    "a=semantic_search(input(\"Enter a query: \"),np.array(avg_w2v_vectors))"
   ]
  },
  {
   "cell_type": "code",
   "execution_count": 72,
   "metadata": {},
   "outputs": [
    {
     "name": "stdout",
     "output_type": "stream",
     "text": [
      "What are the exercises that increases Stamina and Endurance of the body?\n",
      "Is it useful for runners to cross-train using kettlebells?\n",
      "What are good geriatric exercise routines for a 70 year old?\n",
      "Will developing my leg muscles improve my running?\n",
      "What are exercise a kidney patient can do?\n",
      "What does road biking do to improve your running?\n",
      "Role of jogging/running in bodybuilding regime\n",
      "Does running reduce the muscle gained by gym workouts?\n",
      "What effect does restricted oxygen in cardio have on muscle damage & repair?\n",
      "5BX XBX or alternative daily \"busy people\" workout\n",
      "Can running for 20 minutes on your rest day prevent muscle growth?\n",
      "Is running good ?\n",
      "Does running a few miles daily makes you lose musculature?\n",
      "Good exercises to burn fat with bad knees?\n",
      "How much cardio for someone with an athletic build?\n",
      "What are some of the body weight workouts to do post run?\n",
      "Does running/biking suffice as a leg workout?\n",
      "Does working a diverse set of muscles increase metabolism?\n",
      "What are the best benefits of yoga (versus cardio and weight training)?\n",
      "What are the essentials to getting fit?\n"
     ]
    }
   ],
   "source": [
    "for i in a:\n",
    "    print(Questions['_'][i])"
   ]
  },
  {
   "cell_type": "code",
   "execution_count": null,
   "metadata": {
    "collapsed": true
   },
   "outputs": [],
   "source": []
  },
  {
   "cell_type": "code",
   "execution_count": 87,
   "metadata": {
    "collapsed": true
   },
   "outputs": [],
   "source": [
    "# S = [\"abc def pqr\", \"def def def abc\", \"pqr pqr def\"]\n",
    "tfidf_model = TfidfVectorizer()\n",
    "tfidf_model.fit(Questions['clean_Title_Body_Ans'])\n",
    "# we are converting a dictionary with word as a key, and the idf as a value\n",
    "dictionary = dict(zip(tfidf_model.get_feature_names(), list(tfidf_model.idf_)))\n",
    "tfidf_words = set(tfidf_model.get_feature_names())\n"
   ]
  },
  {
   "cell_type": "code",
   "execution_count": 88,
   "metadata": {},
   "outputs": [
    {
     "name": "stdout",
     "output_type": "stream",
     "text": [
      "19386\n",
      "300\n"
     ]
    }
   ],
   "source": [
    "# average Word2Vec\n",
    "# compute average word2vec for each review.\n",
    "tfidf_w2v_vectors = []; # the avg-w2v for each sentence/review is stored in this list\n",
    "for sentence in Questions['clean_Title_Body_Ans']: # for each review/sentence\n",
    "    vector = np.zeros(300) # as word vectors are of zero length\n",
    "    tf_idf_weight =0; # num of words with a valid vector in the sentence/review\n",
    "    for word in sentence.split(): # for each word in a review/sentence\n",
    "        if (word in glove_words) and (word in tfidf_words):\n",
    "            vec = model[word] # getting the vector for each word\n",
    "            # here we are multiplying idf value(dictionary[word]) and the tf value((sentence.count(word)/len(sentence.split())))\n",
    "            tf_idf = dictionary[word]*(sentence.count(word)/len(sentence.split())) # getting the tfidf value for each word\n",
    "            vector += (vec * tf_idf) # calculating tfidf weighted w2v\n",
    "            tf_idf_weight += tf_idf\n",
    "    if tf_idf_weight != 0:\n",
    "        vector /= tf_idf_weight\n",
    "    tfidf_w2v_vectors.append(vector)\n",
    "print(len(tfidf_w2v_vectors))\n",
    "print(len(tfidf_w2v_vectors[0]))\n"
   ]
  },
  {
   "cell_type": "code",
   "execution_count": 89,
   "metadata": {
    "collapsed": true
   },
   "outputs": [],
   "source": [
    "from sklearn.metrics import pairwise_distances\n",
    "import numpy as np\n",
    "def semantic_search_tfidf_w2v(query, corpus):\n",
    "    pairwise_dist = pairwise_distances(corpus, query, metric='cosine')\n",
    "    \n",
    "    indices = np.argsort(pairwise_dist.flatten())[0:20]\n",
    "    pdists = np.sort(pairwise_dist.flatten())[0:20]\n",
    "    print(pdists)\n",
    "    df_indices = list(Questions.index[indices])\n",
    "    return df_indices"
   ]
  },
  {
   "cell_type": "code",
   "execution_count": 108,
   "metadata": {
    "collapsed": true
   },
   "outputs": [],
   "source": [
    "vector = np.zeros(300) # as word vectors are of zero length\n",
    "tf_idf_weight =0; # num of words with a valid vector in the sentence/review\n",
    "for word in test_e[0].split(): # for each word in a review/sentence\n",
    "    if (word in glove_words) and (word in tfidf_words):\n",
    "        vec = model[word] # getting the vector for each word\n",
    "        # here we are multiplying idf value(dictionary[word]) and the tf value((sentence.count(word)/len(sentence.split())))\n",
    "        tf_idf = dictionary[word]*(test_e[0].count(word)/len(test_e[0].split())) # getting the tfidf value for each word\n",
    "        vector += (vec * tf_idf) # calculating tfidf weighted w2v\n",
    "        tf_idf_weight += tf_idf\n",
    "if tf_idf_weight != 0:\n",
    "    vector /= tf_idf_weight\n",
    "test_tfidf_w2v_vector=vector"
   ]
  },
  {
   "cell_type": "code",
   "execution_count": 110,
   "metadata": {
    "collapsed": true
   },
   "outputs": [],
   "source": [
    "# np.array([test_tfidf_w2v_vector]).ndim"
   ]
  },
  {
   "cell_type": "code",
   "execution_count": 111,
   "metadata": {},
   "outputs": [
    {
     "name": "stdout",
     "output_type": "stream",
     "text": [
      "[0.06862409 0.10045458 0.10127649 0.10240661 0.10283542 0.10547081\n",
      " 0.1054998  0.10559176 0.10624703 0.10696452 0.10707916 0.1085944\n",
      " 0.10864843 0.10878063 0.10895633 0.10921673 0.10950097 0.10953659\n",
      " 0.10962843 0.11006886]\n"
     ]
    }
   ],
   "source": [
    "tw=semantic_search_tfidf_w2v(np.array([test_tfidf_w2v_vector]),np.array(tfidf_w2v_vectors))"
   ]
  },
  {
   "cell_type": "code",
   "execution_count": 112,
   "metadata": {},
   "outputs": [
    {
     "name": "stdout",
     "output_type": "stream",
     "text": [
      "will cardio compromise mass if I'm in a caloric surplus?\n",
      "Should I include cardio?\n",
      "Building Lean Muscles\n",
      "is it possible to tone up even in starvation mode?\n",
      "Do I just have to forget about lifting weights?\n",
      "Workout routine on caloric deficit\n",
      "How to lose only belly fat in 2 weeks\n",
      "Can you do \"too much\" cardio for cutting body fat?\n",
      "Is it true that the body gets used to diet and exercise after a while and stops responding?\n",
      "How to stay fit with lowest possible calorie burn?\n",
      "How do I adjust diet to the exercise cycle\n",
      "How to reduce facial fat?\n",
      "Help coming up with a workout routine\n",
      "Increasing mass and retaining bodyfat percentage\n",
      "What's the necessity of cardio for fat burning?\n",
      "How to lose weight and be able to do mental work?\n",
      "What is the best way to lose weight playing Dance Dance Revolution?\n",
      "Strength training for health tips for an endomorph?\n",
      "Mixing Things Up When Losing Weight\n",
      "How many miles can I run without losing muscle mass?\n"
     ]
    }
   ],
   "source": [
    "for i in tw:\n",
    "    print(Questions['_Title'][i])"
   ]
  },
  {
   "cell_type": "code",
   "execution_count": 104,
   "metadata": {},
   "outputs": [
    {
     "name": "stdout",
     "output_type": "stream",
     "text": [
      "How long did Bhishma live, after He fell asleep in the arrow in Mahabharata?\n",
      "What did Bhishma do when he was on the bed of arrows?\n",
      "What led Bhishma Pitamah to arrow bed in Mahabharat battle?\n",
      "Who shot the first arrows to start the battles of the Ramayana and Mahabharata?\n",
      "How were all the arrows removed from BhishmaÃ¢ÂÂs body, before the last rites (Antima Sanskara) were performed?\n",
      "Why did Arjuna shoot so many arrows when Bheeshma had already surrendered due to the presence of Shikhandi?\n",
      "Did Rama shoot Ravana in the navel or chest?\n",
      "The strongest warrior of all time in the time of Mahabharatha\n",
      "The Karmic reason why Grandsire Bhishma had to spend the final days of his life on a Bed of Arrows\n",
      "Who was Barbarika?\n",
      "How could Lord Krishna kill Bhishma even if he wanted to?\n",
      "Name of the Demon who can finish the Mahabharatha in just a second?\n",
      "Is the notion of Bhishma preferring Arjuna's bed of arrows to pillows brought in by Duryodhana authentic?\n",
      "Is it really King Chitrabhanu of Ikshvaku race that's mentioned in the legend of Maha Shivaratri?\n",
      "Did KuntÃÂ« deliver KarÃ¡Â¹Âa through her womb?\n",
      "How did Satyavati die and how old was she at the time?\n",
      "Is Pandu's last wish, not to burn his body but eat it away, real?\n",
      "Is Shanti Parva an interpolation in the Mahabharata?\n",
      "How and when did Arjuna conquer sleep?\n",
      "Why Bhishma had to suffer the most in MahaBharat war?\n"
     ]
    }
   ],
   "source": [
    "for i in tw:\n",
    "    print(Questions['_Title'][i])"
   ]
  },
  {
   "cell_type": "code",
   "execution_count": 96,
   "metadata": {},
   "outputs": [
    {
     "data": {
      "text/plain": [
       "['How long did Bhishma live, after He fell asleep in the arrow in Mahabharata?']"
      ]
     },
     "execution_count": 96,
     "metadata": {},
     "output_type": "execute_result"
    }
   ],
   "source": [
    "e"
   ]
  },
  {
   "cell_type": "code",
   "execution_count": null,
   "metadata": {
    "collapsed": true
   },
   "outputs": [],
   "source": []
  },
  {
   "cell_type": "code",
   "execution_count": null,
   "metadata": {
    "collapsed": true
   },
   "outputs": [],
   "source": []
  },
  {
   "cell_type": "code",
   "execution_count": null,
   "metadata": {
    "collapsed": true
   },
   "outputs": [],
   "source": []
  },
  {
   "cell_type": "code",
   "execution_count": null,
   "metadata": {
    "collapsed": true
   },
   "outputs": [],
   "source": []
  },
  {
   "cell_type": "code",
   "execution_count": null,
   "metadata": {
    "collapsed": true
   },
   "outputs": [],
   "source": []
  },
  {
   "cell_type": "code",
   "execution_count": null,
   "metadata": {
    "collapsed": true
   },
   "outputs": [],
   "source": []
  },
  {
   "cell_type": "code",
   "execution_count": null,
   "metadata": {
    "collapsed": true
   },
   "outputs": [],
   "source": []
  },
  {
   "cell_type": "code",
   "execution_count": null,
   "metadata": {
    "collapsed": true
   },
   "outputs": [],
   "source": []
  },
  {
   "cell_type": "code",
   "execution_count": null,
   "metadata": {
    "collapsed": true
   },
   "outputs": [],
   "source": []
  },
  {
   "cell_type": "code",
   "execution_count": null,
   "metadata": {
    "collapsed": true
   },
   "outputs": [],
   "source": []
  }
 ],
 "metadata": {
  "kernelspec": {
   "display_name": "Python 3",
   "language": "python",
   "name": "python3"
  },
  "language_info": {
   "codemirror_mode": {
    "name": "ipython",
    "version": 3
   },
   "file_extension": ".py",
   "mimetype": "text/x-python",
   "name": "python",
   "nbconvert_exporter": "python",
   "pygments_lexer": "ipython3",
   "version": "3.6.5"
  }
 },
 "nbformat": 4,
 "nbformat_minor": 2
}
